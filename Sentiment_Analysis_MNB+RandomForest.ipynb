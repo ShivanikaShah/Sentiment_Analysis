{
  "cells": [
    {
      "cell_type": "code",
      "execution_count": null,
      "metadata": {
        "colab": {
          "base_uri": "https://localhost:8080/"
        },
        "id": "YGPKyQjs3NSI",
        "outputId": "3fe5b844-476a-43b5-f913-5091c9319e3a"
      },
      "outputs": [
        {
          "output_type": "stream",
          "name": "stdout",
          "text": [
            "NVIDIA-SMI has failed because it couldn't communicate with the NVIDIA driver. Make sure that the latest NVIDIA driver is installed and running.\n",
            "\n"
          ]
        }
      ],
      "source": [
        "!nvidia-smi -L"
      ]
    },
    {
      "cell_type": "code",
      "execution_count": null,
      "metadata": {
        "colab": {
          "base_uri": "https://localhost:8080/"
        },
        "id": "zJt4v2I6Skui",
        "outputId": "5bbc5f02-0387-4470-eb71-e88b97eacc8c"
      },
      "outputs": [
        {
          "name": "stdout",
          "output_type": "stream",
          "text": [
            "Requirement already satisfied: gensim in /usr/local/lib/python3.7/dist-packages (3.6.0)\n",
            "Collecting gensim\n",
            "  Downloading gensim-4.1.2-cp37-cp37m-manylinux_2_12_x86_64.manylinux2010_x86_64.whl (24.1 MB)\n",
            "\u001b[K     |████████████████████████████████| 24.1 MB 2.5 MB/s \n",
            "\u001b[?25hRequirement already satisfied: scipy>=0.18.1 in /usr/local/lib/python3.7/dist-packages (from gensim) (1.4.1)\n",
            "Requirement already satisfied: numpy>=1.17.0 in /usr/local/lib/python3.7/dist-packages (from gensim) (1.21.5)\n",
            "Requirement already satisfied: smart-open>=1.8.1 in /usr/local/lib/python3.7/dist-packages (from gensim) (5.2.1)\n",
            "Installing collected packages: gensim\n",
            "  Attempting uninstall: gensim\n",
            "    Found existing installation: gensim 3.6.0\n",
            "    Uninstalling gensim-3.6.0:\n",
            "      Successfully uninstalled gensim-3.6.0\n",
            "Successfully installed gensim-4.1.2\n",
            "Requirement already satisfied: keras in /usr/local/lib/python3.7/dist-packages (2.8.0)\n",
            "Requirement already satisfied: pandas in /usr/local/lib/python3.7/dist-packages (1.3.5)\n",
            "Requirement already satisfied: pytz>=2017.3 in /usr/local/lib/python3.7/dist-packages (from pandas) (2018.9)\n",
            "Requirement already satisfied: numpy>=1.17.3 in /usr/local/lib/python3.7/dist-packages (from pandas) (1.21.5)\n",
            "Requirement already satisfied: python-dateutil>=2.7.3 in /usr/local/lib/python3.7/dist-packages (from pandas) (2.8.2)\n",
            "Requirement already satisfied: six>=1.5 in /usr/local/lib/python3.7/dist-packages (from python-dateutil>=2.7.3->pandas) (1.15.0)\n"
          ]
        }
      ],
      "source": [
        "!pip install gensim --upgrade\n",
        "!pip install keras --upgrade\n",
        "!pip install pandas --upgrade"
      ]
    },
    {
      "cell_type": "markdown",
      "metadata": {
        "id": "vfgCiGRwSanq"
      },
      "source": [
        "## Importing Dependencies"
      ]
    },
    {
      "cell_type": "code",
      "execution_count": null,
      "metadata": {
        "id": "t5E1_po-SCog"
      },
      "outputs": [],
      "source": [
        "# DataFrame\n",
        "import pandas as pd\n",
        "\n",
        "# Matplot\n",
        "import seaborn as sns\n",
        "import matplotlib.pyplot as plt\n",
        "%matplotlib inline\n",
        "\n",
        "# Scikit-learn\n",
        "from sklearn.model_selection import train_test_split\n",
        "from sklearn.preprocessing import LabelEncoder\n",
        "from sklearn.metrics import confusion_matrix, classification_report, accuracy_score,f1_score\n",
        "from sklearn.manifold import TSNE\n",
        "from sklearn.feature_extraction.text import TfidfVectorizer\n",
        "from sklearn import model_selection, naive_bayes, svm\n",
        "from sklearn.svm import LinearSVC\n",
        "from sklearn.metrics import roc_curve\n",
        "from sklearn.metrics import roc_auc_score\n",
        "\n",
        "\n",
        "\n",
        "# Keras\n",
        "from keras.preprocessing.text import Tokenizer\n",
        "from keras.preprocessing.sequence import pad_sequences\n",
        "from keras.models import Sequential\n",
        "from keras.layers import Activation, Dense, Dropout, Embedding, Flatten, Conv1D, MaxPooling1D, LSTM\n",
        "from keras import utils\n",
        "from keras.callbacks import ReduceLROnPlateau, EarlyStopping\n",
        "from tensorflow.keras.preprocessing.text import one_hot\n",
        "from tensorflow.keras import optimizers\n",
        "\n",
        "\n",
        "\n",
        "# nltk\n",
        "import nltk\n",
        "from nltk.corpus import stopwords\n",
        "from  nltk.stem import SnowballStemmer\n",
        "\n",
        "# Word2vec\n",
        "import gensim\n",
        "\n",
        "# Utility\n",
        "import re\n",
        "import numpy as np\n",
        "import os\n",
        "from collections import Counter\n",
        "import logging\n",
        "import time\n",
        "import pickle\n",
        "import itertools\n",
        "\n",
        "# Set log\n",
        "logging.basicConfig(format='%(asctime)s : %(levelname)s : %(message)s', level=logging.INFO)\n"
      ]
    },
    {
      "cell_type": "markdown",
      "metadata": {
        "id": "y46eIuuESjAi"
      },
      "source": [
        "## Importing Stopwords"
      ]
    },
    {
      "cell_type": "code",
      "execution_count": null,
      "metadata": {
        "colab": {
          "base_uri": "https://localhost:8080/"
        },
        "id": "0Cb11sk_ScIw",
        "outputId": "cb0411d9-c620-4437-8fe3-49e8b0bc1089"
      },
      "outputs": [
        {
          "output_type": "stream",
          "name": "stdout",
          "text": [
            "[nltk_data] Downloading package stopwords to /root/nltk_data...\n",
            "[nltk_data]   Unzipping corpora/stopwords.zip.\n"
          ]
        },
        {
          "output_type": "execute_result",
          "data": {
            "text/plain": [
              "True"
            ]
          },
          "metadata": {},
          "execution_count": 2
        }
      ],
      "source": [
        "nltk.download('stopwords')\n"
      ]
    },
    {
      "cell_type": "markdown",
      "metadata": {
        "id": "asorqatXUadS"
      },
      "source": [
        "## Settings"
      ]
    },
    {
      "cell_type": "code",
      "execution_count": null,
      "metadata": {
        "id": "ICCWvSj0SiYY"
      },
      "outputs": [],
      "source": [
        "# DATASET\n",
        "DATASET_COLUMNS = [\"target\", \"ids\", \"date\", \"flag\", \"user\", \"text\"]\n",
        "DATASET_ENCODING = \"ISO-8859-1\"\n",
        "TRAIN_SIZE = 0.8\n",
        "\n",
        "# TEXT CLEANING\n",
        "TEXT_CLEANING_RE = \"@\\S+|https?:\\S+|http?:\\S|[^A-Za-z0-9]+\"\n",
        "\n",
        "# WORD2VEC \n",
        "W2V_SIZE = 300\n",
        "W2V_WINDOW = 7\n",
        "W2V_EPOCH = 32\n",
        "W2V_MIN_COUNT = 10\n",
        "\n",
        "# KERAS\n",
        "SEQUENCE_LENGTH = 300\n",
        "EPOCHS = 8\n",
        "BATCH_SIZE = 1024\n",
        "\n",
        "# SENTIMENT\n",
        "POSITIVE = \"POSITIVE\"\n",
        "NEGATIVE = \"NEGATIVE\"\n",
        "NEUTRAL = \"NEUTRAL\"\n",
        "SENTIMENT_THRESHOLDS = (0.4, 0.7)\n",
        "\n",
        "# EXPORT\n",
        "KERAS_MODEL = \"model.h5\"\n",
        "WORD2VEC_MODEL = \"model.w2v\"\n",
        "TOKENIZER_MODEL = \"tokenizer.pkl\"\n",
        "ENCODER_MODEL = \"encoder.pkl\"\n"
      ]
    },
    {
      "cell_type": "code",
      "execution_count": null,
      "metadata": {
        "colab": {
          "base_uri": "https://localhost:8080/"
        },
        "id": "gnC3DKOFKqaK",
        "outputId": "00760226-e562-402e-a292-deb2a6e6ae94"
      },
      "outputs": [
        {
          "output_type": "stream",
          "name": "stdout",
          "text": [
            "Mounted at /content/drive\n"
          ]
        }
      ],
      "source": [
        "from google.colab import drive\n",
        "drive.mount('/content/drive')"
      ]
    },
    {
      "cell_type": "markdown",
      "metadata": {
        "id": "R6gdzri-SyhD"
      },
      "source": [
        "## Reading in the File"
      ]
    },
    {
      "cell_type": "code",
      "execution_count": null,
      "metadata": {
        "colab": {
          "base_uri": "https://localhost:8080/"
        },
        "id": "pHMlkNWYUcVL",
        "outputId": "efff63b5-65fb-439f-9c62-7c94feaf6a73"
      },
      "outputs": [
        {
          "output_type": "stream",
          "name": "stdout",
          "text": [
            "Open file: /content/drive/MyDrive/AI Project/training.1600000.processed.noemoticon.csv\n"
          ]
        }
      ],
      "source": [
        "dataset_path = \"/content/drive/MyDrive/AI Project/training.1600000.processed.noemoticon.csv\"\n",
        "\n",
        "\n",
        "print(\"Open file:\", dataset_path)\n",
        "df = pd.read_csv(dataset_path, encoding =DATASET_ENCODING , names=DATASET_COLUMNS)"
      ]
    },
    {
      "cell_type": "code",
      "execution_count": null,
      "metadata": {
        "colab": {
          "base_uri": "https://localhost:8080/"
        },
        "id": "RG664l49U6iX",
        "outputId": "a1aadeff-eea0-44eb-ea50-281f7c3cfaa6"
      },
      "outputs": [
        {
          "output_type": "execute_result",
          "data": {
            "text/plain": [
              "(1600000, 6)"
            ]
          },
          "metadata": {},
          "execution_count": 6
        }
      ],
      "source": [
        "df.shape"
      ]
    },
    {
      "cell_type": "code",
      "execution_count": null,
      "metadata": {
        "colab": {
          "base_uri": "https://localhost:8080/",
          "height": 206
        },
        "id": "kyUCyLXbV8Wr",
        "outputId": "19fa25d8-8d6e-4ca9-90c2-45a656cb3975"
      },
      "outputs": [
        {
          "output_type": "execute_result",
          "data": {
            "text/plain": [
              "   target         ids                          date      flag  \\\n",
              "0       0  1467810369  Mon Apr 06 22:19:45 PDT 2009  NO_QUERY   \n",
              "1       0  1467810672  Mon Apr 06 22:19:49 PDT 2009  NO_QUERY   \n",
              "2       0  1467810917  Mon Apr 06 22:19:53 PDT 2009  NO_QUERY   \n",
              "3       0  1467811184  Mon Apr 06 22:19:57 PDT 2009  NO_QUERY   \n",
              "4       0  1467811193  Mon Apr 06 22:19:57 PDT 2009  NO_QUERY   \n",
              "\n",
              "              user                                               text  \n",
              "0  _TheSpecialOne_  @switchfoot http://twitpic.com/2y1zl - Awww, t...  \n",
              "1    scotthamilton  is upset that he can't update his Facebook by ...  \n",
              "2         mattycus  @Kenichan I dived many times for the ball. Man...  \n",
              "3          ElleCTF    my whole body feels itchy and like its on fire   \n",
              "4           Karoli  @nationwideclass no, it's not behaving at all....  "
            ],
            "text/html": [
              "\n",
              "  <div id=\"df-000eb525-c3ac-407d-aea9-2c3c8da81566\">\n",
              "    <div class=\"colab-df-container\">\n",
              "      <div>\n",
              "<style scoped>\n",
              "    .dataframe tbody tr th:only-of-type {\n",
              "        vertical-align: middle;\n",
              "    }\n",
              "\n",
              "    .dataframe tbody tr th {\n",
              "        vertical-align: top;\n",
              "    }\n",
              "\n",
              "    .dataframe thead th {\n",
              "        text-align: right;\n",
              "    }\n",
              "</style>\n",
              "<table border=\"1\" class=\"dataframe\">\n",
              "  <thead>\n",
              "    <tr style=\"text-align: right;\">\n",
              "      <th></th>\n",
              "      <th>target</th>\n",
              "      <th>ids</th>\n",
              "      <th>date</th>\n",
              "      <th>flag</th>\n",
              "      <th>user</th>\n",
              "      <th>text</th>\n",
              "    </tr>\n",
              "  </thead>\n",
              "  <tbody>\n",
              "    <tr>\n",
              "      <th>0</th>\n",
              "      <td>0</td>\n",
              "      <td>1467810369</td>\n",
              "      <td>Mon Apr 06 22:19:45 PDT 2009</td>\n",
              "      <td>NO_QUERY</td>\n",
              "      <td>_TheSpecialOne_</td>\n",
              "      <td>@switchfoot http://twitpic.com/2y1zl - Awww, t...</td>\n",
              "    </tr>\n",
              "    <tr>\n",
              "      <th>1</th>\n",
              "      <td>0</td>\n",
              "      <td>1467810672</td>\n",
              "      <td>Mon Apr 06 22:19:49 PDT 2009</td>\n",
              "      <td>NO_QUERY</td>\n",
              "      <td>scotthamilton</td>\n",
              "      <td>is upset that he can't update his Facebook by ...</td>\n",
              "    </tr>\n",
              "    <tr>\n",
              "      <th>2</th>\n",
              "      <td>0</td>\n",
              "      <td>1467810917</td>\n",
              "      <td>Mon Apr 06 22:19:53 PDT 2009</td>\n",
              "      <td>NO_QUERY</td>\n",
              "      <td>mattycus</td>\n",
              "      <td>@Kenichan I dived many times for the ball. Man...</td>\n",
              "    </tr>\n",
              "    <tr>\n",
              "      <th>3</th>\n",
              "      <td>0</td>\n",
              "      <td>1467811184</td>\n",
              "      <td>Mon Apr 06 22:19:57 PDT 2009</td>\n",
              "      <td>NO_QUERY</td>\n",
              "      <td>ElleCTF</td>\n",
              "      <td>my whole body feels itchy and like its on fire</td>\n",
              "    </tr>\n",
              "    <tr>\n",
              "      <th>4</th>\n",
              "      <td>0</td>\n",
              "      <td>1467811193</td>\n",
              "      <td>Mon Apr 06 22:19:57 PDT 2009</td>\n",
              "      <td>NO_QUERY</td>\n",
              "      <td>Karoli</td>\n",
              "      <td>@nationwideclass no, it's not behaving at all....</td>\n",
              "    </tr>\n",
              "  </tbody>\n",
              "</table>\n",
              "</div>\n",
              "      <button class=\"colab-df-convert\" onclick=\"convertToInteractive('df-000eb525-c3ac-407d-aea9-2c3c8da81566')\"\n",
              "              title=\"Convert this dataframe to an interactive table.\"\n",
              "              style=\"display:none;\">\n",
              "        \n",
              "  <svg xmlns=\"http://www.w3.org/2000/svg\" height=\"24px\"viewBox=\"0 0 24 24\"\n",
              "       width=\"24px\">\n",
              "    <path d=\"M0 0h24v24H0V0z\" fill=\"none\"/>\n",
              "    <path d=\"M18.56 5.44l.94 2.06.94-2.06 2.06-.94-2.06-.94-.94-2.06-.94 2.06-2.06.94zm-11 1L8.5 8.5l.94-2.06 2.06-.94-2.06-.94L8.5 2.5l-.94 2.06-2.06.94zm10 10l.94 2.06.94-2.06 2.06-.94-2.06-.94-.94-2.06-.94 2.06-2.06.94z\"/><path d=\"M17.41 7.96l-1.37-1.37c-.4-.4-.92-.59-1.43-.59-.52 0-1.04.2-1.43.59L10.3 9.45l-7.72 7.72c-.78.78-.78 2.05 0 2.83L4 21.41c.39.39.9.59 1.41.59.51 0 1.02-.2 1.41-.59l7.78-7.78 2.81-2.81c.8-.78.8-2.07 0-2.86zM5.41 20L4 18.59l7.72-7.72 1.47 1.35L5.41 20z\"/>\n",
              "  </svg>\n",
              "      </button>\n",
              "      \n",
              "  <style>\n",
              "    .colab-df-container {\n",
              "      display:flex;\n",
              "      flex-wrap:wrap;\n",
              "      gap: 12px;\n",
              "    }\n",
              "\n",
              "    .colab-df-convert {\n",
              "      background-color: #E8F0FE;\n",
              "      border: none;\n",
              "      border-radius: 50%;\n",
              "      cursor: pointer;\n",
              "      display: none;\n",
              "      fill: #1967D2;\n",
              "      height: 32px;\n",
              "      padding: 0 0 0 0;\n",
              "      width: 32px;\n",
              "    }\n",
              "\n",
              "    .colab-df-convert:hover {\n",
              "      background-color: #E2EBFA;\n",
              "      box-shadow: 0px 1px 2px rgba(60, 64, 67, 0.3), 0px 1px 3px 1px rgba(60, 64, 67, 0.15);\n",
              "      fill: #174EA6;\n",
              "    }\n",
              "\n",
              "    [theme=dark] .colab-df-convert {\n",
              "      background-color: #3B4455;\n",
              "      fill: #D2E3FC;\n",
              "    }\n",
              "\n",
              "    [theme=dark] .colab-df-convert:hover {\n",
              "      background-color: #434B5C;\n",
              "      box-shadow: 0px 1px 3px 1px rgba(0, 0, 0, 0.15);\n",
              "      filter: drop-shadow(0px 1px 2px rgba(0, 0, 0, 0.3));\n",
              "      fill: #FFFFFF;\n",
              "    }\n",
              "  </style>\n",
              "\n",
              "      <script>\n",
              "        const buttonEl =\n",
              "          document.querySelector('#df-000eb525-c3ac-407d-aea9-2c3c8da81566 button.colab-df-convert');\n",
              "        buttonEl.style.display =\n",
              "          google.colab.kernel.accessAllowed ? 'block' : 'none';\n",
              "\n",
              "        async function convertToInteractive(key) {\n",
              "          const element = document.querySelector('#df-000eb525-c3ac-407d-aea9-2c3c8da81566');\n",
              "          const dataTable =\n",
              "            await google.colab.kernel.invokeFunction('convertToInteractive',\n",
              "                                                     [key], {});\n",
              "          if (!dataTable) return;\n",
              "\n",
              "          const docLinkHtml = 'Like what you see? Visit the ' +\n",
              "            '<a target=\"_blank\" href=https://colab.research.google.com/notebooks/data_table.ipynb>data table notebook</a>'\n",
              "            + ' to learn more about interactive tables.';\n",
              "          element.innerHTML = '';\n",
              "          dataTable['output_type'] = 'display_data';\n",
              "          await google.colab.output.renderOutput(dataTable, element);\n",
              "          const docLink = document.createElement('div');\n",
              "          docLink.innerHTML = docLinkHtml;\n",
              "          element.appendChild(docLink);\n",
              "        }\n",
              "      </script>\n",
              "    </div>\n",
              "  </div>\n",
              "  "
            ]
          },
          "metadata": {},
          "execution_count": 7
        }
      ],
      "source": [
        "df.head()"
      ]
    },
    {
      "cell_type": "markdown",
      "metadata": {
        "id": "9l6QyDFhN4Yj"
      },
      "source": [
        "# Extracting a subset from the main dataset due to space constraint"
      ]
    },
    {
      "cell_type": "code",
      "execution_count": null,
      "metadata": {
        "id": "lwvGDkmaOEKJ"
      },
      "outputs": [],
      "source": [
        "from sklearn.model_selection import train_test_split\n",
        "x_train, df2, y_train, df3 = train_test_split(df.iloc[:,1:], df.iloc[:,0:1], test_size=0.125, random_state=19, stratify=df['target'])\n",
        "df1 = pd.concat([df3, df2], axis = 1)"
      ]
    },
    {
      "cell_type": "code",
      "execution_count": null,
      "metadata": {
        "colab": {
          "base_uri": "https://localhost:8080/",
          "height": 206
        },
        "id": "d5K9y8W5v60z",
        "outputId": "54280839-c114-43ae-8614-a07cb4d57b5b"
      },
      "outputs": [
        {
          "output_type": "execute_result",
          "data": {
            "text/plain": [
              "         target         ids                          date      flag  \\\n",
              "513467        0  2190392801  Tue Jun 16 02:35:58 PDT 2009  NO_QUERY   \n",
              "317873        0  2002701375  Tue Jun 02 04:56:34 PDT 2009  NO_QUERY   \n",
              "1106322       4  1971410827  Sat May 30 07:02:48 PDT 2009  NO_QUERY   \n",
              "430836        0  2064416725  Sun Jun 07 06:12:25 PDT 2009  NO_QUERY   \n",
              "1211267       4  1989134863  Mon Jun 01 00:27:37 PDT 2009  NO_QUERY   \n",
              "\n",
              "                   user                                               text  \n",
              "513467      ericaaviles  Yay for Jon and Kate + 8! boo for having to wo...  \n",
              "317873        janine_j9  @TimothyH2O sorry about last night I would hav...  \n",
              "1106322  CandisDanielle  Good Morning my Twitter Loves.....Have a wonde...  \n",
              "430836        Portiaism  @jamesheart24 I am great.. 'Revising' for my l...  \n",
              "1211267       fadedmoon  @AmyyVee wehehehehe sorry.... :| ) So whats new?   "
            ],
            "text/html": [
              "\n",
              "  <div id=\"df-ef3c30fe-df0b-4b07-adcd-36feb6b10840\">\n",
              "    <div class=\"colab-df-container\">\n",
              "      <div>\n",
              "<style scoped>\n",
              "    .dataframe tbody tr th:only-of-type {\n",
              "        vertical-align: middle;\n",
              "    }\n",
              "\n",
              "    .dataframe tbody tr th {\n",
              "        vertical-align: top;\n",
              "    }\n",
              "\n",
              "    .dataframe thead th {\n",
              "        text-align: right;\n",
              "    }\n",
              "</style>\n",
              "<table border=\"1\" class=\"dataframe\">\n",
              "  <thead>\n",
              "    <tr style=\"text-align: right;\">\n",
              "      <th></th>\n",
              "      <th>target</th>\n",
              "      <th>ids</th>\n",
              "      <th>date</th>\n",
              "      <th>flag</th>\n",
              "      <th>user</th>\n",
              "      <th>text</th>\n",
              "    </tr>\n",
              "  </thead>\n",
              "  <tbody>\n",
              "    <tr>\n",
              "      <th>513467</th>\n",
              "      <td>0</td>\n",
              "      <td>2190392801</td>\n",
              "      <td>Tue Jun 16 02:35:58 PDT 2009</td>\n",
              "      <td>NO_QUERY</td>\n",
              "      <td>ericaaviles</td>\n",
              "      <td>Yay for Jon and Kate + 8! boo for having to wo...</td>\n",
              "    </tr>\n",
              "    <tr>\n",
              "      <th>317873</th>\n",
              "      <td>0</td>\n",
              "      <td>2002701375</td>\n",
              "      <td>Tue Jun 02 04:56:34 PDT 2009</td>\n",
              "      <td>NO_QUERY</td>\n",
              "      <td>janine_j9</td>\n",
              "      <td>@TimothyH2O sorry about last night I would hav...</td>\n",
              "    </tr>\n",
              "    <tr>\n",
              "      <th>1106322</th>\n",
              "      <td>4</td>\n",
              "      <td>1971410827</td>\n",
              "      <td>Sat May 30 07:02:48 PDT 2009</td>\n",
              "      <td>NO_QUERY</td>\n",
              "      <td>CandisDanielle</td>\n",
              "      <td>Good Morning my Twitter Loves.....Have a wonde...</td>\n",
              "    </tr>\n",
              "    <tr>\n",
              "      <th>430836</th>\n",
              "      <td>0</td>\n",
              "      <td>2064416725</td>\n",
              "      <td>Sun Jun 07 06:12:25 PDT 2009</td>\n",
              "      <td>NO_QUERY</td>\n",
              "      <td>Portiaism</td>\n",
              "      <td>@jamesheart24 I am great.. 'Revising' for my l...</td>\n",
              "    </tr>\n",
              "    <tr>\n",
              "      <th>1211267</th>\n",
              "      <td>4</td>\n",
              "      <td>1989134863</td>\n",
              "      <td>Mon Jun 01 00:27:37 PDT 2009</td>\n",
              "      <td>NO_QUERY</td>\n",
              "      <td>fadedmoon</td>\n",
              "      <td>@AmyyVee wehehehehe sorry.... :| ) So whats new?</td>\n",
              "    </tr>\n",
              "  </tbody>\n",
              "</table>\n",
              "</div>\n",
              "      <button class=\"colab-df-convert\" onclick=\"convertToInteractive('df-ef3c30fe-df0b-4b07-adcd-36feb6b10840')\"\n",
              "              title=\"Convert this dataframe to an interactive table.\"\n",
              "              style=\"display:none;\">\n",
              "        \n",
              "  <svg xmlns=\"http://www.w3.org/2000/svg\" height=\"24px\"viewBox=\"0 0 24 24\"\n",
              "       width=\"24px\">\n",
              "    <path d=\"M0 0h24v24H0V0z\" fill=\"none\"/>\n",
              "    <path d=\"M18.56 5.44l.94 2.06.94-2.06 2.06-.94-2.06-.94-.94-2.06-.94 2.06-2.06.94zm-11 1L8.5 8.5l.94-2.06 2.06-.94-2.06-.94L8.5 2.5l-.94 2.06-2.06.94zm10 10l.94 2.06.94-2.06 2.06-.94-2.06-.94-.94-2.06-.94 2.06-2.06.94z\"/><path d=\"M17.41 7.96l-1.37-1.37c-.4-.4-.92-.59-1.43-.59-.52 0-1.04.2-1.43.59L10.3 9.45l-7.72 7.72c-.78.78-.78 2.05 0 2.83L4 21.41c.39.39.9.59 1.41.59.51 0 1.02-.2 1.41-.59l7.78-7.78 2.81-2.81c.8-.78.8-2.07 0-2.86zM5.41 20L4 18.59l7.72-7.72 1.47 1.35L5.41 20z\"/>\n",
              "  </svg>\n",
              "      </button>\n",
              "      \n",
              "  <style>\n",
              "    .colab-df-container {\n",
              "      display:flex;\n",
              "      flex-wrap:wrap;\n",
              "      gap: 12px;\n",
              "    }\n",
              "\n",
              "    .colab-df-convert {\n",
              "      background-color: #E8F0FE;\n",
              "      border: none;\n",
              "      border-radius: 50%;\n",
              "      cursor: pointer;\n",
              "      display: none;\n",
              "      fill: #1967D2;\n",
              "      height: 32px;\n",
              "      padding: 0 0 0 0;\n",
              "      width: 32px;\n",
              "    }\n",
              "\n",
              "    .colab-df-convert:hover {\n",
              "      background-color: #E2EBFA;\n",
              "      box-shadow: 0px 1px 2px rgba(60, 64, 67, 0.3), 0px 1px 3px 1px rgba(60, 64, 67, 0.15);\n",
              "      fill: #174EA6;\n",
              "    }\n",
              "\n",
              "    [theme=dark] .colab-df-convert {\n",
              "      background-color: #3B4455;\n",
              "      fill: #D2E3FC;\n",
              "    }\n",
              "\n",
              "    [theme=dark] .colab-df-convert:hover {\n",
              "      background-color: #434B5C;\n",
              "      box-shadow: 0px 1px 3px 1px rgba(0, 0, 0, 0.15);\n",
              "      filter: drop-shadow(0px 1px 2px rgba(0, 0, 0, 0.3));\n",
              "      fill: #FFFFFF;\n",
              "    }\n",
              "  </style>\n",
              "\n",
              "      <script>\n",
              "        const buttonEl =\n",
              "          document.querySelector('#df-ef3c30fe-df0b-4b07-adcd-36feb6b10840 button.colab-df-convert');\n",
              "        buttonEl.style.display =\n",
              "          google.colab.kernel.accessAllowed ? 'block' : 'none';\n",
              "\n",
              "        async function convertToInteractive(key) {\n",
              "          const element = document.querySelector('#df-ef3c30fe-df0b-4b07-adcd-36feb6b10840');\n",
              "          const dataTable =\n",
              "            await google.colab.kernel.invokeFunction('convertToInteractive',\n",
              "                                                     [key], {});\n",
              "          if (!dataTable) return;\n",
              "\n",
              "          const docLinkHtml = 'Like what you see? Visit the ' +\n",
              "            '<a target=\"_blank\" href=https://colab.research.google.com/notebooks/data_table.ipynb>data table notebook</a>'\n",
              "            + ' to learn more about interactive tables.';\n",
              "          element.innerHTML = '';\n",
              "          dataTable['output_type'] = 'display_data';\n",
              "          await google.colab.output.renderOutput(dataTable, element);\n",
              "          const docLink = document.createElement('div');\n",
              "          docLink.innerHTML = docLinkHtml;\n",
              "          element.appendChild(docLink);\n",
              "        }\n",
              "      </script>\n",
              "    </div>\n",
              "  </div>\n",
              "  "
            ]
          },
          "metadata": {},
          "execution_count": 10
        }
      ],
      "source": [
        "df1.head()"
      ]
    },
    {
      "cell_type": "code",
      "execution_count": null,
      "metadata": {
        "colab": {
          "base_uri": "https://localhost:8080/"
        },
        "id": "fZm4P5YlzO79",
        "outputId": "0e50d9a9-604f-4e66-b16c-ab26f61ba853"
      },
      "outputs": [
        {
          "output_type": "execute_result",
          "data": {
            "text/plain": [
              "(200000, 6)"
            ]
          },
          "metadata": {},
          "execution_count": 9
        }
      ],
      "source": [
        "df1.shape"
      ]
    },
    {
      "cell_type": "markdown",
      "metadata": {
        "id": "DnTlza-t4Tmv"
      },
      "source": [
        "# Map Label to String"
      ]
    },
    {
      "cell_type": "code",
      "execution_count": null,
      "metadata": {
        "id": "b6gUmeHj4S6S"
      },
      "outputs": [],
      "source": [
        "decode_map = {0: \"NEGATIVE\", 2: \"NEUTRAL\", 4: \"POSITIVE\"}\n",
        "def decode_sentiment(label):\n",
        "    return decode_map[int(label)]"
      ]
    },
    {
      "cell_type": "code",
      "execution_count": null,
      "metadata": {
        "colab": {
          "base_uri": "https://localhost:8080/"
        },
        "id": "xft4Peky4hiS",
        "outputId": "1ca84efe-eeb0-4130-a1ec-bea52eb11030"
      },
      "outputs": [
        {
          "output_type": "stream",
          "name": "stdout",
          "text": [
            "CPU times: user 68.3 ms, sys: 0 ns, total: 68.3 ms\n",
            "Wall time: 70.4 ms\n"
          ]
        }
      ],
      "source": [
        "%%time\n",
        "df1.target = df1.target.apply(lambda x: decode_sentiment(x))"
      ]
    },
    {
      "cell_type": "code",
      "execution_count": null,
      "metadata": {
        "colab": {
          "base_uri": "https://localhost:8080/",
          "height": 206
        },
        "id": "m3q1EwaaLVaF",
        "outputId": "24a521f2-e916-44d0-c18b-55443a7b2551"
      },
      "outputs": [
        {
          "output_type": "execute_result",
          "data": {
            "text/plain": [
              "           target         ids                          date      flag  \\\n",
              "513467   NEGATIVE  2190392801  Tue Jun 16 02:35:58 PDT 2009  NO_QUERY   \n",
              "317873   NEGATIVE  2002701375  Tue Jun 02 04:56:34 PDT 2009  NO_QUERY   \n",
              "1106322  POSITIVE  1971410827  Sat May 30 07:02:48 PDT 2009  NO_QUERY   \n",
              "430836   NEGATIVE  2064416725  Sun Jun 07 06:12:25 PDT 2009  NO_QUERY   \n",
              "1211267  POSITIVE  1989134863  Mon Jun 01 00:27:37 PDT 2009  NO_QUERY   \n",
              "\n",
              "                   user                                               text  \n",
              "513467      ericaaviles  Yay for Jon and Kate + 8! boo for having to wo...  \n",
              "317873        janine_j9  @TimothyH2O sorry about last night I would hav...  \n",
              "1106322  CandisDanielle  Good Morning my Twitter Loves.....Have a wonde...  \n",
              "430836        Portiaism  @jamesheart24 I am great.. 'Revising' for my l...  \n",
              "1211267       fadedmoon  @AmyyVee wehehehehe sorry.... :| ) So whats new?   "
            ],
            "text/html": [
              "\n",
              "  <div id=\"df-886ccdf0-edfb-4836-bec3-c15c60e4e384\">\n",
              "    <div class=\"colab-df-container\">\n",
              "      <div>\n",
              "<style scoped>\n",
              "    .dataframe tbody tr th:only-of-type {\n",
              "        vertical-align: middle;\n",
              "    }\n",
              "\n",
              "    .dataframe tbody tr th {\n",
              "        vertical-align: top;\n",
              "    }\n",
              "\n",
              "    .dataframe thead th {\n",
              "        text-align: right;\n",
              "    }\n",
              "</style>\n",
              "<table border=\"1\" class=\"dataframe\">\n",
              "  <thead>\n",
              "    <tr style=\"text-align: right;\">\n",
              "      <th></th>\n",
              "      <th>target</th>\n",
              "      <th>ids</th>\n",
              "      <th>date</th>\n",
              "      <th>flag</th>\n",
              "      <th>user</th>\n",
              "      <th>text</th>\n",
              "    </tr>\n",
              "  </thead>\n",
              "  <tbody>\n",
              "    <tr>\n",
              "      <th>513467</th>\n",
              "      <td>NEGATIVE</td>\n",
              "      <td>2190392801</td>\n",
              "      <td>Tue Jun 16 02:35:58 PDT 2009</td>\n",
              "      <td>NO_QUERY</td>\n",
              "      <td>ericaaviles</td>\n",
              "      <td>Yay for Jon and Kate + 8! boo for having to wo...</td>\n",
              "    </tr>\n",
              "    <tr>\n",
              "      <th>317873</th>\n",
              "      <td>NEGATIVE</td>\n",
              "      <td>2002701375</td>\n",
              "      <td>Tue Jun 02 04:56:34 PDT 2009</td>\n",
              "      <td>NO_QUERY</td>\n",
              "      <td>janine_j9</td>\n",
              "      <td>@TimothyH2O sorry about last night I would hav...</td>\n",
              "    </tr>\n",
              "    <tr>\n",
              "      <th>1106322</th>\n",
              "      <td>POSITIVE</td>\n",
              "      <td>1971410827</td>\n",
              "      <td>Sat May 30 07:02:48 PDT 2009</td>\n",
              "      <td>NO_QUERY</td>\n",
              "      <td>CandisDanielle</td>\n",
              "      <td>Good Morning my Twitter Loves.....Have a wonde...</td>\n",
              "    </tr>\n",
              "    <tr>\n",
              "      <th>430836</th>\n",
              "      <td>NEGATIVE</td>\n",
              "      <td>2064416725</td>\n",
              "      <td>Sun Jun 07 06:12:25 PDT 2009</td>\n",
              "      <td>NO_QUERY</td>\n",
              "      <td>Portiaism</td>\n",
              "      <td>@jamesheart24 I am great.. 'Revising' for my l...</td>\n",
              "    </tr>\n",
              "    <tr>\n",
              "      <th>1211267</th>\n",
              "      <td>POSITIVE</td>\n",
              "      <td>1989134863</td>\n",
              "      <td>Mon Jun 01 00:27:37 PDT 2009</td>\n",
              "      <td>NO_QUERY</td>\n",
              "      <td>fadedmoon</td>\n",
              "      <td>@AmyyVee wehehehehe sorry.... :| ) So whats new?</td>\n",
              "    </tr>\n",
              "  </tbody>\n",
              "</table>\n",
              "</div>\n",
              "      <button class=\"colab-df-convert\" onclick=\"convertToInteractive('df-886ccdf0-edfb-4836-bec3-c15c60e4e384')\"\n",
              "              title=\"Convert this dataframe to an interactive table.\"\n",
              "              style=\"display:none;\">\n",
              "        \n",
              "  <svg xmlns=\"http://www.w3.org/2000/svg\" height=\"24px\"viewBox=\"0 0 24 24\"\n",
              "       width=\"24px\">\n",
              "    <path d=\"M0 0h24v24H0V0z\" fill=\"none\"/>\n",
              "    <path d=\"M18.56 5.44l.94 2.06.94-2.06 2.06-.94-2.06-.94-.94-2.06-.94 2.06-2.06.94zm-11 1L8.5 8.5l.94-2.06 2.06-.94-2.06-.94L8.5 2.5l-.94 2.06-2.06.94zm10 10l.94 2.06.94-2.06 2.06-.94-2.06-.94-.94-2.06-.94 2.06-2.06.94z\"/><path d=\"M17.41 7.96l-1.37-1.37c-.4-.4-.92-.59-1.43-.59-.52 0-1.04.2-1.43.59L10.3 9.45l-7.72 7.72c-.78.78-.78 2.05 0 2.83L4 21.41c.39.39.9.59 1.41.59.51 0 1.02-.2 1.41-.59l7.78-7.78 2.81-2.81c.8-.78.8-2.07 0-2.86zM5.41 20L4 18.59l7.72-7.72 1.47 1.35L5.41 20z\"/>\n",
              "  </svg>\n",
              "      </button>\n",
              "      \n",
              "  <style>\n",
              "    .colab-df-container {\n",
              "      display:flex;\n",
              "      flex-wrap:wrap;\n",
              "      gap: 12px;\n",
              "    }\n",
              "\n",
              "    .colab-df-convert {\n",
              "      background-color: #E8F0FE;\n",
              "      border: none;\n",
              "      border-radius: 50%;\n",
              "      cursor: pointer;\n",
              "      display: none;\n",
              "      fill: #1967D2;\n",
              "      height: 32px;\n",
              "      padding: 0 0 0 0;\n",
              "      width: 32px;\n",
              "    }\n",
              "\n",
              "    .colab-df-convert:hover {\n",
              "      background-color: #E2EBFA;\n",
              "      box-shadow: 0px 1px 2px rgba(60, 64, 67, 0.3), 0px 1px 3px 1px rgba(60, 64, 67, 0.15);\n",
              "      fill: #174EA6;\n",
              "    }\n",
              "\n",
              "    [theme=dark] .colab-df-convert {\n",
              "      background-color: #3B4455;\n",
              "      fill: #D2E3FC;\n",
              "    }\n",
              "\n",
              "    [theme=dark] .colab-df-convert:hover {\n",
              "      background-color: #434B5C;\n",
              "      box-shadow: 0px 1px 3px 1px rgba(0, 0, 0, 0.15);\n",
              "      filter: drop-shadow(0px 1px 2px rgba(0, 0, 0, 0.3));\n",
              "      fill: #FFFFFF;\n",
              "    }\n",
              "  </style>\n",
              "\n",
              "      <script>\n",
              "        const buttonEl =\n",
              "          document.querySelector('#df-886ccdf0-edfb-4836-bec3-c15c60e4e384 button.colab-df-convert');\n",
              "        buttonEl.style.display =\n",
              "          google.colab.kernel.accessAllowed ? 'block' : 'none';\n",
              "\n",
              "        async function convertToInteractive(key) {\n",
              "          const element = document.querySelector('#df-886ccdf0-edfb-4836-bec3-c15c60e4e384');\n",
              "          const dataTable =\n",
              "            await google.colab.kernel.invokeFunction('convertToInteractive',\n",
              "                                                     [key], {});\n",
              "          if (!dataTable) return;\n",
              "\n",
              "          const docLinkHtml = 'Like what you see? Visit the ' +\n",
              "            '<a target=\"_blank\" href=https://colab.research.google.com/notebooks/data_table.ipynb>data table notebook</a>'\n",
              "            + ' to learn more about interactive tables.';\n",
              "          element.innerHTML = '';\n",
              "          dataTable['output_type'] = 'display_data';\n",
              "          await google.colab.output.renderOutput(dataTable, element);\n",
              "          const docLink = document.createElement('div');\n",
              "          docLink.innerHTML = docLinkHtml;\n",
              "          element.appendChild(docLink);\n",
              "        }\n",
              "      </script>\n",
              "    </div>\n",
              "  </div>\n",
              "  "
            ]
          },
          "metadata": {},
          "execution_count": 13
        }
      ],
      "source": [
        "df1.head()"
      ]
    },
    {
      "cell_type": "markdown",
      "metadata": {
        "id": "N5PiszYw4qod"
      },
      "source": [
        "## Check distribution of sentiments"
      ]
    },
    {
      "cell_type": "code",
      "execution_count": null,
      "metadata": {
        "colab": {
          "base_uri": "https://localhost:8080/",
          "height": 517
        },
        "id": "mrRtkPzv4qF6",
        "outputId": "86d3ff6e-1e0e-4e8f-c858-9cf4b4cd7bee"
      },
      "outputs": [
        {
          "output_type": "execute_result",
          "data": {
            "text/plain": [
              "Text(0.5, 1.0, 'Dataset labels distribuition')"
            ]
          },
          "metadata": {},
          "execution_count": 14
        },
        {
          "output_type": "display_data",
          "data": {
            "text/plain": [
              "<Figure size 1152x576 with 1 Axes>"
            ],
            "image/png": "[encoded data removed]"
          },
          "metadata": {
            "needs_background": "light"
          }
        }
      ],
      "source": [
        "target_cnt = Counter(df1.target)\n",
        "\n",
        "plt.figure(figsize=(16,8))\n",
        "plt.bar(target_cnt.keys(), target_cnt.values())\n",
        "plt.title(\"Dataset labels distribuition\")"
      ]
    },
    {
      "cell_type": "markdown",
      "metadata": {
        "id": "ORWXkIMa4y0E"
      },
      "source": [
        "## Preprocessing the dataset"
      ]
    },
    {
      "cell_type": "code",
      "execution_count": null,
      "metadata": {
        "id": "stN7cmdj4yNh"
      },
      "outputs": [],
      "source": [
        "stop_words = stopwords.words(\"english\")\n",
        "stemmer = SnowballStemmer(\"english\")"
      ]
    },
    {
      "cell_type": "markdown",
      "metadata": {
        "id": "cHy9WYfwMUxP"
      },
      "source": [
        "## Text Preprocessing"
      ]
    },
    {
      "cell_type": "markdown",
      "source": [
        "# **Tokenising with lemmatization**"
      ],
      "metadata": {
        "id": "vvgJbGAUF8XV"
      }
    },
    {
      "cell_type": "code",
      "source": [
        "nltk.download('wordnet')\n",
        "from nltk.stem import WordNetLemmatizer\n",
        "lem = WordNetLemmatizer()\n",
        "def preprocess_lemma(text):\n",
        "    # Remove link,user and special characters\n",
        "    text = re.sub(TEXT_CLEANING_RE, ' ', str(text).lower()).strip()\n",
        "    tokens = []\n",
        "    for token in text.split():\n",
        "        if token not in stop_words:\n",
        "          tokens.append(lem.lemmatize(token))\n",
        "            \n",
        "    return \" \".join(tokens)"
      ],
      "metadata": {
        "colab": {
          "base_uri": "https://localhost:8080/"
        },
        "id": "FyaYpIC5GL3z",
        "outputId": "82560955-47a2-4472-d20d-39ad8d9dad4c"
      },
      "execution_count": null,
      "outputs": [
        {
          "output_type": "stream",
          "name": "stdout",
          "text": [
            "[nltk_data] Downloading package wordnet to /root/nltk_data...\n",
            "[nltk_data]   Package wordnet is already up-to-date!\n"
          ]
        }
      ]
    },
    {
      "cell_type": "code",
      "execution_count": null,
      "metadata": {
        "colab": {
          "base_uri": "https://localhost:8080/"
        },
        "id": "DWTwnsvcM7wB",
        "outputId": "7564acf1-f2cb-483a-94dc-27f5944368c1"
      },
      "outputs": [
        {
          "output_type": "stream",
          "name": "stdout",
          "text": [
            "CPU times: user 16.4 s, sys: 204 ms, total: 16.6 s\n",
            "Wall time: 16.6 s\n"
          ]
        }
      ],
      "source": [
        "%%time\n",
        "df1['text_clean'] = df1.text.apply(lambda x: preprocess_lemma(x))\n"
      ]
    },
    {
      "cell_type": "code",
      "execution_count": null,
      "metadata": {
        "colab": {
          "base_uri": "https://localhost:8080/"
        },
        "id": "3-lCL2oCOwOy",
        "outputId": "ef5c1dea-d503-4734-af8c-89959f4ff609"
      },
      "outputs": [
        {
          "output_type": "stream",
          "name": "stdout",
          "text": [
            "                                                      text  \\\n",
            "513467   Yay for Jon and Kate + 8! boo for having to wo...   \n",
            "317873   @TimothyH2O sorry about last night I would hav...   \n",
            "1106322  Good Morning my Twitter Loves.....Have a wonde...   \n",
            "430836   @jamesheart24 I am great.. 'Revising' for my l...   \n",
            "1211267  @AmyyVee wehehehehe sorry.... :| ) So whats new?    \n",
            "\n",
            "                                      text_clean  \n",
            "513467              yay jon kate 8 boo work 10am  \n",
            "317873        sorry last night would stayed left  \n",
            "1106322  good morning twitter love wonderful day  \n",
            "430836             great revising last exam done  \n",
            "1211267               wehehehehe sorry whats new  \n"
          ]
        }
      ],
      "source": [
        "with pd.option_context('display.max_columns', None,'display.precision', 3,):\n",
        " print(df1.iloc[0:5,5:7])\n"
      ]
    },
    {
      "cell_type": "markdown",
      "source": [
        "## Making Utitlity functions for Model diagnostics and comparison"
      ],
      "metadata": {
        "id": "_z73CDIKG8Rv"
      }
    },
    {
      "cell_type": "code",
      "source": [
        "import matplotlib.pyplot as plt \n",
        "from sklearn.model_selection import train_test_split, StratifiedKFold, cross_val_score\n",
        "from sklearn import model_selection, naive_bayes, svm\n",
        "from sklearn.metrics import classification_report,confusion_matrix\n",
        "from sklearn.metrics import roc_auc_score\n",
        "from sklearn.metrics import recall_score\n",
        "from sklearn.metrics import f1_score\n",
        "from sklearn.metrics import confusion_matrix, accuracy_score\n",
        "from sklearn.model_selection import GridSearchCV\n",
        "from sklearn.metrics import precision_recall_curve\n",
        "from sklearn.metrics import f1_score\n",
        "from sklearn.metrics import auc\n",
        "from matplotlib import pyplot\n",
        "from sklearn.metrics import roc_curve\n",
        "from sklearn.metrics import roc_auc_score, accuracy_score\n",
        "import string\n",
        "#from nltk.corpus import stopwords\n",
        "#nltk.download('stopwords')\n",
        "from sklearn.feature_extraction.text import CountVectorizer, TfidfVectorizer\n",
        "from sklearn.naive_bayes import MultinomialNB, GaussianNB\n",
        "from sklearn.metrics import f1_score\n",
        "plt.style.use('fivethirtyeight')\n",
        "plt.style.use('dark_background')\n",
        "from sklearn.ensemble import AdaBoostClassifier\n",
        "from sklearn.model_selection import cross_val_score\n",
        "import numpy as np\n",
        "from sklearn.ensemble import BaggingClassifier\n",
        "from sklearn.ensemble import RandomForestClassifier\n",
        "from tensorflow.keras.layers import Embedding\n",
        "from tensorflow.keras.preprocessing.sequence import pad_sequences\n",
        "from tensorflow.keras.models import Sequential\n",
        "from tensorflow.keras.preprocessing.text import one_hot\n",
        "from tensorflow.keras.layers import LSTM, Bidirectional\n",
        "from tensorflow.keras.layers import Dense, Dropout"
      ],
      "metadata": {
        "id": "zuOMaxgxGyUk"
      },
      "execution_count": null,
      "outputs": []
    },
    {
      "cell_type": "code",
      "source": [
        "def check_scores(clf,X_train, X_test, y_train, y_test):\n",
        "\n",
        "  model=clf.fit(X_train, y_train)\n",
        "  predicted_class=model.predict(X_test)\n",
        "  predicted_class_train=model.predict(X_train)\n",
        "  test_probs = model.predict_proba(X_test)\n",
        "  test_probs = test_probs[:, 1]\n",
        "  yhat = model.predict(X_test)\n",
        "  lr_precision, lr_recall, _ = precision_recall_curve(y_test, test_probs)\n",
        "  lr_f1, lr_auc = f1_score(y_test, yhat), auc(lr_recall, lr_precision)\n",
        "\n",
        "\n",
        "  print('Train confusion matrix is: ',)\n",
        "  print(confusion_matrix(y_train, predicted_class_train))\n",
        "\n",
        "  print()\n",
        "  print('Test confusion matrix is: ')\n",
        "  print(confusion_matrix(y_test, predicted_class))\n",
        "  print()\n",
        "  print(classification_report(y_test,predicted_class)) \n",
        "  print() \n",
        "  train_accuracy = accuracy_score(y_train,predicted_class_train)\n",
        "  test_accuracy = accuracy_score(y_test,predicted_class)\n",
        "\n",
        "  print(\"Train accuracy score: \", train_accuracy)\n",
        "  print(\"Test accuracy score: \",test_accuracy )\n",
        "  print()\n",
        "  train_auc = roc_auc_score(y_train, clf.predict_proba(X_train)[:,1])\n",
        "  test_auc = roc_auc_score(y_test, clf.predict_proba(X_test)[:,1])\n",
        "\n",
        "  print(\"Train ROC-AUC score: \", train_auc)\n",
        "  print(\"Test ROC-AUC score: \", test_auc)\n",
        "  fig, (ax1, ax2) = plt.subplots(1, 2)\n",
        "\n",
        "  ax1.plot(lr_recall, lr_precision)\n",
        "  ax1.set(xlabel=\"Recall\", ylabel=\"Precision\")\n",
        "\n",
        "  plt.subplots_adjust(left=0.5,\n",
        "                    bottom=0.1, \n",
        "                    right=1.5, \n",
        "                    top=0.9, \n",
        "                    wspace=0.4, \n",
        "                    hspace=0.4)\n",
        "  print()\n",
        "  print('Are under Precision-Recall curve:', lr_f1)\n",
        "  \n",
        "  fpr, tpr, _ = roc_curve(y_test, test_probs)\n",
        "\n",
        "\n",
        "  ax2.plot(fpr, tpr)\n",
        "  ax2.set(xlabel='False Positive Rate', ylabel='True Positive Rate')\n",
        "\n",
        "  print(\"Area under ROC-AUC:\", lr_auc)\n",
        "  return train_accuracy, test_accuracy, train_auc, test_auc\n",
        "\n",
        "\n",
        "\n",
        "def grid_search(model, parameters, X_train, Y_train):\n",
        "  #Doing a grid\n",
        "  grid = GridSearchCV(estimator=model,\n",
        "                       param_grid = parameters,\n",
        "                       cv = 2, verbose=2, scoring='roc_auc')\n",
        "  #Fitting the grid \n",
        "  grid.fit(X_train,Y_train)\n",
        "  print()\n",
        "  print()\n",
        "  # Best model found using grid search\n",
        "  optimal_model = grid.best_estimator_\n",
        "  print('Best parameters are: ')\n",
        "  print( grid.best_params_)\n",
        "\n",
        "  return optimal_model"
      ],
      "metadata": {
        "id": "P34lNlRLGyiZ"
      },
      "execution_count": null,
      "outputs": []
    },
    {
      "cell_type": "code",
      "execution_count": null,
      "metadata": {
        "id": "1y14mnhT6Eof"
      },
      "outputs": [],
      "source": [
        "def value(v):\n",
        "    if v == 'POSITIVE':\n",
        "        return 1\n",
        "    else:\n",
        "        return 0"
      ]
    },
    {
      "cell_type": "code",
      "source": [
        "df1['Target_Level'] = df1.apply(lambda x: value(x.target), axis = 1)"
      ],
      "metadata": {
        "id": "L2mNzfK1JS72"
      },
      "execution_count": null,
      "outputs": []
    },
    {
      "cell_type": "code",
      "source": [
        "df1.head()"
      ],
      "metadata": {
        "colab": {
          "base_uri": "https://localhost:8080/",
          "height": 206
        },
        "id": "8RN6_CTUJapY",
        "outputId": "5461d5a9-aa18-400f-b1d3-cb0980a6803e"
      },
      "execution_count": null,
      "outputs": [
        {
          "output_type": "execute_result",
          "data": {
            "text/plain": [
              "           target         ids                          date      flag  \\\n",
              "513467   NEGATIVE  2190392801  Tue Jun 16 02:35:58 PDT 2009  NO_QUERY   \n",
              "317873   NEGATIVE  2002701375  Tue Jun 02 04:56:34 PDT 2009  NO_QUERY   \n",
              "1106322  POSITIVE  1971410827  Sat May 30 07:02:48 PDT 2009  NO_QUERY   \n",
              "430836   NEGATIVE  2064416725  Sun Jun 07 06:12:25 PDT 2009  NO_QUERY   \n",
              "1211267  POSITIVE  1989134863  Mon Jun 01 00:27:37 PDT 2009  NO_QUERY   \n",
              "\n",
              "                   user                                               text  \\\n",
              "513467      ericaaviles  Yay for Jon and Kate + 8! boo for having to wo...   \n",
              "317873        janine_j9  @TimothyH2O sorry about last night I would hav...   \n",
              "1106322  CandisDanielle  Good Morning my Twitter Loves.....Have a wonde...   \n",
              "430836        Portiaism  @jamesheart24 I am great.. 'Revising' for my l...   \n",
              "1211267       fadedmoon  @AmyyVee wehehehehe sorry.... :| ) So whats new?    \n",
              "\n",
              "                                      text_clean  Target_Level  \n",
              "513467              yay jon kate 8 boo work 10am             0  \n",
              "317873        sorry last night would stayed left             0  \n",
              "1106322  good morning twitter love wonderful day             1  \n",
              "430836             great revising last exam done             0  \n",
              "1211267               wehehehehe sorry whats new             1  "
            ],
            "text/html": [
              "\n",
              "  <div id=\"df-a4c3285a-ff72-4e79-89bb-134a35030e0c\">\n",
              "    <div class=\"colab-df-container\">\n",
              "      <div>\n",
              "<style scoped>\n",
              "    .dataframe tbody tr th:only-of-type {\n",
              "        vertical-align: middle;\n",
              "    }\n",
              "\n",
              "    .dataframe tbody tr th {\n",
              "        vertical-align: top;\n",
              "    }\n",
              "\n",
              "    .dataframe thead th {\n",
              "        text-align: right;\n",
              "    }\n",
              "</style>\n",
              "<table border=\"1\" class=\"dataframe\">\n",
              "  <thead>\n",
              "    <tr style=\"text-align: right;\">\n",
              "      <th></th>\n",
              "      <th>target</th>\n",
              "      <th>ids</th>\n",
              "      <th>date</th>\n",
              "      <th>flag</th>\n",
              "      <th>user</th>\n",
              "      <th>text</th>\n",
              "      <th>text_clean</th>\n",
              "      <th>Target_Level</th>\n",
              "    </tr>\n",
              "  </thead>\n",
              "  <tbody>\n",
              "    <tr>\n",
              "      <th>513467</th>\n",
              "      <td>NEGATIVE</td>\n",
              "      <td>2190392801</td>\n",
              "      <td>Tue Jun 16 02:35:58 PDT 2009</td>\n",
              "      <td>NO_QUERY</td>\n",
              "      <td>ericaaviles</td>\n",
              "      <td>Yay for Jon and Kate + 8! boo for having to wo...</td>\n",
              "      <td>yay jon kate 8 boo work 10am</td>\n",
              "      <td>0</td>\n",
              "    </tr>\n",
              "    <tr>\n",
              "      <th>317873</th>\n",
              "      <td>NEGATIVE</td>\n",
              "      <td>2002701375</td>\n",
              "      <td>Tue Jun 02 04:56:34 PDT 2009</td>\n",
              "      <td>NO_QUERY</td>\n",
              "      <td>janine_j9</td>\n",
              "      <td>@TimothyH2O sorry about last night I would hav...</td>\n",
              "      <td>sorry last night would stayed left</td>\n",
              "      <td>0</td>\n",
              "    </tr>\n",
              "    <tr>\n",
              "      <th>1106322</th>\n",
              "      <td>POSITIVE</td>\n",
              "      <td>1971410827</td>\n",
              "      <td>Sat May 30 07:02:48 PDT 2009</td>\n",
              "      <td>NO_QUERY</td>\n",
              "      <td>CandisDanielle</td>\n",
              "      <td>Good Morning my Twitter Loves.....Have a wonde...</td>\n",
              "      <td>good morning twitter love wonderful day</td>\n",
              "      <td>1</td>\n",
              "    </tr>\n",
              "    <tr>\n",
              "      <th>430836</th>\n",
              "      <td>NEGATIVE</td>\n",
              "      <td>2064416725</td>\n",
              "      <td>Sun Jun 07 06:12:25 PDT 2009</td>\n",
              "      <td>NO_QUERY</td>\n",
              "      <td>Portiaism</td>\n",
              "      <td>@jamesheart24 I am great.. 'Revising' for my l...</td>\n",
              "      <td>great revising last exam done</td>\n",
              "      <td>0</td>\n",
              "    </tr>\n",
              "    <tr>\n",
              "      <th>1211267</th>\n",
              "      <td>POSITIVE</td>\n",
              "      <td>1989134863</td>\n",
              "      <td>Mon Jun 01 00:27:37 PDT 2009</td>\n",
              "      <td>NO_QUERY</td>\n",
              "      <td>fadedmoon</td>\n",
              "      <td>@AmyyVee wehehehehe sorry.... :| ) So whats new?</td>\n",
              "      <td>wehehehehe sorry whats new</td>\n",
              "      <td>1</td>\n",
              "    </tr>\n",
              "  </tbody>\n",
              "</table>\n",
              "</div>\n",
              "      <button class=\"colab-df-convert\" onclick=\"convertToInteractive('df-a4c3285a-ff72-4e79-89bb-134a35030e0c')\"\n",
              "              title=\"Convert this dataframe to an interactive table.\"\n",
              "              style=\"display:none;\">\n",
              "        \n",
              "  <svg xmlns=\"http://www.w3.org/2000/svg\" height=\"24px\"viewBox=\"0 0 24 24\"\n",
              "       width=\"24px\">\n",
              "    <path d=\"M0 0h24v24H0V0z\" fill=\"none\"/>\n",
              "    <path d=\"M18.56 5.44l.94 2.06.94-2.06 2.06-.94-2.06-.94-.94-2.06-.94 2.06-2.06.94zm-11 1L8.5 8.5l.94-2.06 2.06-.94-2.06-.94L8.5 2.5l-.94 2.06-2.06.94zm10 10l.94 2.06.94-2.06 2.06-.94-2.06-.94-.94-2.06-.94 2.06-2.06.94z\"/><path d=\"M17.41 7.96l-1.37-1.37c-.4-.4-.92-.59-1.43-.59-.52 0-1.04.2-1.43.59L10.3 9.45l-7.72 7.72c-.78.78-.78 2.05 0 2.83L4 21.41c.39.39.9.59 1.41.59.51 0 1.02-.2 1.41-.59l7.78-7.78 2.81-2.81c.8-.78.8-2.07 0-2.86zM5.41 20L4 18.59l7.72-7.72 1.47 1.35L5.41 20z\"/>\n",
              "  </svg>\n",
              "      </button>\n",
              "      \n",
              "  <style>\n",
              "    .colab-df-container {\n",
              "      display:flex;\n",
              "      flex-wrap:wrap;\n",
              "      gap: 12px;\n",
              "    }\n",
              "\n",
              "    .colab-df-convert {\n",
              "      background-color: #E8F0FE;\n",
              "      border: none;\n",
              "      border-radius: 50%;\n",
              "      cursor: pointer;\n",
              "      display: none;\n",
              "      fill: #1967D2;\n",
              "      height: 32px;\n",
              "      padding: 0 0 0 0;\n",
              "      width: 32px;\n",
              "    }\n",
              "\n",
              "    .colab-df-convert:hover {\n",
              "      background-color: #E2EBFA;\n",
              "      box-shadow: 0px 1px 2px rgba(60, 64, 67, 0.3), 0px 1px 3px 1px rgba(60, 64, 67, 0.15);\n",
              "      fill: #174EA6;\n",
              "    }\n",
              "\n",
              "    [theme=dark] .colab-df-convert {\n",
              "      background-color: #3B4455;\n",
              "      fill: #D2E3FC;\n",
              "    }\n",
              "\n",
              "    [theme=dark] .colab-df-convert:hover {\n",
              "      background-color: #434B5C;\n",
              "      box-shadow: 0px 1px 3px 1px rgba(0, 0, 0, 0.15);\n",
              "      filter: drop-shadow(0px 1px 2px rgba(0, 0, 0, 0.3));\n",
              "      fill: #FFFFFF;\n",
              "    }\n",
              "  </style>\n",
              "\n",
              "      <script>\n",
              "        const buttonEl =\n",
              "          document.querySelector('#df-a4c3285a-ff72-4e79-89bb-134a35030e0c button.colab-df-convert');\n",
              "        buttonEl.style.display =\n",
              "          google.colab.kernel.accessAllowed ? 'block' : 'none';\n",
              "\n",
              "        async function convertToInteractive(key) {\n",
              "          const element = document.querySelector('#df-a4c3285a-ff72-4e79-89bb-134a35030e0c');\n",
              "          const dataTable =\n",
              "            await google.colab.kernel.invokeFunction('convertToInteractive',\n",
              "                                                     [key], {});\n",
              "          if (!dataTable) return;\n",
              "\n",
              "          const docLinkHtml = 'Like what you see? Visit the ' +\n",
              "            '<a target=\"_blank\" href=https://colab.research.google.com/notebooks/data_table.ipynb>data table notebook</a>'\n",
              "            + ' to learn more about interactive tables.';\n",
              "          element.innerHTML = '';\n",
              "          dataTable['output_type'] = 'display_data';\n",
              "          await google.colab.output.renderOutput(dataTable, element);\n",
              "          const docLink = document.createElement('div');\n",
              "          docLink.innerHTML = docLinkHtml;\n",
              "          element.appendChild(docLink);\n",
              "        }\n",
              "      </script>\n",
              "    </div>\n",
              "  </div>\n",
              "  "
            ]
          },
          "metadata": {},
          "execution_count": 24
        }
      ]
    },
    {
      "cell_type": "markdown",
      "source": [
        "### TF-IDF"
      ],
      "metadata": {
        "id": "WpzoOnE3ONl2"
      }
    },
    {
      "cell_type": "code",
      "source": [
        "# Creating object of TF-IDF vectorizer\n",
        "vectorizer = TfidfVectorizer(use_idf=True, lowercase=True)\n",
        "X_tf_idf= vectorizer.fit_transform(df1.text_clean)\n",
        "x_train, x_test, y_train, y_test = train_test_split(X_tf_idf, df1['Target_Level'], random_state=42,stratify=df1['Target_Level'])"
      ],
      "metadata": {
        "id": "YoohSPQcGzBK"
      },
      "execution_count": null,
      "outputs": []
    },
    {
      "cell_type": "markdown",
      "source": [
        "# **Model: Random Forest**"
      ],
      "metadata": {
        "id": "CnKfchPMHV68"
      }
    },
    {
      "cell_type": "code",
      "source": [
        "r_train_accuracy, r_test_accuracy, r_train_auc, r_test_auc= check_scores(RandomForestClassifier(random_state=0).fit(x_train, y_train), x_train,x_test,y_train,y_test)"
      ],
      "metadata": {
        "colab": {
          "base_uri": "https://localhost:8080/",
          "height": 752
        },
        "id": "APT48sVWGzHq",
        "outputId": "f6324ba4-807c-4fe7-d3f1-14b644302df9"
      },
      "execution_count": null,
      "outputs": [
        {
          "output_type": "stream",
          "name": "stdout",
          "text": [
            "Train confusion matrix is: \n",
            "[[74215   785]\n",
            " [  403 74597]]\n",
            "\n",
            "Test confusion matrix is: \n",
            "[[18730  6270]\n",
            " [ 5922 19078]]\n",
            "\n",
            "              precision    recall  f1-score   support\n",
            "\n",
            "           0       0.76      0.75      0.75     25000\n",
            "           1       0.75      0.76      0.76     25000\n",
            "\n",
            "    accuracy                           0.76     50000\n",
            "   macro avg       0.76      0.76      0.76     50000\n",
            "weighted avg       0.76      0.76      0.76     50000\n",
            "\n",
            "\n",
            "Train accuracy score:  0.99208\n",
            "Test accuracy score:  0.75616\n",
            "\n",
            "Train ROC-AUC score:  0.9988171013333332\n",
            "Test ROC-AUC score:  0.8335705416\n",
            "\n",
            "Are under Precision-Recall curve: 0.757845396043537\n",
            "Area under ROC-AUC: 0.8271778819290335\n"
          ]
        },
        {
          "output_type": "display_data",
          "data": {
            "text/plain": [
              "<Figure size 432x288 with 2 Axes>"
            ],
            "image/png": "[encoded data removed]"
          },
          "metadata": {}
        }
      ]
    },
    {
      "cell_type": "code",
      "execution_count": null,
      "metadata": {
        "id": "gP0X63_uNSdB"
      },
      "outputs": [],
      "source": [
        "#Tuning the parameters for Random Forest\n",
        "parameters = {\n",
        "    'n_estimators': [5,50,100],\n",
        "    'max_depth': [2,10,20,None]\n",
        "}"
      ]
    },
    {
      "cell_type": "code",
      "source": [
        "rf_optimal = grid_search(RandomForestClassifier(random_state=0).fit(x_train, y_train), parameters,x_train, y_train)"
      ],
      "metadata": {
        "colab": {
          "base_uri": "https://localhost:8080/"
        },
        "id": "gM66GByZHqEl",
        "outputId": "004b6546-0fe6-4478-b49c-7c06304ac3eb"
      },
      "execution_count": null,
      "outputs": [
        {
          "output_type": "stream",
          "name": "stdout",
          "text": [
            "Fitting 2 folds for each of 12 candidates, totalling 24 fits\n",
            "[CV] END ........................max_depth=2, n_estimators=5; total time=   0.2s\n",
            "[CV] END ........................max_depth=2, n_estimators=5; total time=   0.3s\n",
            "[CV] END .......................max_depth=2, n_estimators=50; total time=   1.6s\n",
            "[CV] END .......................max_depth=2, n_estimators=50; total time=   1.6s\n",
            "[CV] END ......................max_depth=2, n_estimators=100; total time=   3.2s\n",
            "[CV] END ......................max_depth=2, n_estimators=100; total time=   3.2s\n",
            "[CV] END .......................max_depth=10, n_estimators=5; total time=   0.6s\n",
            "[CV] END .......................max_depth=10, n_estimators=5; total time=   0.6s\n",
            "[CV] END ......................max_depth=10, n_estimators=50; total time=   5.2s\n",
            "[CV] END ......................max_depth=10, n_estimators=50; total time=   5.1s\n",
            "[CV] END .....................max_depth=10, n_estimators=100; total time=  10.3s\n",
            "[CV] END .....................max_depth=10, n_estimators=100; total time=  10.2s\n",
            "[CV] END .......................max_depth=20, n_estimators=5; total time=   1.2s\n",
            "[CV] END .......................max_depth=20, n_estimators=5; total time=   1.2s\n",
            "[CV] END ......................max_depth=20, n_estimators=50; total time=  11.0s\n",
            "[CV] END ......................max_depth=20, n_estimators=50; total time=  10.7s\n",
            "[CV] END .....................max_depth=20, n_estimators=100; total time=  21.2s\n",
            "[CV] END .....................max_depth=20, n_estimators=100; total time=  20.2s\n",
            "[CV] END .....................max_depth=None, n_estimators=5; total time=  41.4s\n",
            "[CV] END .....................max_depth=None, n_estimators=5; total time=  41.2s\n",
            "[CV] END ....................max_depth=None, n_estimators=50; total time= 7.0min\n",
            "[CV] END ....................max_depth=None, n_estimators=50; total time= 7.0min\n",
            "[CV] END ...................max_depth=None, n_estimators=100; total time=14.0min\n",
            "[CV] END ...................max_depth=None, n_estimators=100; total time=13.5min\n",
            "\n",
            "\n",
            "Best parameters are: \n",
            "{'max_depth': None, 'n_estimators': 100}\n"
          ]
        }
      ]
    },
    {
      "cell_type": "code",
      "source": [
        "ro_train_accuracy, ro_test_accuracy, ro_train_auc, ro_test_auc = check_scores(rf_optimal,x_train, x_test, y_train, y_test)"
      ],
      "metadata": {
        "colab": {
          "base_uri": "https://localhost:8080/",
          "height": 752
        },
        "id": "B0pPI7B0HqOh",
        "outputId": "54a6f820-6366-4873-eb67-e4766edcedee"
      },
      "execution_count": null,
      "outputs": [
        {
          "output_type": "stream",
          "name": "stdout",
          "text": [
            "Train confusion matrix is: \n",
            "[[74215   785]\n",
            " [  403 74597]]\n",
            "\n",
            "Test confusion matrix is: \n",
            "[[18730  6270]\n",
            " [ 5922 19078]]\n",
            "\n",
            "              precision    recall  f1-score   support\n",
            "\n",
            "           0       0.76      0.75      0.75     25000\n",
            "           1       0.75      0.76      0.76     25000\n",
            "\n",
            "    accuracy                           0.76     50000\n",
            "   macro avg       0.76      0.76      0.76     50000\n",
            "weighted avg       0.76      0.76      0.76     50000\n",
            "\n",
            "\n",
            "Train accuracy score:  0.99208\n",
            "Test accuracy score:  0.75616\n",
            "\n",
            "Train ROC-AUC score:  0.9988171013333332\n",
            "Test ROC-AUC score:  0.8335705416\n",
            "\n",
            "Are under Precision-Recall curve: 0.757845396043537\n",
            "Area under ROC-AUC: 0.8271778819290335\n"
          ]
        },
        {
          "output_type": "display_data",
          "data": {
            "text/plain": [
              "<Figure size 432x288 with 2 Axes>"
            ],
            "image/png": "[encoded data removed]"
          },
          "metadata": {}
        }
      ]
    },
    {
      "cell_type": "markdown",
      "source": [
        "# **Model: Multinomial Naive Bayes**"
      ],
      "metadata": {
        "id": "pg2_nw-UnO1E"
      }
    },
    {
      "cell_type": "code",
      "source": [
        "m_train_accuracy, m_test_accuracy, m_train_auc, m_test_auc = check_scores(MultinomialNB(),x_train, x_test, y_train, y_test)"
      ],
      "metadata": {
        "colab": {
          "base_uri": "https://localhost:8080/",
          "height": 775
        },
        "id": "0q6qd5yPppRQ",
        "outputId": "3787d9dd-8bef-4ff1-bf1e-0a2b13cd7d9c"
      },
      "execution_count": null,
      "outputs": [
        {
          "output_type": "stream",
          "name": "stdout",
          "text": [
            "Train confusion matrix is: \n",
            "[[63384 11616]\n",
            " [14875 60125]]\n",
            "\n",
            "Test confusion matrix is: \n",
            "[[19210  5790]\n",
            " [ 6849 18151]]\n",
            "\n",
            "              precision    recall  f1-score   support\n",
            "\n",
            "           0       0.74      0.77      0.75     25000\n",
            "           1       0.76      0.73      0.74     25000\n",
            "\n",
            "    accuracy                           0.75     50000\n",
            "   macro avg       0.75      0.75      0.75     50000\n",
            "weighted avg       0.75      0.75      0.75     50000\n",
            "\n",
            "\n",
            "Train accuracy score:  0.8233933333333333\n",
            "Test accuracy score:  0.74722\n",
            "\n",
            "Train ROC-AUC score:  0.9027211700444444\n",
            "Test ROC-AUC score:  0.8319474848\n",
            "\n",
            "Are under Precision-Recall curve: 0.7417502707341493\n",
            "Area under ROC-AUC: 0.828991838373835\n"
          ]
        },
        {
          "output_type": "display_data",
          "data": {
            "text/plain": [
              "<Figure size 432x288 with 2 Axes>"
            ],
            "image/png": "[encoded data removed]"
          },
          "metadata": {}
        }
      ]
    },
    {
      "cell_type": "markdown",
      "source": [
        "**Bagging with MultinomialNB**"
      ],
      "metadata": {
        "id": "53YOFIhDpvRA"
      }
    },
    {
      "cell_type": "code",
      "source": [
        "#kfold = model_selection.KFold(n_splits = 12)\n",
        "  \n",
        "# bagging classifier\n",
        "model = BaggingClassifier(base_estimator = MultinomialNB(),\n",
        "                          n_estimators = 100)\n",
        "\n",
        "b_train_accuracy, b_test_accuracy, b_train_auc, b_test_auc= check_scores(model,x_train,x_test, y_train, y_test)"
      ],
      "metadata": {
        "id": "9dSwKcEMpxv4",
        "colab": {
          "base_uri": "https://localhost:8080/",
          "height": 775
        },
        "outputId": "bda78e79-0569-48df-e406-74c607bf935a"
      },
      "execution_count": null,
      "outputs": [
        {
          "output_type": "stream",
          "name": "stdout",
          "text": [
            "Train confusion matrix is: \n",
            "[[62798 12202]\n",
            " [14766 60234]]\n",
            "\n",
            "Test confusion matrix is: \n",
            "[[19135  5865]\n",
            " [ 6725 18275]]\n",
            "\n",
            "              precision    recall  f1-score   support\n",
            "\n",
            "           0       0.74      0.77      0.75     25000\n",
            "           1       0.76      0.73      0.74     25000\n",
            "\n",
            "    accuracy                           0.75     50000\n",
            "   macro avg       0.75      0.75      0.75     50000\n",
            "weighted avg       0.75      0.75      0.75     50000\n",
            "\n",
            "\n",
            "Train accuracy score:  0.8202133333333333\n",
            "Test accuracy score:  0.7482\n",
            "\n",
            "Train ROC-AUC score:  0.8989827919111111\n",
            "Test ROC-AUC score:  0.8322716\n",
            "\n",
            "Are under Precision-Recall curve: 0.7437932437932437\n",
            "Area under ROC-AUC: 0.8293274471978911\n"
          ]
        },
        {
          "output_type": "display_data",
          "data": {
            "text/plain": [
              "<Figure size 432x288 with 2 Axes>"
            ],
            "image/png": "[encoded data removed]"
          },
          "metadata": {}
        }
      ]
    }
  ],
  "metadata": {
    "colab": {
      "collapsed_sections": [],
      "name": "Sentiment_Analysis-MNB+RandomForest.ipynb",
      "provenance": []
    },
    "kernelspec": {
      "display_name": "Python 3",
      "name": "python3"
    },
    "language_info": {
      "name": "python"
    }
  },
  "nbformat": 4,
  "nbformat_minor": 0
}