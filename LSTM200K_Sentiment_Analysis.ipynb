{
  "cells": [
    {
      "cell_type": "code",
      "execution_count": null,
      "metadata": {
        "colab": {
          "base_uri": "https://localhost:8080/"
        },
        "id": "YGPKyQjs3NSI",
        "outputId": "437d03b2-1d59-43e2-b9c3-f24ca299ff2e"
      },
      "outputs": [
        {
          "output_type": "stream",
          "name": "stdout",
          "text": [
            "GPU 0: Tesla K80 (UUID: GPU-08bad75b-c6e4-3452-bf48-f09b18221722)\n"
          ]
        }
      ],
      "source": [
        "!nvidia-smi -L"
      ]
    },
    {
      "cell_type": "code",
      "execution_count": null,
      "metadata": {
        "colab": {
          "base_uri": "https://localhost:8080/"
        },
        "id": "zJt4v2I6Skui",
        "outputId": "5bbc5f02-0387-4470-eb71-e88b97eacc8c"
      },
      "outputs": [
        {
          "name": "stdout",
          "output_type": "stream",
          "text": [
            "Requirement already satisfied: gensim in /usr/local/lib/python3.7/dist-packages (3.6.0)\n",
            "Collecting gensim\n",
            "  Downloading gensim-4.1.2-cp37-cp37m-manylinux_2_12_x86_64.manylinux2010_x86_64.whl (24.1 MB)\n",
            "\u001b[K     |████████████████████████████████| 24.1 MB 2.5 MB/s \n",
            "\u001b[?25hRequirement already satisfied: scipy>=0.18.1 in /usr/local/lib/python3.7/dist-packages (from gensim) (1.4.1)\n",
            "Requirement already satisfied: numpy>=1.17.0 in /usr/local/lib/python3.7/dist-packages (from gensim) (1.21.5)\n",
            "Requirement already satisfied: smart-open>=1.8.1 in /usr/local/lib/python3.7/dist-packages (from gensim) (5.2.1)\n",
            "Installing collected packages: gensim\n",
            "  Attempting uninstall: gensim\n",
            "    Found existing installation: gensim 3.6.0\n",
            "    Uninstalling gensim-3.6.0:\n",
            "      Successfully uninstalled gensim-3.6.0\n",
            "Successfully installed gensim-4.1.2\n",
            "Requirement already satisfied: keras in /usr/local/lib/python3.7/dist-packages (2.8.0)\n",
            "Requirement already satisfied: pandas in /usr/local/lib/python3.7/dist-packages (1.3.5)\n",
            "Requirement already satisfied: pytz>=2017.3 in /usr/local/lib/python3.7/dist-packages (from pandas) (2018.9)\n",
            "Requirement already satisfied: numpy>=1.17.3 in /usr/local/lib/python3.7/dist-packages (from pandas) (1.21.5)\n",
            "Requirement already satisfied: python-dateutil>=2.7.3 in /usr/local/lib/python3.7/dist-packages (from pandas) (2.8.2)\n",
            "Requirement already satisfied: six>=1.5 in /usr/local/lib/python3.7/dist-packages (from python-dateutil>=2.7.3->pandas) (1.15.0)\n"
          ]
        }
      ],
      "source": [
        "!pip install gensim --upgrade\n",
        "!pip install keras --upgrade\n",
        "!pip install pandas --upgrade"
      ]
    },
    {
      "cell_type": "markdown",
      "metadata": {
        "id": "vfgCiGRwSanq"
      },
      "source": [
        "## Importing Dependencies"
      ]
    },
    {
      "cell_type": "code",
      "execution_count": null,
      "metadata": {
        "id": "t5E1_po-SCog"
      },
      "outputs": [],
      "source": [
        "# DataFrame\n",
        "import pandas as pd\n",
        "\n",
        "# Matplot\n",
        "import seaborn as sns\n",
        "import matplotlib.pyplot as plt\n",
        "%matplotlib inline\n",
        "\n",
        "# Scikit-learn\n",
        "from sklearn.model_selection import train_test_split\n",
        "from sklearn.preprocessing import LabelEncoder\n",
        "from sklearn.metrics import confusion_matrix, classification_report, accuracy_score,f1_score\n",
        "# from sklearn.manifold import TSNE\n",
        "from sklearn.feature_extraction.text import TfidfVectorizer\n",
        "from sklearn import model_selection, naive_bayes, svm\n",
        "from sklearn.svm import LinearSVC\n",
        "from sklearn.metrics import roc_curve\n",
        "from sklearn.metrics import roc_auc_score\n",
        "\n",
        "\n",
        "\n",
        "# Keras\n",
        "from keras.preprocessing.text import Tokenizer\n",
        "from keras.preprocessing.sequence import pad_sequences\n",
        "from keras.models import Sequential\n",
        "from keras.layers import Activation, Dense, Dropout, Embedding, Flatten, Conv1D, MaxPooling1D, LSTM\n",
        "from keras import utils\n",
        "from keras.callbacks import ReduceLROnPlateau, EarlyStopping\n",
        "from tensorflow.keras.preprocessing.text import one_hot\n",
        "from tensorflow.keras import optimizers\n",
        "\n",
        "\n",
        "\n",
        "# nltk\n",
        "import nltk\n",
        "from nltk.corpus import stopwords\n",
        "from  nltk.stem import SnowballStemmer\n",
        "\n",
        "# Word2vec\n",
        "import gensim\n",
        "\n",
        "# Utility\n",
        "import re\n",
        "import numpy as np\n",
        "import os\n",
        "from collections import Counter\n",
        "import logging\n",
        "import time\n",
        "import pickle\n",
        "import itertools\n",
        "\n",
        "# Set log\n",
        "logging.basicConfig(format='%(asctime)s : %(levelname)s : %(message)s', level=logging.INFO)\n"
      ]
    },
    {
      "cell_type": "markdown",
      "metadata": {
        "id": "y46eIuuESjAi"
      },
      "source": [
        "## Importing Stopwords"
      ]
    },
    {
      "cell_type": "code",
      "execution_count": null,
      "metadata": {
        "colab": {
          "base_uri": "https://localhost:8080/"
        },
        "id": "0Cb11sk_ScIw",
        "outputId": "958986a2-83ea-407e-c097-df906f5fa473"
      },
      "outputs": [
        {
          "output_type": "stream",
          "name": "stdout",
          "text": [
            "[nltk_data] Downloading package stopwords to /root/nltk_data...\n",
            "[nltk_data]   Unzipping corpora/stopwords.zip.\n"
          ]
        },
        {
          "output_type": "execute_result",
          "data": {
            "text/plain": [
              "True"
            ]
          },
          "metadata": {},
          "execution_count": 3
        }
      ],
      "source": [
        "nltk.download('stopwords')\n"
      ]
    },
    {
      "cell_type": "markdown",
      "metadata": {
        "id": "asorqatXUadS"
      },
      "source": [
        "## Settings"
      ]
    },
    {
      "cell_type": "code",
      "execution_count": null,
      "metadata": {
        "id": "ICCWvSj0SiYY"
      },
      "outputs": [],
      "source": [
        "# DATASET\n",
        "DATASET_COLUMNS = [\"target\", \"ids\", \"date\", \"flag\", \"user\", \"text\"]\n",
        "DATASET_ENCODING = \"ISO-8859-1\"\n",
        "TRAIN_SIZE = 0.8\n",
        "\n",
        "# TEXT CLEANING\n",
        "TEXT_CLEANING_RE = \"@\\S+|https?:\\S+|http?:\\S|[^A-Za-z0-9]+\"\n",
        "\n",
        "# WORD2VEC \n",
        "W2V_SIZE = 300\n",
        "W2V_WINDOW = 7\n",
        "W2V_EPOCH = 32\n",
        "W2V_MIN_COUNT = 10\n",
        "\n",
        "# KERAS\n",
        "SEQUENCE_LENGTH = 300\n",
        "EPOCHS = 8\n",
        "BATCH_SIZE = 1024\n",
        "\n",
        "# SENTIMENT\n",
        "POSITIVE = \"POSITIVE\"\n",
        "NEGATIVE = \"NEGATIVE\"\n",
        "NEUTRAL = \"NEUTRAL\"\n",
        "SENTIMENT_THRESHOLDS = (0.4, 0.7)\n",
        "\n",
        "# EXPORT\n",
        "KERAS_MODEL = \"model.h5\"\n",
        "WORD2VEC_MODEL = \"model.w2v\"\n",
        "TOKENIZER_MODEL = \"tokenizer.pkl\"\n",
        "ENCODER_MODEL = \"encoder.pkl\"\n"
      ]
    },
    {
      "cell_type": "code",
      "execution_count": null,
      "metadata": {
        "colab": {
          "base_uri": "https://localhost:8080/"
        },
        "id": "gnC3DKOFKqaK",
        "outputId": "5232c773-9a61-41b3-ca9a-2eb861bc8dc9"
      },
      "outputs": [
        {
          "output_type": "stream",
          "name": "stdout",
          "text": [
            "Mounted at /content/drive\n"
          ]
        }
      ],
      "source": [
        "from google.colab import drive\n",
        "drive.mount('/content/drive')"
      ]
    },
    {
      "cell_type": "markdown",
      "metadata": {
        "id": "R6gdzri-SyhD"
      },
      "source": [
        "## Reading in the File"
      ]
    },
    {
      "cell_type": "code",
      "execution_count": null,
      "metadata": {
        "colab": {
          "base_uri": "https://localhost:8080/"
        },
        "id": "pHMlkNWYUcVL",
        "outputId": "5ea6524d-9e5e-4863-ca39-3a14f53244be"
      },
      "outputs": [
        {
          "output_type": "stream",
          "name": "stdout",
          "text": [
            "Open file: /content/drive/MyDrive/SentimentAnalysis/training.1600000.processed.noemoticon.csv\n"
          ]
        }
      ],
      "source": [
        "# dataset_path = \"/content/drive/MyDrive/AI2-Final Project/training.1600000.processed.noemoticon.csv\"\n",
        "dataset_path = \"/content/drive/MyDrive/SentimentAnalysis/training.1600000.processed.noemoticon.csv\"\n",
        "\n",
        "print(\"Open file:\", dataset_path)\n",
        "df = pd.read_csv(dataset_path, encoding =DATASET_ENCODING , names=DATASET_COLUMNS)"
      ]
    },
    {
      "cell_type": "code",
      "execution_count": null,
      "metadata": {
        "colab": {
          "base_uri": "https://localhost:8080/"
        },
        "id": "RG664l49U6iX",
        "outputId": "e8b86b03-abff-40e0-b765-9929d0e6e840"
      },
      "outputs": [
        {
          "data": {
            "text/plain": [
              "(1600000, 6)"
            ]
          },
          "execution_count": 8,
          "metadata": {},
          "output_type": "execute_result"
        }
      ],
      "source": [
        "df.shape"
      ]
    },
    {
      "cell_type": "code",
      "execution_count": null,
      "metadata": {
        "colab": {
          "base_uri": "https://localhost:8080/",
          "height": 206
        },
        "id": "kyUCyLXbV8Wr",
        "outputId": "18c1b0cd-11d6-46d3-e608-1145bd88827c"
      },
      "outputs": [
        {
          "data": {
            "text/html": [
              "\n",
              "  <div id=\"df-74e1ddec-c91e-48f1-a659-3e68ed75e55c\">\n",
              "    <div class=\"colab-df-container\">\n",
              "      <div>\n",
              "<style scoped>\n",
              "    .dataframe tbody tr th:only-of-type {\n",
              "        vertical-align: middle;\n",
              "    }\n",
              "\n",
              "    .dataframe tbody tr th {\n",
              "        vertical-align: top;\n",
              "    }\n",
              "\n",
              "    .dataframe thead th {\n",
              "        text-align: right;\n",
              "    }\n",
              "</style>\n",
              "<table border=\"1\" class=\"dataframe\">\n",
              "  <thead>\n",
              "    <tr style=\"text-align: right;\">\n",
              "      <th></th>\n",
              "      <th>target</th>\n",
              "      <th>ids</th>\n",
              "      <th>date</th>\n",
              "      <th>flag</th>\n",
              "      <th>user</th>\n",
              "      <th>text</th>\n",
              "    </tr>\n",
              "  </thead>\n",
              "  <tbody>\n",
              "    <tr>\n",
              "      <th>0</th>\n",
              "      <td>0</td>\n",
              "      <td>1467810369</td>\n",
              "      <td>Mon Apr 06 22:19:45 PDT 2009</td>\n",
              "      <td>NO_QUERY</td>\n",
              "      <td>_TheSpecialOne_</td>\n",
              "      <td>@switchfoot http://twitpic.com/2y1zl - Awww, t...</td>\n",
              "    </tr>\n",
              "    <tr>\n",
              "      <th>1</th>\n",
              "      <td>0</td>\n",
              "      <td>1467810672</td>\n",
              "      <td>Mon Apr 06 22:19:49 PDT 2009</td>\n",
              "      <td>NO_QUERY</td>\n",
              "      <td>scotthamilton</td>\n",
              "      <td>is upset that he can't update his Facebook by ...</td>\n",
              "    </tr>\n",
              "    <tr>\n",
              "      <th>2</th>\n",
              "      <td>0</td>\n",
              "      <td>1467810917</td>\n",
              "      <td>Mon Apr 06 22:19:53 PDT 2009</td>\n",
              "      <td>NO_QUERY</td>\n",
              "      <td>mattycus</td>\n",
              "      <td>@Kenichan I dived many times for the ball. Man...</td>\n",
              "    </tr>\n",
              "    <tr>\n",
              "      <th>3</th>\n",
              "      <td>0</td>\n",
              "      <td>1467811184</td>\n",
              "      <td>Mon Apr 06 22:19:57 PDT 2009</td>\n",
              "      <td>NO_QUERY</td>\n",
              "      <td>ElleCTF</td>\n",
              "      <td>my whole body feels itchy and like its on fire</td>\n",
              "    </tr>\n",
              "    <tr>\n",
              "      <th>4</th>\n",
              "      <td>0</td>\n",
              "      <td>1467811193</td>\n",
              "      <td>Mon Apr 06 22:19:57 PDT 2009</td>\n",
              "      <td>NO_QUERY</td>\n",
              "      <td>Karoli</td>\n",
              "      <td>@nationwideclass no, it's not behaving at all....</td>\n",
              "    </tr>\n",
              "  </tbody>\n",
              "</table>\n",
              "</div>\n",
              "      <button class=\"colab-df-convert\" onclick=\"convertToInteractive('df-74e1ddec-c91e-48f1-a659-3e68ed75e55c')\"\n",
              "              title=\"Convert this dataframe to an interactive table.\"\n",
              "              style=\"display:none;\">\n",
              "        \n",
              "  <svg xmlns=\"http://www.w3.org/2000/svg\" height=\"24px\"viewBox=\"0 0 24 24\"\n",
              "       width=\"24px\">\n",
              "    <path d=\"M0 0h24v24H0V0z\" fill=\"none\"/>\n",
              "    <path d=\"M18.56 5.44l.94 2.06.94-2.06 2.06-.94-2.06-.94-.94-2.06-.94 2.06-2.06.94zm-11 1L8.5 8.5l.94-2.06 2.06-.94-2.06-.94L8.5 2.5l-.94 2.06-2.06.94zm10 10l.94 2.06.94-2.06 2.06-.94-2.06-.94-.94-2.06-.94 2.06-2.06.94z\"/><path d=\"M17.41 7.96l-1.37-1.37c-.4-.4-.92-.59-1.43-.59-.52 0-1.04.2-1.43.59L10.3 9.45l-7.72 7.72c-.78.78-.78 2.05 0 2.83L4 21.41c.39.39.9.59 1.41.59.51 0 1.02-.2 1.41-.59l7.78-7.78 2.81-2.81c.8-.78.8-2.07 0-2.86zM5.41 20L4 18.59l7.72-7.72 1.47 1.35L5.41 20z\"/>\n",
              "  </svg>\n",
              "      </button>\n",
              "      \n",
              "  <style>\n",
              "    .colab-df-container {\n",
              "      display:flex;\n",
              "      flex-wrap:wrap;\n",
              "      gap: 12px;\n",
              "    }\n",
              "\n",
              "    .colab-df-convert {\n",
              "      background-color: #E8F0FE;\n",
              "      border: none;\n",
              "      border-radius: 50%;\n",
              "      cursor: pointer;\n",
              "      display: none;\n",
              "      fill: #1967D2;\n",
              "      height: 32px;\n",
              "      padding: 0 0 0 0;\n",
              "      width: 32px;\n",
              "    }\n",
              "\n",
              "    .colab-df-convert:hover {\n",
              "      background-color: #E2EBFA;\n",
              "      box-shadow: 0px 1px 2px rgba(60, 64, 67, 0.3), 0px 1px 3px 1px rgba(60, 64, 67, 0.15);\n",
              "      fill: #174EA6;\n",
              "    }\n",
              "\n",
              "    [theme=dark] .colab-df-convert {\n",
              "      background-color: #3B4455;\n",
              "      fill: #D2E3FC;\n",
              "    }\n",
              "\n",
              "    [theme=dark] .colab-df-convert:hover {\n",
              "      background-color: #434B5C;\n",
              "      box-shadow: 0px 1px 3px 1px rgba(0, 0, 0, 0.15);\n",
              "      filter: drop-shadow(0px 1px 2px rgba(0, 0, 0, 0.3));\n",
              "      fill: #FFFFFF;\n",
              "    }\n",
              "  </style>\n",
              "\n",
              "      <script>\n",
              "        const buttonEl =\n",
              "          document.querySelector('#df-74e1ddec-c91e-48f1-a659-3e68ed75e55c button.colab-df-convert');\n",
              "        buttonEl.style.display =\n",
              "          google.colab.kernel.accessAllowed ? 'block' : 'none';\n",
              "\n",
              "        async function convertToInteractive(key) {\n",
              "          const element = document.querySelector('#df-74e1ddec-c91e-48f1-a659-3e68ed75e55c');\n",
              "          const dataTable =\n",
              "            await google.colab.kernel.invokeFunction('convertToInteractive',\n",
              "                                                     [key], {});\n",
              "          if (!dataTable) return;\n",
              "\n",
              "          const docLinkHtml = 'Like what you see? Visit the ' +\n",
              "            '<a target=\"_blank\" href=https://colab.research.google.com/notebooks/data_table.ipynb>data table notebook</a>'\n",
              "            + ' to learn more about interactive tables.';\n",
              "          element.innerHTML = '';\n",
              "          dataTable['output_type'] = 'display_data';\n",
              "          await google.colab.output.renderOutput(dataTable, element);\n",
              "          const docLink = document.createElement('div');\n",
              "          docLink.innerHTML = docLinkHtml;\n",
              "          element.appendChild(docLink);\n",
              "        }\n",
              "      </script>\n",
              "    </div>\n",
              "  </div>\n",
              "  "
            ],
            "text/plain": [
              "   target         ids                          date      flag  \\\n",
              "0       0  1467810369  Mon Apr 06 22:19:45 PDT 2009  NO_QUERY   \n",
              "1       0  1467810672  Mon Apr 06 22:19:49 PDT 2009  NO_QUERY   \n",
              "2       0  1467810917  Mon Apr 06 22:19:53 PDT 2009  NO_QUERY   \n",
              "3       0  1467811184  Mon Apr 06 22:19:57 PDT 2009  NO_QUERY   \n",
              "4       0  1467811193  Mon Apr 06 22:19:57 PDT 2009  NO_QUERY   \n",
              "\n",
              "              user                                               text  \n",
              "0  _TheSpecialOne_  @switchfoot http://twitpic.com/2y1zl - Awww, t...  \n",
              "1    scotthamilton  is upset that he can't update his Facebook by ...  \n",
              "2         mattycus  @Kenichan I dived many times for the ball. Man...  \n",
              "3          ElleCTF    my whole body feels itchy and like its on fire   \n",
              "4           Karoli  @nationwideclass no, it's not behaving at all....  "
            ]
          },
          "execution_count": 9,
          "metadata": {},
          "output_type": "execute_result"
        }
      ],
      "source": [
        "df.head()"
      ]
    },
    {
      "cell_type": "markdown",
      "metadata": {
        "id": "9l6QyDFhN4Yj"
      },
      "source": [
        "# Taking subset of the Data"
      ]
    },
    {
      "cell_type": "code",
      "execution_count": null,
      "metadata": {
        "id": "lwvGDkmaOEKJ"
      },
      "outputs": [],
      "source": [
        "from sklearn.model_selection import train_test_split\n",
        "x_train, df2, y_train, df3 = train_test_split(df.iloc[:,1:], df.iloc[:,0:1], test_size=0.125, random_state=19, stratify=df['target'])\n",
        "df1 = pd.concat([df3, df2], axis = 1)"
      ]
    },
    {
      "cell_type": "code",
      "execution_count": null,
      "metadata": {
        "colab": {
          "base_uri": "https://localhost:8080/",
          "height": 206
        },
        "id": "d5K9y8W5v60z",
        "outputId": "32b3553f-5852-4393-e35e-1e297dcaaf6e"
      },
      "outputs": [
        {
          "data": {
            "text/html": [
              "\n",
              "  <div id=\"df-d6b56fa6-4ccc-4449-954f-55ded81f61d9\">\n",
              "    <div class=\"colab-df-container\">\n",
              "      <div>\n",
              "<style scoped>\n",
              "    .dataframe tbody tr th:only-of-type {\n",
              "        vertical-align: middle;\n",
              "    }\n",
              "\n",
              "    .dataframe tbody tr th {\n",
              "        vertical-align: top;\n",
              "    }\n",
              "\n",
              "    .dataframe thead th {\n",
              "        text-align: right;\n",
              "    }\n",
              "</style>\n",
              "<table border=\"1\" class=\"dataframe\">\n",
              "  <thead>\n",
              "    <tr style=\"text-align: right;\">\n",
              "      <th></th>\n",
              "      <th>target</th>\n",
              "      <th>ids</th>\n",
              "      <th>date</th>\n",
              "      <th>flag</th>\n",
              "      <th>user</th>\n",
              "      <th>text</th>\n",
              "    </tr>\n",
              "  </thead>\n",
              "  <tbody>\n",
              "    <tr>\n",
              "      <th>1220942</th>\n",
              "      <td>4</td>\n",
              "      <td>1990102440</td>\n",
              "      <td>Mon Jun 01 03:53:16 PDT 2009</td>\n",
              "      <td>NO_QUERY</td>\n",
              "      <td>lovingmercy</td>\n",
              "      <td>@boagworld No experience, but would be interes...</td>\n",
              "    </tr>\n",
              "    <tr>\n",
              "      <th>473247</th>\n",
              "      <td>0</td>\n",
              "      <td>2177028942</td>\n",
              "      <td>Mon Jun 15 05:17:53 PDT 2009</td>\n",
              "      <td>NO_QUERY</td>\n",
              "      <td>marielmilo</td>\n",
              "      <td>http://twitpic.com/7gjbc - i miss ms esqui.</td>\n",
              "    </tr>\n",
              "    <tr>\n",
              "      <th>28266</th>\n",
              "      <td>0</td>\n",
              "      <td>1559580388</td>\n",
              "      <td>Sun Apr 19 11:30:49 PDT 2009</td>\n",
              "      <td>NO_QUERY</td>\n",
              "      <td>Foxee_sox</td>\n",
              "      <td>School tomorrow  (n) We(rhys, amanda, grant) w...</td>\n",
              "    </tr>\n",
              "    <tr>\n",
              "      <th>365924</th>\n",
              "      <td>0</td>\n",
              "      <td>2048673049</td>\n",
              "      <td>Fri Jun 05 15:35:06 PDT 2009</td>\n",
              "      <td>NO_QUERY</td>\n",
              "      <td>VeeMarie21</td>\n",
              "      <td>umm been sitting in traffic 4 half an hour, mo...</td>\n",
              "    </tr>\n",
              "    <tr>\n",
              "      <th>230047</th>\n",
              "      <td>0</td>\n",
              "      <td>1978648348</td>\n",
              "      <td>Sun May 31 00:00:56 PDT 2009</td>\n",
              "      <td>NO_QUERY</td>\n",
              "      <td>bcblonde87</td>\n",
              "      <td>FIRE! Hotel across the street! by the time we ...</td>\n",
              "    </tr>\n",
              "  </tbody>\n",
              "</table>\n",
              "</div>\n",
              "      <button class=\"colab-df-convert\" onclick=\"convertToInteractive('df-d6b56fa6-4ccc-4449-954f-55ded81f61d9')\"\n",
              "              title=\"Convert this dataframe to an interactive table.\"\n",
              "              style=\"display:none;\">\n",
              "        \n",
              "  <svg xmlns=\"http://www.w3.org/2000/svg\" height=\"24px\"viewBox=\"0 0 24 24\"\n",
              "       width=\"24px\">\n",
              "    <path d=\"M0 0h24v24H0V0z\" fill=\"none\"/>\n",
              "    <path d=\"M18.56 5.44l.94 2.06.94-2.06 2.06-.94-2.06-.94-.94-2.06-.94 2.06-2.06.94zm-11 1L8.5 8.5l.94-2.06 2.06-.94-2.06-.94L8.5 2.5l-.94 2.06-2.06.94zm10 10l.94 2.06.94-2.06 2.06-.94-2.06-.94-.94-2.06-.94 2.06-2.06.94z\"/><path d=\"M17.41 7.96l-1.37-1.37c-.4-.4-.92-.59-1.43-.59-.52 0-1.04.2-1.43.59L10.3 9.45l-7.72 7.72c-.78.78-.78 2.05 0 2.83L4 21.41c.39.39.9.59 1.41.59.51 0 1.02-.2 1.41-.59l7.78-7.78 2.81-2.81c.8-.78.8-2.07 0-2.86zM5.41 20L4 18.59l7.72-7.72 1.47 1.35L5.41 20z\"/>\n",
              "  </svg>\n",
              "      </button>\n",
              "      \n",
              "  <style>\n",
              "    .colab-df-container {\n",
              "      display:flex;\n",
              "      flex-wrap:wrap;\n",
              "      gap: 12px;\n",
              "    }\n",
              "\n",
              "    .colab-df-convert {\n",
              "      background-color: #E8F0FE;\n",
              "      border: none;\n",
              "      border-radius: 50%;\n",
              "      cursor: pointer;\n",
              "      display: none;\n",
              "      fill: #1967D2;\n",
              "      height: 32px;\n",
              "      padding: 0 0 0 0;\n",
              "      width: 32px;\n",
              "    }\n",
              "\n",
              "    .colab-df-convert:hover {\n",
              "      background-color: #E2EBFA;\n",
              "      box-shadow: 0px 1px 2px rgba(60, 64, 67, 0.3), 0px 1px 3px 1px rgba(60, 64, 67, 0.15);\n",
              "      fill: #174EA6;\n",
              "    }\n",
              "\n",
              "    [theme=dark] .colab-df-convert {\n",
              "      background-color: #3B4455;\n",
              "      fill: #D2E3FC;\n",
              "    }\n",
              "\n",
              "    [theme=dark] .colab-df-convert:hover {\n",
              "      background-color: #434B5C;\n",
              "      box-shadow: 0px 1px 3px 1px rgba(0, 0, 0, 0.15);\n",
              "      filter: drop-shadow(0px 1px 2px rgba(0, 0, 0, 0.3));\n",
              "      fill: #FFFFFF;\n",
              "    }\n",
              "  </style>\n",
              "\n",
              "      <script>\n",
              "        const buttonEl =\n",
              "          document.querySelector('#df-d6b56fa6-4ccc-4449-954f-55ded81f61d9 button.colab-df-convert');\n",
              "        buttonEl.style.display =\n",
              "          google.colab.kernel.accessAllowed ? 'block' : 'none';\n",
              "\n",
              "        async function convertToInteractive(key) {\n",
              "          const element = document.querySelector('#df-d6b56fa6-4ccc-4449-954f-55ded81f61d9');\n",
              "          const dataTable =\n",
              "            await google.colab.kernel.invokeFunction('convertToInteractive',\n",
              "                                                     [key], {});\n",
              "          if (!dataTable) return;\n",
              "\n",
              "          const docLinkHtml = 'Like what you see? Visit the ' +\n",
              "            '<a target=\"_blank\" href=https://colab.research.google.com/notebooks/data_table.ipynb>data table notebook</a>'\n",
              "            + ' to learn more about interactive tables.';\n",
              "          element.innerHTML = '';\n",
              "          dataTable['output_type'] = 'display_data';\n",
              "          await google.colab.output.renderOutput(dataTable, element);\n",
              "          const docLink = document.createElement('div');\n",
              "          docLink.innerHTML = docLinkHtml;\n",
              "          element.appendChild(docLink);\n",
              "        }\n",
              "      </script>\n",
              "    </div>\n",
              "  </div>\n",
              "  "
            ],
            "text/plain": [
              "         target         ids                          date      flag  \\\n",
              "1220942       4  1990102440  Mon Jun 01 03:53:16 PDT 2009  NO_QUERY   \n",
              "473247        0  2177028942  Mon Jun 15 05:17:53 PDT 2009  NO_QUERY   \n",
              "28266         0  1559580388  Sun Apr 19 11:30:49 PDT 2009  NO_QUERY   \n",
              "365924        0  2048673049  Fri Jun 05 15:35:06 PDT 2009  NO_QUERY   \n",
              "230047        0  1978648348  Sun May 31 00:00:56 PDT 2009  NO_QUERY   \n",
              "\n",
              "                user                                               text  \n",
              "1220942  lovingmercy  @boagworld No experience, but would be interes...  \n",
              "473247    marielmilo       http://twitpic.com/7gjbc - i miss ms esqui.   \n",
              "28266      Foxee_sox  School tomorrow  (n) We(rhys, amanda, grant) w...  \n",
              "365924    VeeMarie21  umm been sitting in traffic 4 half an hour, mo...  \n",
              "230047    bcblonde87  FIRE! Hotel across the street! by the time we ...  "
            ]
          },
          "execution_count": 8,
          "metadata": {},
          "output_type": "execute_result"
        }
      ],
      "source": [
        "df1.head()"
      ]
    },
    {
      "cell_type": "code",
      "execution_count": null,
      "metadata": {
        "colab": {
          "base_uri": "https://localhost:8080/"
        },
        "id": "fZm4P5YlzO79",
        "outputId": "9b52743a-4e9f-4acd-9cc6-44726a12efb1"
      },
      "outputs": [
        {
          "data": {
            "text/plain": [
              "(100000, 6)"
            ]
          },
          "execution_count": 12,
          "metadata": {},
          "output_type": "execute_result"
        }
      ],
      "source": [
        "df1.shape"
      ]
    },
    {
      "cell_type": "markdown",
      "metadata": {
        "id": "DnTlza-t4Tmv"
      },
      "source": [
        "# Map Label to String"
      ]
    },
    {
      "cell_type": "code",
      "execution_count": null,
      "metadata": {
        "id": "b6gUmeHj4S6S"
      },
      "outputs": [],
      "source": [
        "decode_map = {0: \"NEGATIVE\", 2: \"NEUTRAL\", 4: \"POSITIVE\"}\n",
        "def decode_sentiment(label):\n",
        "    return decode_map[int(label)]"
      ]
    },
    {
      "cell_type": "code",
      "execution_count": null,
      "metadata": {
        "colab": {
          "base_uri": "https://localhost:8080/"
        },
        "id": "xft4Peky4hiS",
        "outputId": "951a8a39-3e30-4a56-e26a-dd0ab0f3c398"
      },
      "outputs": [
        {
          "output_type": "stream",
          "name": "stdout",
          "text": [
            "CPU times: user 64.4 ms, sys: 854 µs, total: 65.3 ms\n",
            "Wall time: 69.2 ms\n"
          ]
        }
      ],
      "source": [
        "%%time\n",
        "df1.target = df1.target.apply(lambda x: decode_sentiment(x))"
      ]
    },
    {
      "cell_type": "code",
      "execution_count": null,
      "metadata": {
        "colab": {
          "base_uri": "https://localhost:8080/",
          "height": 206
        },
        "id": "m3q1EwaaLVaF",
        "outputId": "ba7099a5-56ad-4862-8bb5-c9937f6966a1"
      },
      "outputs": [
        {
          "data": {
            "text/html": [
              "\n",
              "  <div id=\"df-88b10710-85c1-4222-b8ad-bee987070702\">\n",
              "    <div class=\"colab-df-container\">\n",
              "      <div>\n",
              "<style scoped>\n",
              "    .dataframe tbody tr th:only-of-type {\n",
              "        vertical-align: middle;\n",
              "    }\n",
              "\n",
              "    .dataframe tbody tr th {\n",
              "        vertical-align: top;\n",
              "    }\n",
              "\n",
              "    .dataframe thead th {\n",
              "        text-align: right;\n",
              "    }\n",
              "</style>\n",
              "<table border=\"1\" class=\"dataframe\">\n",
              "  <thead>\n",
              "    <tr style=\"text-align: right;\">\n",
              "      <th></th>\n",
              "      <th>target</th>\n",
              "      <th>ids</th>\n",
              "      <th>date</th>\n",
              "      <th>flag</th>\n",
              "      <th>user</th>\n",
              "      <th>text</th>\n",
              "    </tr>\n",
              "  </thead>\n",
              "  <tbody>\n",
              "    <tr>\n",
              "      <th>1220942</th>\n",
              "      <td>POSITIVE</td>\n",
              "      <td>1990102440</td>\n",
              "      <td>Mon Jun 01 03:53:16 PDT 2009</td>\n",
              "      <td>NO_QUERY</td>\n",
              "      <td>lovingmercy</td>\n",
              "      <td>@boagworld No experience, but would be interes...</td>\n",
              "    </tr>\n",
              "    <tr>\n",
              "      <th>473247</th>\n",
              "      <td>NEGATIVE</td>\n",
              "      <td>2177028942</td>\n",
              "      <td>Mon Jun 15 05:17:53 PDT 2009</td>\n",
              "      <td>NO_QUERY</td>\n",
              "      <td>marielmilo</td>\n",
              "      <td>http://twitpic.com/7gjbc - i miss ms esqui.</td>\n",
              "    </tr>\n",
              "    <tr>\n",
              "      <th>28266</th>\n",
              "      <td>NEGATIVE</td>\n",
              "      <td>1559580388</td>\n",
              "      <td>Sun Apr 19 11:30:49 PDT 2009</td>\n",
              "      <td>NO_QUERY</td>\n",
              "      <td>Foxee_sox</td>\n",
              "      <td>School tomorrow  (n) We(rhys, amanda, grant) w...</td>\n",
              "    </tr>\n",
              "    <tr>\n",
              "      <th>365924</th>\n",
              "      <td>NEGATIVE</td>\n",
              "      <td>2048673049</td>\n",
              "      <td>Fri Jun 05 15:35:06 PDT 2009</td>\n",
              "      <td>NO_QUERY</td>\n",
              "      <td>VeeMarie21</td>\n",
              "      <td>umm been sitting in traffic 4 half an hour, mo...</td>\n",
              "    </tr>\n",
              "    <tr>\n",
              "      <th>230047</th>\n",
              "      <td>NEGATIVE</td>\n",
              "      <td>1978648348</td>\n",
              "      <td>Sun May 31 00:00:56 PDT 2009</td>\n",
              "      <td>NO_QUERY</td>\n",
              "      <td>bcblonde87</td>\n",
              "      <td>FIRE! Hotel across the street! by the time we ...</td>\n",
              "    </tr>\n",
              "  </tbody>\n",
              "</table>\n",
              "</div>\n",
              "      <button class=\"colab-df-convert\" onclick=\"convertToInteractive('df-88b10710-85c1-4222-b8ad-bee987070702')\"\n",
              "              title=\"Convert this dataframe to an interactive table.\"\n",
              "              style=\"display:none;\">\n",
              "        \n",
              "  <svg xmlns=\"http://www.w3.org/2000/svg\" height=\"24px\"viewBox=\"0 0 24 24\"\n",
              "       width=\"24px\">\n",
              "    <path d=\"M0 0h24v24H0V0z\" fill=\"none\"/>\n",
              "    <path d=\"M18.56 5.44l.94 2.06.94-2.06 2.06-.94-2.06-.94-.94-2.06-.94 2.06-2.06.94zm-11 1L8.5 8.5l.94-2.06 2.06-.94-2.06-.94L8.5 2.5l-.94 2.06-2.06.94zm10 10l.94 2.06.94-2.06 2.06-.94-2.06-.94-.94-2.06-.94 2.06-2.06.94z\"/><path d=\"M17.41 7.96l-1.37-1.37c-.4-.4-.92-.59-1.43-.59-.52 0-1.04.2-1.43.59L10.3 9.45l-7.72 7.72c-.78.78-.78 2.05 0 2.83L4 21.41c.39.39.9.59 1.41.59.51 0 1.02-.2 1.41-.59l7.78-7.78 2.81-2.81c.8-.78.8-2.07 0-2.86zM5.41 20L4 18.59l7.72-7.72 1.47 1.35L5.41 20z\"/>\n",
              "  </svg>\n",
              "      </button>\n",
              "      \n",
              "  <style>\n",
              "    .colab-df-container {\n",
              "      display:flex;\n",
              "      flex-wrap:wrap;\n",
              "      gap: 12px;\n",
              "    }\n",
              "\n",
              "    .colab-df-convert {\n",
              "      background-color: #E8F0FE;\n",
              "      border: none;\n",
              "      border-radius: 50%;\n",
              "      cursor: pointer;\n",
              "      display: none;\n",
              "      fill: #1967D2;\n",
              "      height: 32px;\n",
              "      padding: 0 0 0 0;\n",
              "      width: 32px;\n",
              "    }\n",
              "\n",
              "    .colab-df-convert:hover {\n",
              "      background-color: #E2EBFA;\n",
              "      box-shadow: 0px 1px 2px rgba(60, 64, 67, 0.3), 0px 1px 3px 1px rgba(60, 64, 67, 0.15);\n",
              "      fill: #174EA6;\n",
              "    }\n",
              "\n",
              "    [theme=dark] .colab-df-convert {\n",
              "      background-color: #3B4455;\n",
              "      fill: #D2E3FC;\n",
              "    }\n",
              "\n",
              "    [theme=dark] .colab-df-convert:hover {\n",
              "      background-color: #434B5C;\n",
              "      box-shadow: 0px 1px 3px 1px rgba(0, 0, 0, 0.15);\n",
              "      filter: drop-shadow(0px 1px 2px rgba(0, 0, 0, 0.3));\n",
              "      fill: #FFFFFF;\n",
              "    }\n",
              "  </style>\n",
              "\n",
              "      <script>\n",
              "        const buttonEl =\n",
              "          document.querySelector('#df-88b10710-85c1-4222-b8ad-bee987070702 button.colab-df-convert');\n",
              "        buttonEl.style.display =\n",
              "          google.colab.kernel.accessAllowed ? 'block' : 'none';\n",
              "\n",
              "        async function convertToInteractive(key) {\n",
              "          const element = document.querySelector('#df-88b10710-85c1-4222-b8ad-bee987070702');\n",
              "          const dataTable =\n",
              "            await google.colab.kernel.invokeFunction('convertToInteractive',\n",
              "                                                     [key], {});\n",
              "          if (!dataTable) return;\n",
              "\n",
              "          const docLinkHtml = 'Like what you see? Visit the ' +\n",
              "            '<a target=\"_blank\" href=https://colab.research.google.com/notebooks/data_table.ipynb>data table notebook</a>'\n",
              "            + ' to learn more about interactive tables.';\n",
              "          element.innerHTML = '';\n",
              "          dataTable['output_type'] = 'display_data';\n",
              "          await google.colab.output.renderOutput(dataTable, element);\n",
              "          const docLink = document.createElement('div');\n",
              "          docLink.innerHTML = docLinkHtml;\n",
              "          element.appendChild(docLink);\n",
              "        }\n",
              "      </script>\n",
              "    </div>\n",
              "  </div>\n",
              "  "
            ],
            "text/plain": [
              "           target         ids                          date      flag  \\\n",
              "1220942  POSITIVE  1990102440  Mon Jun 01 03:53:16 PDT 2009  NO_QUERY   \n",
              "473247   NEGATIVE  2177028942  Mon Jun 15 05:17:53 PDT 2009  NO_QUERY   \n",
              "28266    NEGATIVE  1559580388  Sun Apr 19 11:30:49 PDT 2009  NO_QUERY   \n",
              "365924   NEGATIVE  2048673049  Fri Jun 05 15:35:06 PDT 2009  NO_QUERY   \n",
              "230047   NEGATIVE  1978648348  Sun May 31 00:00:56 PDT 2009  NO_QUERY   \n",
              "\n",
              "                user                                               text  \n",
              "1220942  lovingmercy  @boagworld No experience, but would be interes...  \n",
              "473247    marielmilo       http://twitpic.com/7gjbc - i miss ms esqui.   \n",
              "28266      Foxee_sox  School tomorrow  (n) We(rhys, amanda, grant) w...  \n",
              "365924    VeeMarie21  umm been sitting in traffic 4 half an hour, mo...  \n",
              "230047    bcblonde87  FIRE! Hotel across the street! by the time we ...  "
            ]
          },
          "execution_count": 10,
          "metadata": {},
          "output_type": "execute_result"
        }
      ],
      "source": [
        "df1.head()"
      ]
    },
    {
      "cell_type": "markdown",
      "metadata": {
        "id": "N5PiszYw4qod"
      },
      "source": [
        "## Check distribution of sentiments"
      ]
    },
    {
      "cell_type": "code",
      "execution_count": null,
      "metadata": {
        "colab": {
          "base_uri": "https://localhost:8080/",
          "height": 516
        },
        "id": "mrRtkPzv4qF6",
        "outputId": "1e59d032-8c1f-4f38-bd0d-9d6e47b0cea7"
      },
      "outputs": [
        {
          "output_type": "execute_result",
          "data": {
            "text/plain": [
              "Text(0.5, 1.0, 'Dataset labels distribuition')"
            ]
          },
          "metadata": {},
          "execution_count": 10
        },
        {
          "output_type": "display_data",
          "data": {
            "text/plain": [
              "<Figure size 1152x576 with 1 Axes>"
            ],
            "image/png": "[encoded data removed]"
          },
          "metadata": {
            "needs_background": "light"
          }
        }
      ],
      "source": [
        "target_cnt = Counter(df1.target)\n",
        "\n",
        "plt.figure(figsize=(16,8))\n",
        "plt.bar(target_cnt.keys(), target_cnt.values())\n",
        "plt.title(\"Dataset labels distribuition\")"
      ]
    },
    {
      "cell_type": "markdown",
      "metadata": {
        "id": "ORWXkIMa4y0E"
      },
      "source": [
        "## Preprocessing the dataset"
      ]
    },
    {
      "cell_type": "code",
      "execution_count": null,
      "metadata": {
        "id": "stN7cmdj4yNh"
      },
      "outputs": [],
      "source": [
        "stop_words = stopwords.words(\"english\")\n",
        "stemmer = SnowballStemmer(\"english\")"
      ]
    },
    {
      "cell_type": "markdown",
      "metadata": {
        "id": "cHy9WYfwMUxP"
      },
      "source": [
        "## Text Preprocessing"
      ]
    },
    {
      "cell_type": "code",
      "execution_count": null,
      "metadata": {
        "id": "WcQ9iZC743DS"
      },
      "outputs": [],
      "source": [
        "def preprocess(text, stem=False):\n",
        "    # Remove link,user and special characters\n",
        "    text = re.sub(TEXT_CLEANING_RE, ' ', str(text).lower()).strip()\n",
        "    tokens = []\n",
        "    for token in text.split():\n",
        "        if token not in stop_words:\n",
        "            if stem:\n",
        "                tokens.append(stemmer.stem(token))\n",
        "            else:\n",
        "                tokens.append(token)\n",
        "    return \" \".join(tokens)"
      ]
    },
    {
      "cell_type": "code",
      "execution_count": null,
      "metadata": {
        "colab": {
          "base_uri": "https://localhost:8080/"
        },
        "id": "DWTwnsvcM7wB",
        "outputId": "aec6de9b-3cb6-400a-96bb-dd40d4805e8c"
      },
      "outputs": [
        {
          "output_type": "stream",
          "name": "stdout",
          "text": [
            "CPU times: user 6.94 s, sys: 31.8 ms, total: 6.97 s\n",
            "Wall time: 6.98 s\n"
          ]
        }
      ],
      "source": [
        "%%time\n",
        "df1['text_clean'] = df1.text.apply(lambda x: preprocess(x))\n"
      ]
    },
    {
      "cell_type": "code",
      "execution_count": null,
      "metadata": {
        "colab": {
          "base_uri": "https://localhost:8080/"
        },
        "id": "3-lCL2oCOwOy",
        "outputId": "96cf10b9-a194-475e-dd53-811deaa48eae"
      },
      "outputs": [
        {
          "output_type": "stream",
          "name": "stdout",
          "text": [
            "                                                      text  \\\n",
            "513467   Yay for Jon and Kate + 8! boo for having to wo...   \n",
            "317873   @TimothyH2O sorry about last night I would hav...   \n",
            "1106322  Good Morning my Twitter Loves.....Have a wonde...   \n",
            "430836   @jamesheart24 I am great.. 'Revising' for my l...   \n",
            "1211267  @AmyyVee wehehehehe sorry.... :| ) So whats new?    \n",
            "\n",
            "                                       text_clean  \n",
            "513467               yay jon kate 8 boo work 10am  \n",
            "317873         sorry last night would stayed left  \n",
            "1106322  good morning twitter loves wonderful day  \n",
            "430836              great revising last exam done  \n",
            "1211267                wehehehehe sorry whats new  \n"
          ]
        }
      ],
      "source": [
        "with pd.option_context('display.max_columns', None,'display.precision', 3,):\n",
        " print(df1.iloc[0:5,5:7])\n"
      ]
    },
    {
      "cell_type": "markdown",
      "source": [
        "Lemmatization"
      ],
      "metadata": {
        "id": "8Ny5lOlbNYUV"
      }
    },
    {
      "cell_type": "code",
      "execution_count": null,
      "metadata": {
        "colab": {
          "base_uri": "https://localhost:8080/"
        },
        "outputId": "246c8537-6ba2-4b9a-d22f-1c633439fec0",
        "id": "uqhYzJ-5pvmL"
      },
      "outputs": [
        {
          "output_type": "stream",
          "name": "stdout",
          "text": [
            "[nltk_data] Downloading package wordnet to /root/nltk_data...\n",
            "[nltk_data]   Unzipping corpora/wordnet.zip.\n"
          ]
        }
      ],
      "source": [
        "# Lemmatization\n",
        "\n",
        "nltk.download('wordnet')\n",
        "from nltk.stem import WordNetLemmatizer\n",
        "lem = WordNetLemmatizer()\n",
        "def preprocess_lemma(text):\n",
        "    # Remove link,user and special characters\n",
        "    text = re.sub(TEXT_CLEANING_RE, ' ', str(text).lower()).strip()\n",
        "    tokens = []\n",
        "    for token in text.split():\n",
        "        if token not in stop_words:\n",
        "          tokens.append(lem.lemmatize(token))\n",
        "            \n",
        "    return \" \".join(tokens)"
      ]
    },
    {
      "cell_type": "code",
      "execution_count": null,
      "metadata": {
        "colab": {
          "base_uri": "https://localhost:8080/"
        },
        "outputId": "0e96c764-e138-4031-fe84-3a799000da0d",
        "id": "YHdrBBSbpvmL"
      },
      "outputs": [
        {
          "output_type": "stream",
          "name": "stdout",
          "text": [
            "CPU times: user 16.2 s, sys: 252 ms, total: 16.5 s\n",
            "Wall time: 17 s\n"
          ]
        }
      ],
      "source": [
        "%%time\n",
        "df1['text_clean'] = df1.text.apply(lambda x: preprocess_lemma(x))"
      ]
    },
    {
      "cell_type": "markdown",
      "metadata": {
        "id": "rB4vmd7ImT4k"
      },
      "source": [
        "### Split train and test"
      ]
    },
    {
      "cell_type": "code",
      "execution_count": null,
      "metadata": {
        "colab": {
          "base_uri": "https://localhost:8080/"
        },
        "id": "ctGYUGzDmT4k",
        "outputId": "d87b2b18-8950-4ec7-ceec-ce3a7712d39b"
      },
      "outputs": [
        {
          "output_type": "stream",
          "name": "stdout",
          "text": [
            "TRAIN size: 160000\n",
            "TEST size: 40000\n"
          ]
        }
      ],
      "source": [
        "df_train, df_test = train_test_split(df1, test_size=1-TRAIN_SIZE, random_state=42)\n",
        "print(\"TRAIN size:\", len(df_train))\n",
        "print(\"TEST size:\", len(df_test))"
      ]
    },
    {
      "cell_type": "code",
      "execution_count": null,
      "metadata": {
        "id": "EcmfuOKaNUGV",
        "colab": {
          "base_uri": "https://localhost:8080/",
          "height": 337
        },
        "outputId": "6f6085ad-9d80-4247-deb9-b1f7f3eb299d"
      },
      "outputs": [
        {
          "output_type": "execute_result",
          "data": {
            "text/plain": [
              "           target         ids                          date      flag  \\\n",
              "513467   NEGATIVE  2190392801  Tue Jun 16 02:35:58 PDT 2009  NO_QUERY   \n",
              "317873   NEGATIVE  2002701375  Tue Jun 02 04:56:34 PDT 2009  NO_QUERY   \n",
              "1106322  POSITIVE  1971410827  Sat May 30 07:02:48 PDT 2009  NO_QUERY   \n",
              "430836   NEGATIVE  2064416725  Sun Jun 07 06:12:25 PDT 2009  NO_QUERY   \n",
              "1211267  POSITIVE  1989134863  Mon Jun 01 00:27:37 PDT 2009  NO_QUERY   \n",
              "\n",
              "                   user                                               text  \\\n",
              "513467      ericaaviles  Yay for Jon and Kate + 8! boo for having to wo...   \n",
              "317873        janine_j9  @TimothyH2O sorry about last night I would hav...   \n",
              "1106322  CandisDanielle  Good Morning my Twitter Loves.....Have a wonde...   \n",
              "430836        Portiaism  @jamesheart24 I am great.. 'Revising' for my l...   \n",
              "1211267       fadedmoon  @AmyyVee wehehehehe sorry.... :| ) So whats new?    \n",
              "\n",
              "                                      text_clean  \n",
              "513467              yay jon kate 8 boo work 10am  \n",
              "317873        sorry last night would stayed left  \n",
              "1106322  good morning twitter love wonderful day  \n",
              "430836             great revising last exam done  \n",
              "1211267               wehehehehe sorry whats new  "
            ],
            "text/html": [
              "\n",
              "  <div id=\"df-8947d397-7393-40c1-b830-2f42ac44ed49\">\n",
              "    <div class=\"colab-df-container\">\n",
              "      <div>\n",
              "<style scoped>\n",
              "    .dataframe tbody tr th:only-of-type {\n",
              "        vertical-align: middle;\n",
              "    }\n",
              "\n",
              "    .dataframe tbody tr th {\n",
              "        vertical-align: top;\n",
              "    }\n",
              "\n",
              "    .dataframe thead th {\n",
              "        text-align: right;\n",
              "    }\n",
              "</style>\n",
              "<table border=\"1\" class=\"dataframe\">\n",
              "  <thead>\n",
              "    <tr style=\"text-align: right;\">\n",
              "      <th></th>\n",
              "      <th>target</th>\n",
              "      <th>ids</th>\n",
              "      <th>date</th>\n",
              "      <th>flag</th>\n",
              "      <th>user</th>\n",
              "      <th>text</th>\n",
              "      <th>text_clean</th>\n",
              "    </tr>\n",
              "  </thead>\n",
              "  <tbody>\n",
              "    <tr>\n",
              "      <th>513467</th>\n",
              "      <td>NEGATIVE</td>\n",
              "      <td>2190392801</td>\n",
              "      <td>Tue Jun 16 02:35:58 PDT 2009</td>\n",
              "      <td>NO_QUERY</td>\n",
              "      <td>ericaaviles</td>\n",
              "      <td>Yay for Jon and Kate + 8! boo for having to wo...</td>\n",
              "      <td>yay jon kate 8 boo work 10am</td>\n",
              "    </tr>\n",
              "    <tr>\n",
              "      <th>317873</th>\n",
              "      <td>NEGATIVE</td>\n",
              "      <td>2002701375</td>\n",
              "      <td>Tue Jun 02 04:56:34 PDT 2009</td>\n",
              "      <td>NO_QUERY</td>\n",
              "      <td>janine_j9</td>\n",
              "      <td>@TimothyH2O sorry about last night I would hav...</td>\n",
              "      <td>sorry last night would stayed left</td>\n",
              "    </tr>\n",
              "    <tr>\n",
              "      <th>1106322</th>\n",
              "      <td>POSITIVE</td>\n",
              "      <td>1971410827</td>\n",
              "      <td>Sat May 30 07:02:48 PDT 2009</td>\n",
              "      <td>NO_QUERY</td>\n",
              "      <td>CandisDanielle</td>\n",
              "      <td>Good Morning my Twitter Loves.....Have a wonde...</td>\n",
              "      <td>good morning twitter love wonderful day</td>\n",
              "    </tr>\n",
              "    <tr>\n",
              "      <th>430836</th>\n",
              "      <td>NEGATIVE</td>\n",
              "      <td>2064416725</td>\n",
              "      <td>Sun Jun 07 06:12:25 PDT 2009</td>\n",
              "      <td>NO_QUERY</td>\n",
              "      <td>Portiaism</td>\n",
              "      <td>@jamesheart24 I am great.. 'Revising' for my l...</td>\n",
              "      <td>great revising last exam done</td>\n",
              "    </tr>\n",
              "    <tr>\n",
              "      <th>1211267</th>\n",
              "      <td>POSITIVE</td>\n",
              "      <td>1989134863</td>\n",
              "      <td>Mon Jun 01 00:27:37 PDT 2009</td>\n",
              "      <td>NO_QUERY</td>\n",
              "      <td>fadedmoon</td>\n",
              "      <td>@AmyyVee wehehehehe sorry.... :| ) So whats new?</td>\n",
              "      <td>wehehehehe sorry whats new</td>\n",
              "    </tr>\n",
              "  </tbody>\n",
              "</table>\n",
              "</div>\n",
              "      <button class=\"colab-df-convert\" onclick=\"convertToInteractive('df-8947d397-7393-40c1-b830-2f42ac44ed49')\"\n",
              "              title=\"Convert this dataframe to an interactive table.\"\n",
              "              style=\"display:none;\">\n",
              "        \n",
              "  <svg xmlns=\"http://www.w3.org/2000/svg\" height=\"24px\"viewBox=\"0 0 24 24\"\n",
              "       width=\"24px\">\n",
              "    <path d=\"M0 0h24v24H0V0z\" fill=\"none\"/>\n",
              "    <path d=\"M18.56 5.44l.94 2.06.94-2.06 2.06-.94-2.06-.94-.94-2.06-.94 2.06-2.06.94zm-11 1L8.5 8.5l.94-2.06 2.06-.94-2.06-.94L8.5 2.5l-.94 2.06-2.06.94zm10 10l.94 2.06.94-2.06 2.06-.94-2.06-.94-.94-2.06-.94 2.06-2.06.94z\"/><path d=\"M17.41 7.96l-1.37-1.37c-.4-.4-.92-.59-1.43-.59-.52 0-1.04.2-1.43.59L10.3 9.45l-7.72 7.72c-.78.78-.78 2.05 0 2.83L4 21.41c.39.39.9.59 1.41.59.51 0 1.02-.2 1.41-.59l7.78-7.78 2.81-2.81c.8-.78.8-2.07 0-2.86zM5.41 20L4 18.59l7.72-7.72 1.47 1.35L5.41 20z\"/>\n",
              "  </svg>\n",
              "      </button>\n",
              "      \n",
              "  <style>\n",
              "    .colab-df-container {\n",
              "      display:flex;\n",
              "      flex-wrap:wrap;\n",
              "      gap: 12px;\n",
              "    }\n",
              "\n",
              "    .colab-df-convert {\n",
              "      background-color: #E8F0FE;\n",
              "      border: none;\n",
              "      border-radius: 50%;\n",
              "      cursor: pointer;\n",
              "      display: none;\n",
              "      fill: #1967D2;\n",
              "      height: 32px;\n",
              "      padding: 0 0 0 0;\n",
              "      width: 32px;\n",
              "    }\n",
              "\n",
              "    .colab-df-convert:hover {\n",
              "      background-color: #E2EBFA;\n",
              "      box-shadow: 0px 1px 2px rgba(60, 64, 67, 0.3), 0px 1px 3px 1px rgba(60, 64, 67, 0.15);\n",
              "      fill: #174EA6;\n",
              "    }\n",
              "\n",
              "    [theme=dark] .colab-df-convert {\n",
              "      background-color: #3B4455;\n",
              "      fill: #D2E3FC;\n",
              "    }\n",
              "\n",
              "    [theme=dark] .colab-df-convert:hover {\n",
              "      background-color: #434B5C;\n",
              "      box-shadow: 0px 1px 3px 1px rgba(0, 0, 0, 0.15);\n",
              "      filter: drop-shadow(0px 1px 2px rgba(0, 0, 0, 0.3));\n",
              "      fill: #FFFFFF;\n",
              "    }\n",
              "  </style>\n",
              "\n",
              "      <script>\n",
              "        const buttonEl =\n",
              "          document.querySelector('#df-8947d397-7393-40c1-b830-2f42ac44ed49 button.colab-df-convert');\n",
              "        buttonEl.style.display =\n",
              "          google.colab.kernel.accessAllowed ? 'block' : 'none';\n",
              "\n",
              "        async function convertToInteractive(key) {\n",
              "          const element = document.querySelector('#df-8947d397-7393-40c1-b830-2f42ac44ed49');\n",
              "          const dataTable =\n",
              "            await google.colab.kernel.invokeFunction('convertToInteractive',\n",
              "                                                     [key], {});\n",
              "          if (!dataTable) return;\n",
              "\n",
              "          const docLinkHtml = 'Like what you see? Visit the ' +\n",
              "            '<a target=\"_blank\" href=https://colab.research.google.com/notebooks/data_table.ipynb>data table notebook</a>'\n",
              "            + ' to learn more about interactive tables.';\n",
              "          element.innerHTML = '';\n",
              "          dataTable['output_type'] = 'display_data';\n",
              "          await google.colab.output.renderOutput(dataTable, element);\n",
              "          const docLink = document.createElement('div');\n",
              "          docLink.innerHTML = docLinkHtml;\n",
              "          element.appendChild(docLink);\n",
              "        }\n",
              "      </script>\n",
              "    </div>\n",
              "  </div>\n",
              "  "
            ]
          },
          "metadata": {},
          "execution_count": 43
        }
      ],
      "source": [
        "df1.head()"
      ]
    },
    {
      "cell_type": "markdown",
      "metadata": {
        "id": "wfqNtZv6mT4l"
      },
      "source": [
        "### Word2Vec "
      ]
    },
    {
      "cell_type": "code",
      "execution_count": null,
      "metadata": {
        "colab": {
          "base_uri": "https://localhost:8080/"
        },
        "id": "GFgGEW8wmT4l",
        "outputId": "f0eee8f0-a753-414a-cbe0-5006f55f2c4e"
      },
      "outputs": [
        {
          "output_type": "stream",
          "name": "stdout",
          "text": [
            "CPU times: user 436 ms, sys: 81.6 ms, total: 518 ms\n",
            "Wall time: 517 ms\n"
          ]
        }
      ],
      "source": [
        "%%time\n",
        "documents = [_text.split() for _text in df_train.text] "
      ]
    },
    {
      "cell_type": "code",
      "execution_count": null,
      "metadata": {
        "id": "tjfSSA2AmT4l"
      },
      "outputs": [],
      "source": [
        "w2v_model = gensim.models.word2vec.Word2Vec(size=W2V_SIZE, \n",
        "                                            window=W2V_WINDOW, \n",
        "                                            min_count=W2V_MIN_COUNT, \n",
        "                                            workers=8)"
      ]
    },
    {
      "cell_type": "code",
      "execution_count": null,
      "metadata": {
        "colab": {
          "base_uri": "https://localhost:8080/"
        },
        "id": "LiU5NaeWmT4l",
        "outputId": "8bc59272-9bec-42b7-f849-e0144d2c23bc"
      },
      "outputs": [
        {
          "output_type": "stream",
          "name": "stderr",
          "text": [
            "2022-05-07 21:51:46,131 : INFO : collecting all words and their counts\n",
            "2022-05-07 21:51:46,134 : INFO : PROGRESS: at sentence #0, processed 0 words, keeping 0 word types\n",
            "2022-05-07 21:51:46,182 : INFO : PROGRESS: at sentence #10000, processed 131498 words, keeping 29401 word types\n",
            "2022-05-07 21:51:46,227 : INFO : PROGRESS: at sentence #20000, processed 264153 words, keeping 50400 word types\n",
            "2022-05-07 21:51:46,266 : INFO : PROGRESS: at sentence #30000, processed 395979 words, keeping 68911 word types\n",
            "2022-05-07 21:51:46,310 : INFO : PROGRESS: at sentence #40000, processed 527689 words, keeping 85765 word types\n",
            "2022-05-07 21:51:46,365 : INFO : PROGRESS: at sentence #50000, processed 659228 words, keeping 101721 word types\n",
            "2022-05-07 21:51:46,408 : INFO : PROGRESS: at sentence #60000, processed 790690 words, keeping 116873 word types\n",
            "2022-05-07 21:51:46,451 : INFO : PROGRESS: at sentence #70000, processed 923795 words, keeping 131573 word types\n",
            "2022-05-07 21:51:46,496 : INFO : PROGRESS: at sentence #80000, processed 1054961 words, keeping 145369 word types\n",
            "2022-05-07 21:51:46,541 : INFO : PROGRESS: at sentence #90000, processed 1187279 words, keeping 159095 word types\n",
            "2022-05-07 21:51:46,591 : INFO : PROGRESS: at sentence #100000, processed 1319089 words, keeping 172473 word types\n",
            "2022-05-07 21:51:46,643 : INFO : PROGRESS: at sentence #110000, processed 1450888 words, keeping 185466 word types\n",
            "2022-05-07 21:51:46,696 : INFO : PROGRESS: at sentence #120000, processed 1584147 words, keeping 198258 word types\n",
            "2022-05-07 21:51:46,741 : INFO : PROGRESS: at sentence #130000, processed 1716413 words, keeping 210708 word types\n",
            "2022-05-07 21:51:46,782 : INFO : PROGRESS: at sentence #140000, processed 1847625 words, keeping 222956 word types\n",
            "2022-05-07 21:51:46,821 : INFO : PROGRESS: at sentence #150000, processed 1978948 words, keeping 235034 word types\n",
            "2022-05-07 21:51:46,860 : INFO : collected 246687 word types from a corpus of 2109868 raw words and 160000 sentences\n",
            "2022-05-07 21:51:46,861 : INFO : Loading a fresh vocabulary\n",
            "2022-05-07 21:51:46,994 : INFO : effective_min_count=10 retains 11928 unique words (4% of original 246687, drops 234759)\n",
            "2022-05-07 21:51:46,997 : INFO : effective_min_count=10 leaves 1761922 word corpus (83% of original 2109868, drops 347946)\n",
            "2022-05-07 21:51:47,041 : INFO : deleting the raw counts dictionary of 246687 items\n",
            "2022-05-07 21:51:47,049 : INFO : sample=0.001 downsamples 48 most-common words\n",
            "2022-05-07 21:51:47,050 : INFO : downsampling leaves estimated 1398518 word corpus (79.4% of prior 1761922)\n",
            "2022-05-07 21:51:47,085 : INFO : estimated required memory for 11928 words and 300 dimensions: 34591200 bytes\n",
            "2022-05-07 21:51:47,086 : INFO : resetting layer weights\n"
          ]
        }
      ],
      "source": [
        "w2v_model.build_vocab(documents)"
      ]
    },
    {
      "cell_type": "code",
      "execution_count": null,
      "metadata": {
        "colab": {
          "base_uri": "https://localhost:8080/"
        },
        "id": "5dhsc41imT4l",
        "outputId": "badd09b4-0873-4efe-cdd4-f300755a0c72"
      },
      "outputs": [
        {
          "output_type": "stream",
          "name": "stdout",
          "text": [
            "Vocab size 11928\n"
          ]
        }
      ],
      "source": [
        "words = w2v_model.wv.vocab.keys()\n",
        "vocab_size = len(words)\n",
        "print(\"Vocab size\", vocab_size)"
      ]
    },
    {
      "cell_type": "code",
      "execution_count": null,
      "metadata": {
        "colab": {
          "base_uri": "https://localhost:8080/"
        },
        "id": "74z-_89EmT4l",
        "outputId": "06b4211a-0605-4d76-c6b9-6f0dc379c06e"
      },
      "outputs": [
        {
          "output_type": "stream",
          "name": "stderr",
          "text": [
            "2022-05-07 21:51:50,055 : INFO : training model with 8 workers on 11928 vocabulary and 300 features, using sg=0 hs=0 sample=0.001 negative=5 window=7\n",
            "2022-05-07 21:51:51,153 : INFO : EPOCH 1 - PROGRESS: at 24.60% examples, 317889 words/s, in_qsize 15, out_qsize 0\n",
            "2022-05-07 21:51:52,156 : INFO : EPOCH 1 - PROGRESS: at 53.97% examples, 362036 words/s, in_qsize 15, out_qsize 0\n",
            "2022-05-07 21:51:53,207 : INFO : EPOCH 1 - PROGRESS: at 80.41% examples, 358909 words/s, in_qsize 15, out_qsize 0\n",
            "2022-05-07 21:51:53,820 : INFO : worker thread finished; awaiting finish of 7 more threads\n",
            "2022-05-07 21:51:53,845 : INFO : worker thread finished; awaiting finish of 6 more threads\n",
            "2022-05-07 21:51:53,866 : INFO : worker thread finished; awaiting finish of 5 more threads\n",
            "2022-05-07 21:51:53,868 : INFO : worker thread finished; awaiting finish of 4 more threads\n",
            "2022-05-07 21:51:53,893 : INFO : worker thread finished; awaiting finish of 3 more threads\n",
            "2022-05-07 21:51:53,900 : INFO : worker thread finished; awaiting finish of 2 more threads\n",
            "2022-05-07 21:51:53,909 : INFO : worker thread finished; awaiting finish of 1 more threads\n",
            "2022-05-07 21:51:53,916 : INFO : worker thread finished; awaiting finish of 0 more threads\n",
            "2022-05-07 21:51:53,922 : INFO : EPOCH - 1 : training on 2109868 raw words (1398304 effective words) took 3.9s, 363027 effective words/s\n",
            "2022-05-07 21:51:54,949 : INFO : EPOCH 2 - PROGRESS: at 18.93% examples, 264070 words/s, in_qsize 15, out_qsize 0\n",
            "2022-05-07 21:51:56,021 : INFO : EPOCH 2 - PROGRESS: at 42.57% examples, 287233 words/s, in_qsize 14, out_qsize 1\n",
            "2022-05-07 21:51:57,085 : INFO : EPOCH 2 - PROGRESS: at 65.80% examples, 295937 words/s, in_qsize 15, out_qsize 1\n",
            "2022-05-07 21:51:58,107 : INFO : EPOCH 2 - PROGRESS: at 87.99% examples, 296051 words/s, in_qsize 16, out_qsize 1\n",
            "2022-05-07 21:51:58,394 : INFO : worker thread finished; awaiting finish of 7 more threads\n",
            "2022-05-07 21:51:58,402 : INFO : worker thread finished; awaiting finish of 6 more threads\n",
            "2022-05-07 21:51:58,409 : INFO : worker thread finished; awaiting finish of 5 more threads\n",
            "2022-05-07 21:51:58,429 : INFO : worker thread finished; awaiting finish of 4 more threads\n",
            "2022-05-07 21:51:58,435 : INFO : worker thread finished; awaiting finish of 3 more threads\n",
            "2022-05-07 21:51:58,443 : INFO : worker thread finished; awaiting finish of 2 more threads\n",
            "2022-05-07 21:51:58,447 : INFO : worker thread finished; awaiting finish of 1 more threads\n",
            "2022-05-07 21:51:58,458 : INFO : worker thread finished; awaiting finish of 0 more threads\n",
            "2022-05-07 21:51:58,459 : INFO : EPOCH - 2 : training on 2109868 raw words (1398262 effective words) took 4.5s, 309784 effective words/s\n",
            "2022-05-07 21:51:59,474 : INFO : EPOCH 3 - PROGRESS: at 26.02% examples, 363093 words/s, in_qsize 13, out_qsize 0\n",
            "2022-05-07 21:52:00,490 : INFO : EPOCH 3 - PROGRESS: at 51.60% examples, 357959 words/s, in_qsize 13, out_qsize 1\n",
            "2022-05-07 21:52:01,495 : INFO : EPOCH 3 - PROGRESS: at 78.99% examples, 365944 words/s, in_qsize 15, out_qsize 0\n",
            "2022-05-07 21:52:02,144 : INFO : worker thread finished; awaiting finish of 7 more threads\n",
            "2022-05-07 21:52:02,156 : INFO : worker thread finished; awaiting finish of 6 more threads\n",
            "2022-05-07 21:52:02,188 : INFO : worker thread finished; awaiting finish of 5 more threads\n",
            "2022-05-07 21:52:02,197 : INFO : worker thread finished; awaiting finish of 4 more threads\n",
            "2022-05-07 21:52:02,200 : INFO : worker thread finished; awaiting finish of 3 more threads\n",
            "2022-05-07 21:52:02,207 : INFO : worker thread finished; awaiting finish of 2 more threads\n",
            "2022-05-07 21:52:02,219 : INFO : worker thread finished; awaiting finish of 1 more threads\n",
            "2022-05-07 21:52:02,224 : INFO : worker thread finished; awaiting finish of 0 more threads\n",
            "2022-05-07 21:52:02,230 : INFO : EPOCH - 3 : training on 2109868 raw words (1398753 effective words) took 3.8s, 372085 effective words/s\n",
            "2022-05-07 21:52:03,268 : INFO : EPOCH 4 - PROGRESS: at 24.13% examples, 329597 words/s, in_qsize 14, out_qsize 1\n",
            "2022-05-07 21:52:04,278 : INFO : EPOCH 4 - PROGRESS: at 45.43% examples, 312559 words/s, in_qsize 15, out_qsize 0\n",
            "2022-05-07 21:52:05,284 : INFO : EPOCH 4 - PROGRESS: at 72.39% examples, 333226 words/s, in_qsize 15, out_qsize 3\n",
            "2022-05-07 21:52:06,093 : INFO : worker thread finished; awaiting finish of 7 more threads\n",
            "2022-05-07 21:52:06,104 : INFO : worker thread finished; awaiting finish of 6 more threads\n",
            "2022-05-07 21:52:06,119 : INFO : worker thread finished; awaiting finish of 5 more threads\n",
            "2022-05-07 21:52:06,140 : INFO : worker thread finished; awaiting finish of 4 more threads\n",
            "2022-05-07 21:52:06,158 : INFO : worker thread finished; awaiting finish of 3 more threads\n",
            "2022-05-07 21:52:06,167 : INFO : worker thread finished; awaiting finish of 2 more threads\n",
            "2022-05-07 21:52:06,180 : INFO : worker thread finished; awaiting finish of 1 more threads\n",
            "2022-05-07 21:52:06,181 : INFO : worker thread finished; awaiting finish of 0 more threads\n",
            "2022-05-07 21:52:06,185 : INFO : EPOCH - 4 : training on 2109868 raw words (1398234 effective words) took 3.9s, 354656 effective words/s\n",
            "2022-05-07 21:52:07,268 : INFO : EPOCH 5 - PROGRESS: at 20.32% examples, 267269 words/s, in_qsize 16, out_qsize 0\n",
            "2022-05-07 21:52:08,357 : INFO : EPOCH 5 - PROGRESS: at 43.53% examples, 282868 words/s, in_qsize 15, out_qsize 0\n",
            "2022-05-07 21:52:09,358 : INFO : EPOCH 5 - PROGRESS: at 66.28% examples, 293680 words/s, in_qsize 15, out_qsize 0\n",
            "2022-05-07 21:52:10,372 : INFO : EPOCH 5 - PROGRESS: at 85.64% examples, 287460 words/s, in_qsize 16, out_qsize 2\n",
            "2022-05-07 21:52:10,824 : INFO : worker thread finished; awaiting finish of 7 more threads\n",
            "2022-05-07 21:52:10,937 : INFO : worker thread finished; awaiting finish of 6 more threads\n",
            "2022-05-07 21:52:10,954 : INFO : worker thread finished; awaiting finish of 5 more threads\n",
            "2022-05-07 21:52:10,961 : INFO : worker thread finished; awaiting finish of 4 more threads\n",
            "2022-05-07 21:52:10,967 : INFO : worker thread finished; awaiting finish of 3 more threads\n",
            "2022-05-07 21:52:10,975 : INFO : worker thread finished; awaiting finish of 2 more threads\n",
            "2022-05-07 21:52:10,994 : INFO : worker thread finished; awaiting finish of 1 more threads\n",
            "2022-05-07 21:52:11,000 : INFO : worker thread finished; awaiting finish of 0 more threads\n",
            "2022-05-07 21:52:11,001 : INFO : EPOCH - 5 : training on 2109868 raw words (1398533 effective words) took 4.8s, 291308 effective words/s\n",
            "2022-05-07 21:52:12,064 : INFO : EPOCH 6 - PROGRESS: at 13.24% examples, 178918 words/s, in_qsize 15, out_qsize 0\n",
            "2022-05-07 21:52:13,078 : INFO : EPOCH 6 - PROGRESS: at 30.79% examples, 209945 words/s, in_qsize 15, out_qsize 0\n",
            "2022-05-07 21:52:14,144 : INFO : EPOCH 6 - PROGRESS: at 57.76% examples, 259583 words/s, in_qsize 15, out_qsize 2\n",
            "2022-05-07 21:52:15,184 : INFO : EPOCH 6 - PROGRESS: at 87.06% examples, 293204 words/s, in_qsize 15, out_qsize 1\n",
            "2022-05-07 21:52:15,496 : INFO : worker thread finished; awaiting finish of 7 more threads\n",
            "2022-05-07 21:52:15,507 : INFO : worker thread finished; awaiting finish of 6 more threads\n",
            "2022-05-07 21:52:15,526 : INFO : worker thread finished; awaiting finish of 5 more threads\n",
            "2022-05-07 21:52:15,564 : INFO : worker thread finished; awaiting finish of 4 more threads\n",
            "2022-05-07 21:52:15,575 : INFO : worker thread finished; awaiting finish of 3 more threads\n",
            "2022-05-07 21:52:15,587 : INFO : worker thread finished; awaiting finish of 2 more threads\n",
            "2022-05-07 21:52:15,596 : INFO : worker thread finished; awaiting finish of 1 more threads\n",
            "2022-05-07 21:52:15,602 : INFO : worker thread finished; awaiting finish of 0 more threads\n",
            "2022-05-07 21:52:15,605 : INFO : EPOCH - 6 : training on 2109868 raw words (1398626 effective words) took 4.6s, 305467 effective words/s\n",
            "2022-05-07 21:52:16,729 : INFO : EPOCH 7 - PROGRESS: at 26.53% examples, 335380 words/s, in_qsize 16, out_qsize 1\n",
            "2022-05-07 21:52:17,753 : INFO : EPOCH 7 - PROGRESS: at 53.98% examples, 354640 words/s, in_qsize 15, out_qsize 5\n",
            "2022-05-07 21:52:18,762 : INFO : EPOCH 7 - PROGRESS: at 81.82% examples, 365129 words/s, in_qsize 15, out_qsize 0\n",
            "2022-05-07 21:52:19,278 : INFO : worker thread finished; awaiting finish of 7 more threads\n",
            "2022-05-07 21:52:19,290 : INFO : worker thread finished; awaiting finish of 6 more threads\n",
            "2022-05-07 21:52:19,323 : INFO : worker thread finished; awaiting finish of 5 more threads\n",
            "2022-05-07 21:52:19,329 : INFO : worker thread finished; awaiting finish of 4 more threads\n",
            "2022-05-07 21:52:19,334 : INFO : worker thread finished; awaiting finish of 3 more threads\n",
            "2022-05-07 21:52:19,358 : INFO : worker thread finished; awaiting finish of 2 more threads\n",
            "2022-05-07 21:52:19,364 : INFO : worker thread finished; awaiting finish of 1 more threads\n",
            "2022-05-07 21:52:19,381 : INFO : worker thread finished; awaiting finish of 0 more threads\n",
            "2022-05-07 21:52:19,383 : INFO : EPOCH - 7 : training on 2109868 raw words (1398729 effective words) took 3.8s, 371992 effective words/s\n",
            "2022-05-07 21:52:20,398 : INFO : EPOCH 8 - PROGRESS: at 23.67% examples, 330601 words/s, in_qsize 15, out_qsize 0\n",
            "2022-05-07 21:52:21,483 : INFO : EPOCH 8 - PROGRESS: at 52.57% examples, 352367 words/s, in_qsize 15, out_qsize 2\n",
            "2022-05-07 21:52:22,516 : INFO : EPOCH 8 - PROGRESS: at 81.82% examples, 367288 words/s, in_qsize 15, out_qsize 0\n",
            "2022-05-07 21:52:23,054 : INFO : worker thread finished; awaiting finish of 7 more threads\n",
            "2022-05-07 21:52:23,056 : INFO : worker thread finished; awaiting finish of 6 more threads\n",
            "2022-05-07 21:52:23,066 : INFO : worker thread finished; awaiting finish of 5 more threads\n",
            "2022-05-07 21:52:23,069 : INFO : worker thread finished; awaiting finish of 4 more threads\n",
            "2022-05-07 21:52:23,083 : INFO : worker thread finished; awaiting finish of 3 more threads\n",
            "2022-05-07 21:52:23,089 : INFO : worker thread finished; awaiting finish of 2 more threads\n",
            "2022-05-07 21:52:23,116 : INFO : worker thread finished; awaiting finish of 1 more threads\n",
            "2022-05-07 21:52:23,123 : INFO : worker thread finished; awaiting finish of 0 more threads\n",
            "2022-05-07 21:52:23,124 : INFO : EPOCH - 8 : training on 2109868 raw words (1398193 effective words) took 3.7s, 375046 effective words/s\n",
            "2022-05-07 21:52:24,213 : INFO : EPOCH 9 - PROGRESS: at 25.56% examples, 333439 words/s, in_qsize 13, out_qsize 2\n",
            "2022-05-07 21:52:25,260 : INFO : EPOCH 9 - PROGRESS: at 53.98% examples, 356374 words/s, in_qsize 13, out_qsize 2\n",
            "2022-05-07 21:52:26,260 : INFO : EPOCH 9 - PROGRESS: at 82.78% examples, 371662 words/s, in_qsize 15, out_qsize 0\n",
            "2022-05-07 21:52:26,783 : INFO : worker thread finished; awaiting finish of 7 more threads\n",
            "2022-05-07 21:52:26,787 : INFO : worker thread finished; awaiting finish of 6 more threads\n",
            "2022-05-07 21:52:26,815 : INFO : worker thread finished; awaiting finish of 5 more threads\n",
            "2022-05-07 21:52:26,817 : INFO : worker thread finished; awaiting finish of 4 more threads\n",
            "2022-05-07 21:52:26,822 : INFO : worker thread finished; awaiting finish of 3 more threads\n",
            "2022-05-07 21:52:26,846 : INFO : worker thread finished; awaiting finish of 2 more threads\n",
            "2022-05-07 21:52:26,865 : INFO : worker thread finished; awaiting finish of 1 more threads\n",
            "2022-05-07 21:52:26,874 : INFO : worker thread finished; awaiting finish of 0 more threads\n",
            "2022-05-07 21:52:26,875 : INFO : EPOCH - 9 : training on 2109868 raw words (1398891 effective words) took 3.7s, 374512 effective words/s\n",
            "2022-05-07 21:52:27,928 : INFO : EPOCH 10 - PROGRESS: at 25.09% examples, 340732 words/s, in_qsize 15, out_qsize 0\n",
            "2022-05-07 21:52:28,929 : INFO : EPOCH 10 - PROGRESS: at 52.09% examples, 358685 words/s, in_qsize 14, out_qsize 3\n",
            "2022-05-07 21:52:29,970 : INFO : EPOCH 10 - PROGRESS: at 80.88% examples, 368690 words/s, in_qsize 15, out_qsize 0\n",
            "2022-05-07 21:52:30,501 : INFO : worker thread finished; awaiting finish of 7 more threads\n",
            "2022-05-07 21:52:30,521 : INFO : worker thread finished; awaiting finish of 6 more threads\n",
            "2022-05-07 21:52:30,547 : INFO : worker thread finished; awaiting finish of 5 more threads\n",
            "2022-05-07 21:52:30,554 : INFO : worker thread finished; awaiting finish of 4 more threads\n",
            "2022-05-07 21:52:30,581 : INFO : worker thread finished; awaiting finish of 3 more threads\n",
            "2022-05-07 21:52:30,583 : INFO : worker thread finished; awaiting finish of 2 more threads\n",
            "2022-05-07 21:52:30,585 : INFO : worker thread finished; awaiting finish of 1 more threads\n",
            "2022-05-07 21:52:30,590 : INFO : worker thread finished; awaiting finish of 0 more threads\n",
            "2022-05-07 21:52:30,591 : INFO : EPOCH - 10 : training on 2109868 raw words (1398484 effective words) took 3.7s, 378635 effective words/s\n",
            "2022-05-07 21:52:31,624 : INFO : EPOCH 11 - PROGRESS: at 23.66% examples, 326234 words/s, in_qsize 14, out_qsize 1\n",
            "2022-05-07 21:52:32,629 : INFO : EPOCH 11 - PROGRESS: at 52.10% examples, 360897 words/s, in_qsize 15, out_qsize 1\n",
            "2022-05-07 21:52:33,633 : INFO : EPOCH 11 - PROGRESS: at 79.95% examples, 370207 words/s, in_qsize 15, out_qsize 0\n",
            "2022-05-07 21:52:34,200 : INFO : worker thread finished; awaiting finish of 7 more threads\n",
            "2022-05-07 21:52:34,223 : INFO : worker thread finished; awaiting finish of 6 more threads\n",
            "2022-05-07 21:52:34,240 : INFO : worker thread finished; awaiting finish of 5 more threads\n",
            "2022-05-07 21:52:34,249 : INFO : worker thread finished; awaiting finish of 4 more threads\n",
            "2022-05-07 21:52:34,263 : INFO : worker thread finished; awaiting finish of 3 more threads\n",
            "2022-05-07 21:52:34,276 : INFO : worker thread finished; awaiting finish of 2 more threads\n",
            "2022-05-07 21:52:34,294 : INFO : worker thread finished; awaiting finish of 1 more threads\n",
            "2022-05-07 21:52:34,300 : INFO : worker thread finished; awaiting finish of 0 more threads\n",
            "2022-05-07 21:52:34,305 : INFO : EPOCH - 11 : training on 2109868 raw words (1398029 effective words) took 3.7s, 378362 effective words/s\n",
            "2022-05-07 21:52:35,321 : INFO : EPOCH 12 - PROGRESS: at 25.09% examples, 350531 words/s, in_qsize 16, out_qsize 0\n",
            "2022-05-07 21:52:36,398 : INFO : EPOCH 12 - PROGRESS: at 52.09% examples, 350739 words/s, in_qsize 16, out_qsize 1\n",
            "2022-05-07 21:52:37,417 : INFO : EPOCH 12 - PROGRESS: at 80.88% examples, 365725 words/s, in_qsize 15, out_qsize 0\n",
            "2022-05-07 21:52:37,977 : INFO : worker thread finished; awaiting finish of 7 more threads\n",
            "2022-05-07 21:52:37,999 : INFO : worker thread finished; awaiting finish of 6 more threads\n",
            "2022-05-07 21:52:38,011 : INFO : worker thread finished; awaiting finish of 5 more threads\n",
            "2022-05-07 21:52:38,022 : INFO : worker thread finished; awaiting finish of 4 more threads\n",
            "2022-05-07 21:52:38,031 : INFO : worker thread finished; awaiting finish of 3 more threads\n",
            "2022-05-07 21:52:38,049 : INFO : worker thread finished; awaiting finish of 2 more threads\n",
            "2022-05-07 21:52:38,059 : INFO : worker thread finished; awaiting finish of 1 more threads\n",
            "2022-05-07 21:52:38,061 : INFO : worker thread finished; awaiting finish of 0 more threads\n",
            "2022-05-07 21:52:38,062 : INFO : EPOCH - 12 : training on 2109868 raw words (1398526 effective words) took 3.7s, 373623 effective words/s\n",
            "2022-05-07 21:52:39,082 : INFO : EPOCH 13 - PROGRESS: at 23.67% examples, 330226 words/s, in_qsize 15, out_qsize 0\n",
            "2022-05-07 21:52:40,107 : INFO : EPOCH 13 - PROGRESS: at 48.30% examples, 333200 words/s, in_qsize 15, out_qsize 0\n",
            "2022-05-07 21:52:41,163 : INFO : EPOCH 13 - PROGRESS: at 68.64% examples, 311231 words/s, in_qsize 15, out_qsize 0\n",
            "2022-05-07 21:52:42,183 : INFO : EPOCH 13 - PROGRESS: at 90.38% examples, 308106 words/s, in_qsize 15, out_qsize 0\n",
            "2022-05-07 21:52:42,400 : INFO : worker thread finished; awaiting finish of 7 more threads\n",
            "2022-05-07 21:52:42,404 : INFO : worker thread finished; awaiting finish of 6 more threads\n",
            "2022-05-07 21:52:42,430 : INFO : worker thread finished; awaiting finish of 5 more threads\n",
            "2022-05-07 21:52:42,439 : INFO : worker thread finished; awaiting finish of 4 more threads\n",
            "2022-05-07 21:52:42,464 : INFO : worker thread finished; awaiting finish of 3 more threads\n",
            "2022-05-07 21:52:42,503 : INFO : worker thread finished; awaiting finish of 2 more threads\n",
            "2022-05-07 21:52:42,512 : INFO : worker thread finished; awaiting finish of 1 more threads\n",
            "2022-05-07 21:52:42,513 : INFO : worker thread finished; awaiting finish of 0 more threads\n",
            "2022-05-07 21:52:42,520 : INFO : EPOCH - 13 : training on 2109868 raw words (1397880 effective words) took 4.4s, 314773 effective words/s\n",
            "2022-05-07 21:52:43,572 : INFO : EPOCH 14 - PROGRESS: at 20.32% examples, 284640 words/s, in_qsize 15, out_qsize 0\n",
            "2022-05-07 21:52:44,628 : INFO : EPOCH 14 - PROGRESS: at 44.00% examples, 299861 words/s, in_qsize 15, out_qsize 0\n",
            "2022-05-07 21:52:45,628 : INFO : EPOCH 14 - PROGRESS: at 65.80% examples, 301240 words/s, in_qsize 16, out_qsize 0\n",
            "2022-05-07 21:52:46,686 : INFO : EPOCH 14 - PROGRESS: at 88.96% examples, 302647 words/s, in_qsize 16, out_qsize 0\n",
            "2022-05-07 21:52:46,968 : INFO : worker thread finished; awaiting finish of 7 more threads\n",
            "2022-05-07 21:52:46,983 : INFO : worker thread finished; awaiting finish of 6 more threads\n",
            "2022-05-07 21:52:47,000 : INFO : worker thread finished; awaiting finish of 5 more threads\n",
            "2022-05-07 21:52:47,058 : INFO : worker thread finished; awaiting finish of 4 more threads\n",
            "2022-05-07 21:52:47,078 : INFO : worker thread finished; awaiting finish of 3 more threads\n",
            "2022-05-07 21:52:47,087 : INFO : worker thread finished; awaiting finish of 2 more threads\n",
            "2022-05-07 21:52:47,094 : INFO : worker thread finished; awaiting finish of 1 more threads\n",
            "2022-05-07 21:52:47,105 : INFO : worker thread finished; awaiting finish of 0 more threads\n",
            "2022-05-07 21:52:47,107 : INFO : EPOCH - 14 : training on 2109868 raw words (1398580 effective words) took 4.5s, 308328 effective words/s\n",
            "2022-05-07 21:52:48,176 : INFO : EPOCH 15 - PROGRESS: at 20.80% examples, 283142 words/s, in_qsize 16, out_qsize 0\n",
            "2022-05-07 21:52:49,233 : INFO : EPOCH 15 - PROGRESS: at 44.49% examples, 298489 words/s, in_qsize 15, out_qsize 0\n",
            "2022-05-07 21:52:50,256 : INFO : EPOCH 15 - PROGRESS: at 69.11% examples, 310938 words/s, in_qsize 15, out_qsize 0\n",
            "2022-05-07 21:52:51,283 : INFO : EPOCH 15 - PROGRESS: at 95.15% examples, 321788 words/s, in_qsize 11, out_qsize 0\n",
            "2022-05-07 21:52:51,349 : INFO : worker thread finished; awaiting finish of 7 more threads\n",
            "2022-05-07 21:52:51,364 : INFO : worker thread finished; awaiting finish of 6 more threads\n",
            "2022-05-07 21:52:51,365 : INFO : worker thread finished; awaiting finish of 5 more threads\n",
            "2022-05-07 21:52:51,370 : INFO : worker thread finished; awaiting finish of 4 more threads\n",
            "2022-05-07 21:52:51,374 : INFO : worker thread finished; awaiting finish of 3 more threads\n",
            "2022-05-07 21:52:51,383 : INFO : worker thread finished; awaiting finish of 2 more threads\n",
            "2022-05-07 21:52:51,403 : INFO : worker thread finished; awaiting finish of 1 more threads\n",
            "2022-05-07 21:52:51,414 : INFO : worker thread finished; awaiting finish of 0 more threads\n",
            "2022-05-07 21:52:51,416 : INFO : EPOCH - 15 : training on 2109868 raw words (1398778 effective words) took 4.3s, 327530 effective words/s\n",
            "2022-05-07 21:52:52,448 : INFO : EPOCH 16 - PROGRESS: at 23.67% examples, 325736 words/s, in_qsize 16, out_qsize 0\n",
            "2022-05-07 21:52:53,454 : INFO : EPOCH 16 - PROGRESS: at 52.08% examples, 360456 words/s, in_qsize 15, out_qsize 0\n",
            "2022-05-07 21:52:54,466 : INFO : EPOCH 16 - PROGRESS: at 77.59% examples, 358171 words/s, in_qsize 13, out_qsize 3\n",
            "2022-05-07 21:52:55,157 : INFO : worker thread finished; awaiting finish of 7 more threads\n",
            "2022-05-07 21:52:55,159 : INFO : worker thread finished; awaiting finish of 6 more threads\n",
            "2022-05-07 21:52:55,173 : INFO : worker thread finished; awaiting finish of 5 more threads\n",
            "2022-05-07 21:52:55,197 : INFO : worker thread finished; awaiting finish of 4 more threads\n",
            "2022-05-07 21:52:55,205 : INFO : worker thread finished; awaiting finish of 3 more threads\n",
            "2022-05-07 21:52:55,213 : INFO : worker thread finished; awaiting finish of 2 more threads\n",
            "2022-05-07 21:52:55,216 : INFO : worker thread finished; awaiting finish of 1 more threads\n",
            "2022-05-07 21:52:55,227 : INFO : worker thread finished; awaiting finish of 0 more threads\n",
            "2022-05-07 21:52:55,229 : INFO : EPOCH - 16 : training on 2109868 raw words (1398928 effective words) took 3.8s, 368381 effective words/s\n",
            "2022-05-07 21:52:56,312 : INFO : EPOCH 17 - PROGRESS: at 26.02% examples, 341378 words/s, in_qsize 15, out_qsize 0\n",
            "2022-05-07 21:52:57,376 : INFO : EPOCH 17 - PROGRESS: at 53.04% examples, 348157 words/s, in_qsize 15, out_qsize 0\n",
            "2022-05-07 21:52:58,384 : INFO : EPOCH 17 - PROGRESS: at 68.65% examples, 305943 words/s, in_qsize 15, out_qsize 0\n",
            "2022-05-07 21:52:59,384 : INFO : EPOCH 17 - PROGRESS: at 86.59% examples, 292891 words/s, in_qsize 15, out_qsize 0\n",
            "2022-05-07 21:53:00,001 : INFO : worker thread finished; awaiting finish of 7 more threads\n",
            "2022-05-07 21:53:00,009 : INFO : worker thread finished; awaiting finish of 6 more threads\n",
            "2022-05-07 21:53:00,012 : INFO : worker thread finished; awaiting finish of 5 more threads\n",
            "2022-05-07 21:53:00,031 : INFO : worker thread finished; awaiting finish of 4 more threads\n",
            "2022-05-07 21:53:00,041 : INFO : worker thread finished; awaiting finish of 3 more threads\n",
            "2022-05-07 21:53:00,062 : INFO : worker thread finished; awaiting finish of 2 more threads\n",
            "2022-05-07 21:53:00,070 : INFO : worker thread finished; awaiting finish of 1 more threads\n",
            "2022-05-07 21:53:00,074 : INFO : worker thread finished; awaiting finish of 0 more threads\n",
            "2022-05-07 21:53:00,080 : INFO : EPOCH - 17 : training on 2109868 raw words (1398371 effective words) took 4.8s, 289215 effective words/s\n",
            "2022-05-07 21:53:01,230 : INFO : EPOCH 18 - PROGRESS: at 24.14% examples, 316809 words/s, in_qsize 15, out_qsize 0\n",
            "2022-05-07 21:53:02,254 : INFO : EPOCH 18 - PROGRESS: at 53.51% examples, 358387 words/s, in_qsize 16, out_qsize 0\n",
            "2022-05-07 21:53:03,254 : INFO : EPOCH 18 - PROGRESS: at 80.88% examples, 366649 words/s, in_qsize 15, out_qsize 1\n",
            "2022-05-07 21:53:03,866 : INFO : worker thread finished; awaiting finish of 7 more threads\n",
            "2022-05-07 21:53:03,874 : INFO : worker thread finished; awaiting finish of 6 more threads\n",
            "2022-05-07 21:53:03,885 : INFO : worker thread finished; awaiting finish of 5 more threads\n",
            "2022-05-07 21:53:03,892 : INFO : worker thread finished; awaiting finish of 4 more threads\n",
            "2022-05-07 21:53:03,894 : INFO : worker thread finished; awaiting finish of 3 more threads\n",
            "2022-05-07 21:53:03,905 : INFO : worker thread finished; awaiting finish of 2 more threads\n",
            "2022-05-07 21:53:03,911 : INFO : worker thread finished; awaiting finish of 1 more threads\n",
            "2022-05-07 21:53:03,923 : INFO : worker thread finished; awaiting finish of 0 more threads\n",
            "2022-05-07 21:53:03,925 : INFO : EPOCH - 18 : training on 2109868 raw words (1398578 effective words) took 3.8s, 371929 effective words/s\n",
            "2022-05-07 21:53:04,949 : INFO : EPOCH 19 - PROGRESS: at 24.62% examples, 341004 words/s, in_qsize 15, out_qsize 2\n",
            "2022-05-07 21:53:05,953 : INFO : EPOCH 19 - PROGRESS: at 53.04% examples, 368461 words/s, in_qsize 15, out_qsize 0\n",
            "2022-05-07 21:53:06,975 : INFO : EPOCH 19 - PROGRESS: at 80.88% examples, 373031 words/s, in_qsize 15, out_qsize 0\n",
            "2022-05-07 21:53:07,496 : INFO : worker thread finished; awaiting finish of 7 more threads\n",
            "2022-05-07 21:53:07,512 : INFO : worker thread finished; awaiting finish of 6 more threads\n",
            "2022-05-07 21:53:07,520 : INFO : worker thread finished; awaiting finish of 5 more threads\n",
            "2022-05-07 21:53:07,534 : INFO : worker thread finished; awaiting finish of 4 more threads\n",
            "2022-05-07 21:53:07,542 : INFO : worker thread finished; awaiting finish of 3 more threads\n",
            "2022-05-07 21:53:07,558 : INFO : worker thread finished; awaiting finish of 2 more threads\n",
            "2022-05-07 21:53:07,566 : INFO : worker thread finished; awaiting finish of 1 more threads\n",
            "2022-05-07 21:53:07,573 : INFO : worker thread finished; awaiting finish of 0 more threads\n",
            "2022-05-07 21:53:07,575 : INFO : EPOCH - 19 : training on 2109868 raw words (1397622 effective words) took 3.6s, 384513 effective words/s\n",
            "2022-05-07 21:53:08,597 : INFO : EPOCH 20 - PROGRESS: at 26.53% examples, 367586 words/s, in_qsize 15, out_qsize 0\n",
            "2022-05-07 21:53:09,604 : INFO : EPOCH 20 - PROGRESS: at 52.57% examples, 364962 words/s, in_qsize 14, out_qsize 1\n",
            "2022-05-07 21:53:10,621 : INFO : EPOCH 20 - PROGRESS: at 80.88% examples, 375615 words/s, in_qsize 15, out_qsize 1\n",
            "2022-05-07 21:53:11,136 : INFO : worker thread finished; awaiting finish of 7 more threads\n",
            "2022-05-07 21:53:11,158 : INFO : worker thread finished; awaiting finish of 6 more threads\n",
            "2022-05-07 21:53:11,166 : INFO : worker thread finished; awaiting finish of 5 more threads\n",
            "2022-05-07 21:53:11,182 : INFO : worker thread finished; awaiting finish of 4 more threads\n",
            "2022-05-07 21:53:11,192 : INFO : worker thread finished; awaiting finish of 3 more threads\n",
            "2022-05-07 21:53:11,195 : INFO : worker thread finished; awaiting finish of 2 more threads\n",
            "2022-05-07 21:53:11,206 : INFO : worker thread finished; awaiting finish of 1 more threads\n",
            "2022-05-07 21:53:11,217 : INFO : worker thread finished; awaiting finish of 0 more threads\n",
            "2022-05-07 21:53:11,218 : INFO : EPOCH - 20 : training on 2109868 raw words (1398538 effective words) took 3.6s, 385385 effective words/s\n",
            "2022-05-07 21:53:12,302 : INFO : EPOCH 21 - PROGRESS: at 26.53% examples, 352519 words/s, in_qsize 15, out_qsize 0\n",
            "2022-05-07 21:53:13,325 : INFO : EPOCH 21 - PROGRESS: at 55.87% examples, 376871 words/s, in_qsize 13, out_qsize 1\n",
            "2022-05-07 21:53:14,379 : INFO : EPOCH 21 - PROGRESS: at 83.76% examples, 374843 words/s, in_qsize 15, out_qsize 0\n",
            "2022-05-07 21:53:14,809 : INFO : worker thread finished; awaiting finish of 7 more threads\n",
            "2022-05-07 21:53:14,818 : INFO : worker thread finished; awaiting finish of 6 more threads\n",
            "2022-05-07 21:53:14,823 : INFO : worker thread finished; awaiting finish of 5 more threads\n",
            "2022-05-07 21:53:14,825 : INFO : worker thread finished; awaiting finish of 4 more threads\n",
            "2022-05-07 21:53:14,844 : INFO : worker thread finished; awaiting finish of 3 more threads\n",
            "2022-05-07 21:53:14,856 : INFO : worker thread finished; awaiting finish of 2 more threads\n",
            "2022-05-07 21:53:14,867 : INFO : worker thread finished; awaiting finish of 1 more threads\n",
            "2022-05-07 21:53:14,871 : INFO : worker thread finished; awaiting finish of 0 more threads\n",
            "2022-05-07 21:53:14,872 : INFO : EPOCH - 21 : training on 2109868 raw words (1399097 effective words) took 3.6s, 386213 effective words/s\n",
            "2022-05-07 21:53:15,901 : INFO : EPOCH 22 - PROGRESS: at 26.02% examples, 360544 words/s, in_qsize 15, out_qsize 0\n",
            "2022-05-07 21:53:16,929 : INFO : EPOCH 22 - PROGRESS: at 53.51% examples, 367131 words/s, in_qsize 15, out_qsize 0\n",
            "2022-05-07 21:53:17,931 : INFO : EPOCH 22 - PROGRESS: at 81.81% examples, 376797 words/s, in_qsize 15, out_qsize 2\n",
            "2022-05-07 21:53:18,420 : INFO : worker thread finished; awaiting finish of 7 more threads\n",
            "2022-05-07 21:53:18,441 : INFO : worker thread finished; awaiting finish of 6 more threads\n",
            "2022-05-07 21:53:18,487 : INFO : worker thread finished; awaiting finish of 5 more threads\n",
            "2022-05-07 21:53:18,499 : INFO : worker thread finished; awaiting finish of 4 more threads\n",
            "2022-05-07 21:53:18,511 : INFO : worker thread finished; awaiting finish of 3 more threads\n",
            "2022-05-07 21:53:18,513 : INFO : worker thread finished; awaiting finish of 2 more threads\n",
            "2022-05-07 21:53:18,522 : INFO : worker thread finished; awaiting finish of 1 more threads\n",
            "2022-05-07 21:53:18,528 : INFO : worker thread finished; awaiting finish of 0 more threads\n",
            "2022-05-07 21:53:18,529 : INFO : EPOCH - 22 : training on 2109868 raw words (1397802 effective words) took 3.6s, 384224 effective words/s\n",
            "2022-05-07 21:53:19,565 : INFO : EPOCH 23 - PROGRESS: at 24.60% examples, 341179 words/s, in_qsize 16, out_qsize 3\n",
            "2022-05-07 21:53:20,587 : INFO : EPOCH 23 - PROGRESS: at 51.61% examples, 354460 words/s, in_qsize 14, out_qsize 6\n",
            "2022-05-07 21:53:21,600 : INFO : EPOCH 23 - PROGRESS: at 81.85% examples, 375630 words/s, in_qsize 15, out_qsize 0\n",
            "2022-05-07 21:53:22,180 : INFO : worker thread finished; awaiting finish of 7 more threads\n",
            "2022-05-07 21:53:22,188 : INFO : worker thread finished; awaiting finish of 6 more threads\n",
            "2022-05-07 21:53:22,190 : INFO : worker thread finished; awaiting finish of 5 more threads\n",
            "2022-05-07 21:53:22,195 : INFO : worker thread finished; awaiting finish of 4 more threads\n",
            "2022-05-07 21:53:22,201 : INFO : worker thread finished; awaiting finish of 3 more threads\n",
            "2022-05-07 21:53:22,203 : INFO : worker thread finished; awaiting finish of 2 more threads\n",
            "2022-05-07 21:53:22,205 : INFO : worker thread finished; awaiting finish of 1 more threads\n",
            "2022-05-07 21:53:22,229 : INFO : worker thread finished; awaiting finish of 0 more threads\n",
            "2022-05-07 21:53:22,230 : INFO : EPOCH - 23 : training on 2109868 raw words (1398335 effective words) took 3.7s, 379864 effective words/s\n",
            "2022-05-07 21:53:23,277 : INFO : EPOCH 24 - PROGRESS: at 25.56% examples, 347270 words/s, in_qsize 14, out_qsize 1\n",
            "2022-05-07 21:53:24,285 : INFO : EPOCH 24 - PROGRESS: at 55.88% examples, 383572 words/s, in_qsize 15, out_qsize 0\n",
            "2022-05-07 21:53:25,324 : INFO : EPOCH 24 - PROGRESS: at 83.27% examples, 378794 words/s, in_qsize 16, out_qsize 0\n",
            "2022-05-07 21:53:25,810 : INFO : worker thread finished; awaiting finish of 7 more threads\n",
            "2022-05-07 21:53:25,827 : INFO : worker thread finished; awaiting finish of 6 more threads\n",
            "2022-05-07 21:53:25,829 : INFO : worker thread finished; awaiting finish of 5 more threads\n",
            "2022-05-07 21:53:25,835 : INFO : worker thread finished; awaiting finish of 4 more threads\n",
            "2022-05-07 21:53:25,852 : INFO : worker thread finished; awaiting finish of 3 more threads\n",
            "2022-05-07 21:53:25,856 : INFO : worker thread finished; awaiting finish of 2 more threads\n",
            "2022-05-07 21:53:25,859 : INFO : worker thread finished; awaiting finish of 1 more threads\n",
            "2022-05-07 21:53:25,862 : INFO : worker thread finished; awaiting finish of 0 more threads\n",
            "2022-05-07 21:53:25,866 : INFO : EPOCH - 24 : training on 2109868 raw words (1398803 effective words) took 3.6s, 386404 effective words/s\n",
            "2022-05-07 21:53:26,893 : INFO : EPOCH 25 - PROGRESS: at 25.07% examples, 346746 words/s, in_qsize 15, out_qsize 0\n",
            "2022-05-07 21:53:27,985 : INFO : EPOCH 25 - PROGRESS: at 55.41% examples, 368488 words/s, in_qsize 15, out_qsize 0\n",
            "2022-05-07 21:53:28,985 : INFO : EPOCH 25 - PROGRESS: at 84.23% examples, 379833 words/s, in_qsize 16, out_qsize 0\n",
            "2022-05-07 21:53:29,420 : INFO : worker thread finished; awaiting finish of 7 more threads\n",
            "2022-05-07 21:53:29,423 : INFO : worker thread finished; awaiting finish of 6 more threads\n",
            "2022-05-07 21:53:29,456 : INFO : worker thread finished; awaiting finish of 5 more threads\n",
            "2022-05-07 21:53:29,464 : INFO : worker thread finished; awaiting finish of 4 more threads\n",
            "2022-05-07 21:53:29,471 : INFO : worker thread finished; awaiting finish of 3 more threads\n",
            "2022-05-07 21:53:29,474 : INFO : worker thread finished; awaiting finish of 2 more threads\n",
            "2022-05-07 21:53:29,478 : INFO : worker thread finished; awaiting finish of 1 more threads\n",
            "2022-05-07 21:53:29,479 : INFO : worker thread finished; awaiting finish of 0 more threads\n",
            "2022-05-07 21:53:29,481 : INFO : EPOCH - 25 : training on 2109868 raw words (1398647 effective words) took 3.6s, 388507 effective words/s\n",
            "2022-05-07 21:53:30,513 : INFO : EPOCH 26 - PROGRESS: at 26.50% examples, 367002 words/s, in_qsize 16, out_qsize 0\n",
            "2022-05-07 21:53:31,515 : INFO : EPOCH 26 - PROGRESS: at 52.57% examples, 365548 words/s, in_qsize 15, out_qsize 0\n",
            "2022-05-07 21:53:32,545 : INFO : EPOCH 26 - PROGRESS: at 80.41% examples, 370278 words/s, in_qsize 15, out_qsize 0\n",
            "2022-05-07 21:53:33,096 : INFO : worker thread finished; awaiting finish of 7 more threads\n",
            "2022-05-07 21:53:33,107 : INFO : worker thread finished; awaiting finish of 6 more threads\n",
            "2022-05-07 21:53:33,142 : INFO : worker thread finished; awaiting finish of 5 more threads\n",
            "2022-05-07 21:53:33,149 : INFO : worker thread finished; awaiting finish of 4 more threads\n",
            "2022-05-07 21:53:33,152 : INFO : worker thread finished; awaiting finish of 3 more threads\n",
            "2022-05-07 21:53:33,165 : INFO : worker thread finished; awaiting finish of 2 more threads\n",
            "2022-05-07 21:53:33,173 : INFO : worker thread finished; awaiting finish of 1 more threads\n",
            "2022-05-07 21:53:33,178 : INFO : worker thread finished; awaiting finish of 0 more threads\n",
            "2022-05-07 21:53:33,179 : INFO : EPOCH - 26 : training on 2109868 raw words (1399000 effective words) took 3.7s, 380543 effective words/s\n",
            "2022-05-07 21:53:34,266 : INFO : EPOCH 27 - PROGRESS: at 26.49% examples, 347118 words/s, in_qsize 15, out_qsize 0\n",
            "2022-05-07 21:53:35,296 : INFO : EPOCH 27 - PROGRESS: at 55.88% examples, 372715 words/s, in_qsize 16, out_qsize 0\n",
            "2022-05-07 21:53:36,317 : INFO : EPOCH 27 - PROGRESS: at 83.25% examples, 373838 words/s, in_qsize 15, out_qsize 0\n",
            "2022-05-07 21:53:36,749 : INFO : worker thread finished; awaiting finish of 7 more threads\n",
            "2022-05-07 21:53:36,752 : INFO : worker thread finished; awaiting finish of 6 more threads\n",
            "2022-05-07 21:53:36,758 : INFO : worker thread finished; awaiting finish of 5 more threads\n",
            "2022-05-07 21:53:36,788 : INFO : worker thread finished; awaiting finish of 4 more threads\n",
            "2022-05-07 21:53:36,802 : INFO : worker thread finished; awaiting finish of 3 more threads\n",
            "2022-05-07 21:53:36,804 : INFO : worker thread finished; awaiting finish of 2 more threads\n",
            "2022-05-07 21:53:36,814 : INFO : worker thread finished; awaiting finish of 1 more threads\n",
            "2022-05-07 21:53:36,819 : INFO : worker thread finished; awaiting finish of 0 more threads\n",
            "2022-05-07 21:53:36,820 : INFO : EPOCH - 27 : training on 2109868 raw words (1398578 effective words) took 3.6s, 386098 effective words/s\n",
            "2022-05-07 21:53:37,846 : INFO : EPOCH 28 - PROGRESS: at 26.02% examples, 359481 words/s, in_qsize 16, out_qsize 0\n",
            "2022-05-07 21:53:38,858 : INFO : EPOCH 28 - PROGRESS: at 52.55% examples, 362958 words/s, in_qsize 13, out_qsize 2\n",
            "2022-05-07 21:53:39,974 : INFO : EPOCH 28 - PROGRESS: at 83.27% examples, 371018 words/s, in_qsize 11, out_qsize 4\n",
            "2022-05-07 21:53:40,423 : INFO : worker thread finished; awaiting finish of 7 more threads\n",
            "2022-05-07 21:53:40,430 : INFO : worker thread finished; awaiting finish of 6 more threads\n",
            "2022-05-07 21:53:40,432 : INFO : worker thread finished; awaiting finish of 5 more threads\n",
            "2022-05-07 21:53:40,434 : INFO : worker thread finished; awaiting finish of 4 more threads\n",
            "2022-05-07 21:53:40,453 : INFO : worker thread finished; awaiting finish of 3 more threads\n",
            "2022-05-07 21:53:40,454 : INFO : worker thread finished; awaiting finish of 2 more threads\n",
            "2022-05-07 21:53:40,465 : INFO : worker thread finished; awaiting finish of 1 more threads\n",
            "2022-05-07 21:53:40,469 : INFO : worker thread finished; awaiting finish of 0 more threads\n",
            "2022-05-07 21:53:40,471 : INFO : EPOCH - 28 : training on 2109868 raw words (1397986 effective words) took 3.6s, 384264 effective words/s\n",
            "2022-05-07 21:53:41,502 : INFO : EPOCH 29 - PROGRESS: at 26.50% examples, 366779 words/s, in_qsize 15, out_qsize 0\n",
            "2022-05-07 21:53:42,503 : INFO : EPOCH 29 - PROGRESS: at 52.55% examples, 365607 words/s, in_qsize 13, out_qsize 2\n",
            "2022-05-07 21:53:43,575 : INFO : EPOCH 29 - PROGRESS: at 82.32% examples, 373795 words/s, in_qsize 16, out_qsize 0\n",
            "2022-05-07 21:53:44,066 : INFO : worker thread finished; awaiting finish of 7 more threads\n",
            "2022-05-07 21:53:44,076 : INFO : worker thread finished; awaiting finish of 6 more threads\n",
            "2022-05-07 21:53:44,082 : INFO : worker thread finished; awaiting finish of 5 more threads\n",
            "2022-05-07 21:53:44,091 : INFO : worker thread finished; awaiting finish of 4 more threads\n",
            "2022-05-07 21:53:44,097 : INFO : worker thread finished; awaiting finish of 3 more threads\n",
            "2022-05-07 21:53:44,104 : INFO : worker thread finished; awaiting finish of 2 more threads\n",
            "2022-05-07 21:53:44,110 : INFO : worker thread finished; awaiting finish of 1 more threads\n",
            "2022-05-07 21:53:44,114 : INFO : worker thread finished; awaiting finish of 0 more threads\n",
            "2022-05-07 21:53:44,115 : INFO : EPOCH - 29 : training on 2109868 raw words (1398022 effective words) took 3.6s, 385863 effective words/s\n",
            "2022-05-07 21:53:45,147 : INFO : EPOCH 30 - PROGRESS: at 25.55% examples, 353471 words/s, in_qsize 16, out_qsize 0\n",
            "2022-05-07 21:53:46,158 : INFO : EPOCH 30 - PROGRESS: at 52.57% examples, 363665 words/s, in_qsize 15, out_qsize 0\n",
            "2022-05-07 21:53:47,159 : INFO : EPOCH 30 - PROGRESS: at 81.82% examples, 378993 words/s, in_qsize 15, out_qsize 0\n",
            "2022-05-07 21:53:47,682 : INFO : worker thread finished; awaiting finish of 7 more threads\n",
            "2022-05-07 21:53:47,686 : INFO : worker thread finished; awaiting finish of 6 more threads\n",
            "2022-05-07 21:53:47,726 : INFO : worker thread finished; awaiting finish of 5 more threads\n",
            "2022-05-07 21:53:47,743 : INFO : worker thread finished; awaiting finish of 4 more threads\n",
            "2022-05-07 21:53:47,756 : INFO : worker thread finished; awaiting finish of 3 more threads\n",
            "2022-05-07 21:53:47,762 : INFO : worker thread finished; awaiting finish of 2 more threads\n",
            "2022-05-07 21:53:47,764 : INFO : worker thread finished; awaiting finish of 1 more threads\n",
            "2022-05-07 21:53:47,775 : INFO : worker thread finished; awaiting finish of 0 more threads\n",
            "2022-05-07 21:53:47,778 : INFO : EPOCH - 30 : training on 2109868 raw words (1398808 effective words) took 3.6s, 383855 effective words/s\n",
            "2022-05-07 21:53:48,814 : INFO : EPOCH 31 - PROGRESS: at 25.08% examples, 345467 words/s, in_qsize 15, out_qsize 2\n",
            "2022-05-07 21:53:49,830 : INFO : EPOCH 31 - PROGRESS: at 53.99% examples, 370994 words/s, in_qsize 16, out_qsize 1\n",
            "2022-05-07 21:53:50,832 : INFO : EPOCH 31 - PROGRESS: at 81.35% examples, 375020 words/s, in_qsize 16, out_qsize 0\n",
            "2022-05-07 21:53:51,373 : INFO : worker thread finished; awaiting finish of 7 more threads\n",
            "2022-05-07 21:53:51,387 : INFO : worker thread finished; awaiting finish of 6 more threads\n",
            "2022-05-07 21:53:51,393 : INFO : worker thread finished; awaiting finish of 5 more threads\n",
            "2022-05-07 21:53:51,398 : INFO : worker thread finished; awaiting finish of 4 more threads\n",
            "2022-05-07 21:53:51,405 : INFO : worker thread finished; awaiting finish of 3 more threads\n",
            "2022-05-07 21:53:51,417 : INFO : worker thread finished; awaiting finish of 2 more threads\n",
            "2022-05-07 21:53:51,420 : INFO : worker thread finished; awaiting finish of 1 more threads\n",
            "2022-05-07 21:53:51,433 : INFO : worker thread finished; awaiting finish of 0 more threads\n",
            "2022-05-07 21:53:51,434 : INFO : EPOCH - 31 : training on 2109868 raw words (1398737 effective words) took 3.6s, 384204 effective words/s\n",
            "2022-05-07 21:53:52,451 : INFO : EPOCH 32 - PROGRESS: at 24.62% examples, 344359 words/s, in_qsize 15, out_qsize 0\n",
            "2022-05-07 21:53:53,545 : INFO : EPOCH 32 - PROGRESS: at 53.97% examples, 363905 words/s, in_qsize 15, out_qsize 0\n",
            "2022-05-07 21:53:54,607 : INFO : EPOCH 32 - PROGRESS: at 83.27% examples, 369239 words/s, in_qsize 15, out_qsize 0\n",
            "2022-05-07 21:53:55,040 : INFO : worker thread finished; awaiting finish of 7 more threads\n",
            "2022-05-07 21:53:55,047 : INFO : worker thread finished; awaiting finish of 6 more threads\n",
            "2022-05-07 21:53:55,070 : INFO : worker thread finished; awaiting finish of 5 more threads\n",
            "2022-05-07 21:53:55,075 : INFO : worker thread finished; awaiting finish of 4 more threads\n",
            "2022-05-07 21:53:55,103 : INFO : worker thread finished; awaiting finish of 3 more threads\n",
            "2022-05-07 21:53:55,122 : INFO : worker thread finished; awaiting finish of 2 more threads\n",
            "2022-05-07 21:53:55,124 : INFO : worker thread finished; awaiting finish of 1 more threads\n",
            "2022-05-07 21:53:55,128 : INFO : worker thread finished; awaiting finish of 0 more threads\n",
            "2022-05-07 21:53:55,133 : INFO : EPOCH - 32 : training on 2109868 raw words (1398397 effective words) took 3.7s, 379692 effective words/s\n",
            "2022-05-07 21:53:55,137 : INFO : training on a 67515776 raw words (44751051 effective words) took 125.1s, 357782 effective words/s\n"
          ]
        },
        {
          "output_type": "stream",
          "name": "stdout",
          "text": [
            "CPU times: user 3min 45s, sys: 1.82 s, total: 3min 46s\n",
            "Wall time: 2min 5s\n"
          ]
        },
        {
          "output_type": "execute_result",
          "data": {
            "text/plain": [
              "(44751051, 67515776)"
            ]
          },
          "metadata": {},
          "execution_count": 21
        }
      ],
      "source": [
        "%%time\n",
        "w2v_model.train(documents, total_examples=len(documents), epochs=W2V_EPOCH)"
      ]
    },
    {
      "cell_type": "code",
      "execution_count": null,
      "metadata": {
        "colab": {
          "base_uri": "https://localhost:8080/"
        },
        "id": "F6xPxnGHmT4l",
        "outputId": "b9029876-cd83-4c08-c395-f3924802d956"
      },
      "outputs": [
        {
          "output_type": "stream",
          "name": "stderr",
          "text": [
            "/usr/local/lib/python3.7/dist-packages/ipykernel_launcher.py:1: DeprecationWarning: Call to deprecated `most_similar` (Method will be removed in 4.0.0, use self.wv.most_similar() instead).\n",
            "  \"\"\"Entry point for launching an IPython kernel.\n",
            "2022-05-07 21:53:55,171 : INFO : precomputing L2-norms of word weight vectors\n"
          ]
        },
        {
          "output_type": "execute_result",
          "data": {
            "text/plain": [
              "[('LOVE', 0.5477240085601807),\n",
              " ('adore', 0.5449113845825195),\n",
              " ('luv', 0.5357214212417603),\n",
              " ('appreciate', 0.5325413942337036),\n",
              " ('loved', 0.5319006443023682),\n",
              " ('looove', 0.5158330202102661),\n",
              " ('loooove', 0.5033454298973083),\n",
              " ('Love', 0.4947524666786194),\n",
              " ('lovee', 0.4754341244697571),\n",
              " ('loves', 0.44460296630859375)]"
            ]
          },
          "metadata": {},
          "execution_count": 22
        }
      ],
      "source": [
        "w2v_model.most_similar(\"love\")"
      ]
    },
    {
      "cell_type": "markdown",
      "metadata": {
        "id": "G2l-hH4AmT4m"
      },
      "source": [
        "### Tokenize Text"
      ]
    },
    {
      "cell_type": "code",
      "execution_count": null,
      "metadata": {
        "colab": {
          "base_uri": "https://localhost:8080/"
        },
        "id": "1Exdx2KKmT4m",
        "outputId": "13d43df3-2ffa-4723-83c0-24427e29a3d9"
      },
      "outputs": [
        {
          "output_type": "stream",
          "name": "stdout",
          "text": [
            "Total words 138203\n",
            "CPU times: user 3.48 s, sys: 115 ms, total: 3.59 s\n",
            "Wall time: 4.26 s\n"
          ]
        }
      ],
      "source": [
        "%%time\n",
        "tokenizer = Tokenizer()\n",
        "tokenizer.fit_on_texts(df_train.text)\n",
        "\n",
        "vocab_size = len(tokenizer.word_index) + 1\n",
        "print(\"Total words\", vocab_size)"
      ]
    },
    {
      "cell_type": "code",
      "execution_count": null,
      "metadata": {
        "colab": {
          "base_uri": "https://localhost:8080/"
        },
        "id": "m5hBsuDqmT4m",
        "outputId": "cc2767bd-b117-40df-8e6d-dc1a5ba1187c"
      },
      "outputs": [
        {
          "output_type": "stream",
          "name": "stdout",
          "text": [
            "CPU times: user 4.19 s, sys: 136 ms, total: 4.33 s\n",
            "Wall time: 4.3 s\n"
          ]
        }
      ],
      "source": [
        "%%time\n",
        "x_train = pad_sequences(tokenizer.texts_to_sequences(df_train.text), maxlen=SEQUENCE_LENGTH)\n",
        "x_test = pad_sequences(tokenizer.texts_to_sequences(df_test.text), maxlen=SEQUENCE_LENGTH)"
      ]
    },
    {
      "cell_type": "markdown",
      "metadata": {
        "id": "pf3AstKdmT4m"
      },
      "source": [
        "### Label Encoder "
      ]
    },
    {
      "cell_type": "code",
      "execution_count": null,
      "metadata": {
        "colab": {
          "base_uri": "https://localhost:8080/"
        },
        "id": "-2N_bDeemT4m",
        "outputId": "ca80d65a-9109-44db-a9a0-1925d5d4291d"
      },
      "outputs": [
        {
          "output_type": "execute_result",
          "data": {
            "text/plain": [
              "['POSITIVE', 'NEGATIVE', 'NEUTRAL']"
            ]
          },
          "metadata": {},
          "execution_count": 25
        }
      ],
      "source": [
        "labels = df_train.target.unique().tolist()\n",
        "labels.append(NEUTRAL)\n",
        "labels"
      ]
    },
    {
      "cell_type": "code",
      "execution_count": null,
      "metadata": {
        "colab": {
          "base_uri": "https://localhost:8080/"
        },
        "id": "V8xhjhpwmT4m",
        "outputId": "d366a059-b056-43d9-ef53-19c41e8a3f6a"
      },
      "outputs": [
        {
          "output_type": "stream",
          "name": "stdout",
          "text": [
            "y_train (160000, 1)\n",
            "y_test (40000, 1)\n"
          ]
        }
      ],
      "source": [
        "encoder = LabelEncoder()\n",
        "encoder.fit(df_train.target.tolist())\n",
        "\n",
        "y_train = encoder.transform(df_train.target.tolist())\n",
        "y_test = encoder.transform(df_test.target.tolist())\n",
        "\n",
        "y_train = y_train.reshape(-1,1)\n",
        "y_test = y_test.reshape(-1,1)\n",
        "\n",
        "print(\"y_train\",y_train.shape)\n",
        "print(\"y_test\",y_test.shape)"
      ]
    },
    {
      "cell_type": "code",
      "execution_count": null,
      "metadata": {
        "colab": {
          "base_uri": "https://localhost:8080/"
        },
        "id": "W1tIprIXmT4m",
        "outputId": "52f277df-ea3b-4b57-fb6c-06a7b325e70a"
      },
      "outputs": [
        {
          "output_type": "stream",
          "name": "stdout",
          "text": [
            "x_train (160000, 300)\n",
            "y_train (160000, 1)\n",
            "\n",
            "x_test (40000, 300)\n",
            "y_test (40000, 1)\n"
          ]
        }
      ],
      "source": [
        "print(\"x_train\", x_train.shape)\n",
        "print(\"y_train\", y_train.shape)\n",
        "print()\n",
        "print(\"x_test\", x_test.shape)\n",
        "print(\"y_test\", y_test.shape)"
      ]
    },
    {
      "cell_type": "code",
      "execution_count": null,
      "metadata": {
        "colab": {
          "base_uri": "https://localhost:8080/"
        },
        "id": "hdYbjDQGmT4m",
        "outputId": "fcc7e22a-e45d-44c2-c06f-ffabe96b9a28"
      },
      "outputs": [
        {
          "output_type": "execute_result",
          "data": {
            "text/plain": [
              "array([[1],\n",
              "       [1],\n",
              "       [0],\n",
              "       [0],\n",
              "       [1],\n",
              "       [1],\n",
              "       [0],\n",
              "       [1],\n",
              "       [1],\n",
              "       [0]])"
            ]
          },
          "metadata": {},
          "execution_count": 55
        }
      ],
      "source": [
        "y_train[:10]"
      ]
    },
    {
      "cell_type": "markdown",
      "metadata": {
        "id": "-_nC1BVNmT4n"
      },
      "source": [
        "### Embedding layer"
      ]
    },
    {
      "cell_type": "code",
      "execution_count": null,
      "metadata": {
        "colab": {
          "base_uri": "https://localhost:8080/"
        },
        "id": "OY81Cl1CmT4n",
        "outputId": "d57455b3-95c7-441e-ab1e-733f91b070cb"
      },
      "outputs": [
        {
          "output_type": "stream",
          "name": "stdout",
          "text": [
            "(138203, 300)\n"
          ]
        }
      ],
      "source": [
        "embedding_matrix = np.zeros((vocab_size, W2V_SIZE))\n",
        "for word, i in tokenizer.word_index.items():\n",
        "  if word in w2v_model.wv:\n",
        "    embedding_matrix[i] = w2v_model.wv[word]\n",
        "print(embedding_matrix.shape)"
      ]
    },
    {
      "cell_type": "code",
      "execution_count": null,
      "metadata": {
        "id": "oHE4BuLzmT4n"
      },
      "outputs": [],
      "source": [
        "embedding_layer = Embedding(vocab_size, W2V_SIZE, weights=[embedding_matrix], input_length=SEQUENCE_LENGTH, trainable=False)"
      ]
    },
    {
      "cell_type": "markdown",
      "metadata": {
        "id": "524YF3DOmT4n"
      },
      "source": [
        "### Build Model"
      ]
    },
    {
      "cell_type": "code",
      "execution_count": null,
      "metadata": {
        "colab": {
          "base_uri": "https://localhost:8080/"
        },
        "id": "t6h394zUmT4n",
        "outputId": "389ea728-8f75-4733-a392-8d01f40e3aa2"
      },
      "outputs": [
        {
          "output_type": "stream",
          "name": "stdout",
          "text": [
            "WARNING:tensorflow:Layer lstm will not use cuDNN kernels since it doesn't meet the criteria. It will use a generic GPU kernel as fallback when running on GPU.\n"
          ]
        },
        {
          "output_type": "stream",
          "name": "stderr",
          "text": [
            "2022-05-07 21:54:08,897 : WARNING : Layer lstm will not use cuDNN kernels since it doesn't meet the criteria. It will use a generic GPU kernel as fallback when running on GPU.\n"
          ]
        },
        {
          "output_type": "stream",
          "name": "stdout",
          "text": [
            "Model: \"sequential\"\n",
            "_________________________________________________________________\n",
            " Layer (type)                Output Shape              Param #   \n",
            "=================================================================\n",
            " embedding (Embedding)       (None, 300, 300)          41460900  \n",
            "                                                                 \n",
            " dropout (Dropout)           (None, 300, 300)          0         \n",
            "                                                                 \n",
            " lstm (LSTM)                 (None, 100)               160400    \n",
            "                                                                 \n",
            " dense (Dense)               (None, 1)                 101       \n",
            "                                                                 \n",
            "=================================================================\n",
            "Total params: 41,621,401\n",
            "Trainable params: 160,501\n",
            "Non-trainable params: 41,460,900\n",
            "_________________________________________________________________\n"
          ]
        }
      ],
      "source": [
        "model = Sequential()\n",
        "model.add(embedding_layer)\n",
        "model.add(Dropout(0.5))\n",
        "model.add(LSTM(100, dropout=0.2, recurrent_dropout=0.2))\n",
        "model.add(Dense(1, activation='sigmoid'))\n",
        "\n",
        "model.summary()"
      ]
    },
    {
      "cell_type": "markdown",
      "metadata": {
        "id": "VQYruyR3mT4n"
      },
      "source": [
        "### Compile model"
      ]
    },
    {
      "cell_type": "code",
      "execution_count": null,
      "metadata": {
        "id": "2YylqnG8mT4n"
      },
      "outputs": [],
      "source": [
        "# model.compile(loss='binary_crossentropy',\n",
        "#               optimizer=\"adam\",\n",
        "#               metrics=['accuracy'])\n",
        "\n",
        "model.compile(loss='binary_crossentropy',\n",
        "              optimizer=optimizers.Adam(learning_rate=1e-2),\n",
        "              metrics=['accuracy'])\n"
      ]
    },
    {
      "cell_type": "markdown",
      "metadata": {
        "id": "35diA7IXmT4n"
      },
      "source": [
        "### Callbacks"
      ]
    },
    {
      "cell_type": "code",
      "source": [
        "import tensorflow as tf \n",
        "import os\n",
        "checkpoint_path='/content/drive/MyDrive/SentimentAnalysis/Checkpoint/model.{epoch:02d}-{val_loss:.2f}.h5'\n",
        "checkpoint_dir=os.path.dirname(checkpoint_path)\n",
        "filename = 'Logs.csv'\n",
        "\n",
        "my_callbacks = [\n",
        "    # Stop training if validation error stays within 0.00001 for three rounds.\n",
        "    tf.keras.callbacks.EarlyStopping(monitor='val_loss',\n",
        "                                     min_delta=0.00001,\n",
        "                                     patience=3),\n",
        "    # Save the weights of the best performing model to the checkpoint folder.\n",
        "    tf.keras.callbacks.ModelCheckpoint(filepath=checkpoint_path,\n",
        "                                       save_best_only=True,\n",
        "                                       save_weights_only=True),\n",
        "                \n",
        "    tf.keras.callbacks.CSVLogger(filename, separator = \",\" , append = True)\n",
        "]\n",
        "\n"
      ],
      "metadata": {
        "id": "Y-WjjLXAqYpk"
      },
      "execution_count": null,
      "outputs": []
    },
    {
      "cell_type": "code",
      "execution_count": null,
      "metadata": {
        "id": "lFdLwwAKmT4o"
      },
      "outputs": [],
      "source": [
        "# callbacks = [ ReduceLROnPlateau(monitor='val_loss', patience=5, cooldown=0),\n",
        "#               EarlyStopping(monitor='val_acc', min_delta=1e-4, patience=5)]"
      ]
    },
    {
      "cell_type": "markdown",
      "metadata": {
        "id": "KjJHXsRvmT4o"
      },
      "source": [
        "### Train"
      ]
    },
    {
      "cell_type": "code",
      "execution_count": null,
      "metadata": {
        "colab": {
          "base_uri": "https://localhost:8080/"
        },
        "id": "ZrifBGRLmT4o",
        "outputId": "d5733877-5111-43b1-cc07-3966d27bbb86"
      },
      "outputs": [
        {
          "output_type": "stream",
          "name": "stdout",
          "text": [
            "Epoch 1/8\n",
            "141/141 [==============================] - 264s 2s/step - loss: 0.5308 - accuracy: 0.7328 - val_loss: 0.4708 - val_accuracy: 0.7781\n",
            "Epoch 2/8\n",
            "141/141 [==============================] - 257s 2s/step - loss: 0.4976 - accuracy: 0.7574 - val_loss: 0.4627 - val_accuracy: 0.7839\n",
            "Epoch 3/8\n",
            "141/141 [==============================] - 254s 2s/step - loss: 0.4889 - accuracy: 0.7621 - val_loss: 0.4644 - val_accuracy: 0.7784\n",
            "Epoch 4/8\n",
            "141/141 [==============================] - 255s 2s/step - loss: 0.4874 - accuracy: 0.7626 - val_loss: 0.4620 - val_accuracy: 0.7818\n",
            "Epoch 5/8\n",
            "141/141 [==============================] - 298s 2s/step - loss: 0.4827 - accuracy: 0.7662 - val_loss: 0.4613 - val_accuracy: 0.7834\n",
            "Epoch 6/8\n",
            "141/141 [==============================] - 263s 2s/step - loss: 0.4803 - accuracy: 0.7679 - val_loss: 0.4580 - val_accuracy: 0.7844\n",
            "Epoch 7/8\n",
            "141/141 [==============================] - 260s 2s/step - loss: 0.4817 - accuracy: 0.7670 - val_loss: 0.4557 - val_accuracy: 0.7861\n",
            "Epoch 8/8\n",
            "141/141 [==============================] - 258s 2s/step - loss: 0.4792 - accuracy: 0.7678 - val_loss: 0.4529 - val_accuracy: 0.7869\n",
            "CPU times: user 48min 47s, sys: 8min 19s, total: 57min 6s\n",
            "Wall time: 35min 8s\n"
          ]
        }
      ],
      "source": [
        "%%time\n",
        "history = model.fit(x_train, y_train,\n",
        "                    batch_size=BATCH_SIZE,\n",
        "                    epochs=8,\n",
        "                    validation_split=0.1,\n",
        "                    verbose=1,\n",
        "                    callbacks=my_callbacks)"
      ]
    },
    {
      "cell_type": "code",
      "source": [
        "model.save('/content/drive/MyDrive/SentimentAnalysis/LSTM.h5')"
      ],
      "metadata": {
        "id": "eJQ_DxdtsfN2"
      },
      "execution_count": null,
      "outputs": []
    },
    {
      "cell_type": "code",
      "source": [
        "import tensorflow.keras as keras\n",
        "model = keras.models.load_model('/content/drive/MyDrive/SentimentAnalysis/LSTM.h5')"
      ],
      "metadata": {
        "colab": {
          "base_uri": "https://localhost:8080/"
        },
        "id": "xI-hMjmQU6b6",
        "outputId": "4b7488ad-924d-4c2b-cfb3-84e2746cb047"
      },
      "execution_count": null,
      "outputs": [
        {
          "output_type": "stream",
          "name": "stdout",
          "text": [
            "WARNING:tensorflow:Layer lstm_1 will not use cuDNN kernels since it doesn't meet the criteria. It will use a generic GPU kernel as fallback when running on GPU.\n"
          ]
        },
        {
          "output_type": "stream",
          "name": "stderr",
          "text": [
            "2022-05-07 21:54:09,779 : WARNING : Layer lstm_1 will not use cuDNN kernels since it doesn't meet the criteria. It will use a generic GPU kernel as fallback when running on GPU.\n"
          ]
        }
      ]
    },
    {
      "cell_type": "code",
      "source": [
        "model.load_weights('/content/drive/MyDrive/SentimentAnalysis/Checkpoint/model.08-0.45.h5')"
      ],
      "metadata": {
        "id": "TeX0Y_JpSHPF"
      },
      "execution_count": null,
      "outputs": []
    },
    {
      "cell_type": "code",
      "source": [
        "l1 = model.history.history['loss']\n",
        "vl1 = model.history.history['val_loss']"
      ],
      "metadata": {
        "id": "YlNPkOPIstdv"
      },
      "execution_count": null,
      "outputs": []
    },
    {
      "cell_type": "code",
      "source": [
        "loss = l1\n",
        "val_loss = vl1\n",
        "epochs = range(1, len(loss) + 1)\n",
        "plt.plot(epochs, loss, 'bo', label='Training loss')\n",
        "plt.plot(epochs, val_loss, 'b', label='Validation loss')\n",
        "plt.title('Training and validation loss')\n",
        "plt.xlabel('Epochs')\n",
        "plt.ylabel('Loss')\n",
        "plt.legend()\n",
        "plt.show()"
      ],
      "metadata": {
        "colab": {
          "base_uri": "https://localhost:8080/",
          "height": 295
        },
        "id": "MKH-IZm9Cfod",
        "outputId": "be827470-ff76-4939-ac9c-4ce321111e70"
      },
      "execution_count": null,
      "outputs": [
        {
          "output_type": "display_data",
          "data": {
            "text/plain": [
              "<Figure size 432x288 with 1 Axes>"
            ],
            "image/png": "[encoded data removed]"
          },
          "metadata": {
            "needs_background": "light"
          }
        }
      ]
    },
    {
      "cell_type": "code",
      "source": [
        "%%time\n",
        "history = model.fit(x_train, y_train,\n",
        "                    batch_size=BATCH_SIZE,\n",
        "                    epochs=12,\n",
        "                    validation_split=0.1,\n",
        "                    verbose=1,\n",
        "                    callbacks=my_callbacks)"
      ],
      "metadata": {
        "colab": {
          "base_uri": "https://localhost:8080/"
        },
        "id": "oLwMnglW9UE5",
        "outputId": "7123caa9-0cca-471a-a1bc-a3a4db9ad971"
      },
      "execution_count": null,
      "outputs": [
        {
          "output_type": "stream",
          "name": "stdout",
          "text": [
            "Epoch 1/12\n",
            "141/141 [==============================] - 258s 2s/step - loss: 0.4757 - accuracy: 0.7713 - val_loss: 0.4607 - val_accuracy: 0.7854\n",
            "Epoch 2/12\n",
            "141/141 [==============================] - 251s 2s/step - loss: 0.4754 - accuracy: 0.7706 - val_loss: 0.4518 - val_accuracy: 0.7883\n",
            "Epoch 3/12\n",
            "141/141 [==============================] - 252s 2s/step - loss: 0.4739 - accuracy: 0.7712 - val_loss: 0.4517 - val_accuracy: 0.7887\n",
            "Epoch 4/12\n",
            "141/141 [==============================] - 251s 2s/step - loss: 0.4732 - accuracy: 0.7715 - val_loss: 0.4519 - val_accuracy: 0.7901\n",
            "Epoch 5/12\n",
            "141/141 [==============================] - 243s 2s/step - loss: 0.4713 - accuracy: 0.7725 - val_loss: 0.4484 - val_accuracy: 0.7894\n",
            "Epoch 6/12\n",
            "141/141 [==============================] - 245s 2s/step - loss: 0.4703 - accuracy: 0.7737 - val_loss: 0.4497 - val_accuracy: 0.7911\n",
            "Epoch 7/12\n",
            "141/141 [==============================] - 244s 2s/step - loss: 0.4697 - accuracy: 0.7755 - val_loss: 0.4482 - val_accuracy: 0.7924\n",
            "Epoch 8/12\n",
            "141/141 [==============================] - 240s 2s/step - loss: 0.4692 - accuracy: 0.7753 - val_loss: 0.4536 - val_accuracy: 0.7905\n",
            "Epoch 9/12\n",
            "141/141 [==============================] - 242s 2s/step - loss: 0.4688 - accuracy: 0.7760 - val_loss: 0.4486 - val_accuracy: 0.7924\n",
            "Epoch 10/12\n",
            "141/141 [==============================] - 242s 2s/step - loss: 0.4685 - accuracy: 0.7753 - val_loss: 0.4499 - val_accuracy: 0.7921\n",
            "CPU times: user 57min 47s, sys: 10min 10s, total: 1h 7min 58s\n",
            "Wall time: 41min 9s\n"
          ]
        }
      ]
    },
    {
      "cell_type": "code",
      "source": [
        "l2 = model.history.history['loss']\n",
        "vl2 = model.history.history['val_loss']"
      ],
      "metadata": {
        "id": "tL6e-Caj9Tw2"
      },
      "execution_count": null,
      "outputs": []
    },
    {
      "cell_type": "code",
      "source": [
        "loss = l1 + l2\n",
        "val_loss = vl1 + vl2\n",
        "epochs = range(1, len(loss) + 1)\n",
        "plt.plot(epochs, loss, 'bo', label='Training loss')\n",
        "plt.plot(epochs, val_loss, 'b', label='Validation loss')\n",
        "plt.title('Training and validation loss')\n",
        "plt.xlabel('Epochs')\n",
        "plt.ylabel('Loss')\n",
        "plt.legend()\n",
        "plt.show()"
      ],
      "metadata": {
        "colab": {
          "base_uri": "https://localhost:8080/",
          "height": 295
        },
        "id": "7dJ9p4S0staV",
        "outputId": "62cadfd1-8b52-49b0-fa49-89733c08dfe8"
      },
      "execution_count": null,
      "outputs": [
        {
          "output_type": "display_data",
          "data": {
            "text/plain": [
              "<Figure size 432x288 with 1 Axes>"
            ],
            "image/png": "[encoded data removed]"
          },
          "metadata": {
            "needs_background": "light"
          }
        }
      ]
    },
    {
      "cell_type": "markdown",
      "metadata": {
        "id": "TPyoQYKwmT4o"
      },
      "source": [
        "### Evaluate"
      ]
    },
    {
      "cell_type": "code",
      "execution_count": null,
      "metadata": {
        "colab": {
          "base_uri": "https://localhost:8080/"
        },
        "id": "3PsqPjngmT4o",
        "outputId": "10a3c90c-f334-475c-b588-d47a647af760"
      },
      "outputs": [
        {
          "output_type": "stream",
          "name": "stdout",
          "text": [
            "40/40 [==============================] - 9s 235ms/step - loss: 0.4515 - accuracy: 0.7895\n",
            "\n",
            "ACCURACY: 0.7894999980926514\n",
            "LOSS: 0.4515473246574402\n",
            "CPU times: user 6.74 s, sys: 2.04 s, total: 8.78 s\n",
            "Wall time: 10.3 s\n"
          ]
        }
      ],
      "source": [
        "%%time\n",
        "score = model.evaluate(x_test, y_test, batch_size=BATCH_SIZE)\n",
        "print()\n",
        "print(\"ACCURACY:\",score[1])\n",
        "print(\"LOSS:\",score[0])"
      ]
    },
    {
      "cell_type": "markdown",
      "metadata": {
        "id": "0YQCwIYPmT4o"
      },
      "source": [
        "### Predict"
      ]
    },
    {
      "cell_type": "code",
      "execution_count": null,
      "metadata": {
        "id": "hySZa3UwmT4p"
      },
      "outputs": [],
      "source": [
        "def decode_sentiment(score, include_neutral=True):\n",
        "    if include_neutral:        \n",
        "        label = NEUTRAL\n",
        "        if score <= SENTIMENT_THRESHOLDS[0]:\n",
        "            label = NEGATIVE\n",
        "        elif score >= SENTIMENT_THRESHOLDS[1]:\n",
        "            label = POSITIVE\n",
        "\n",
        "        return label\n",
        "    else:\n",
        "        return NEGATIVE if score < 0.5 else POSITIVE"
      ]
    },
    {
      "cell_type": "code",
      "execution_count": null,
      "metadata": {
        "id": "4o9kHphUmT4p"
      },
      "outputs": [],
      "source": [
        "def predict(text, include_neutral=True):\n",
        "    start_at = time.time()\n",
        "    # Tokenize text\n",
        "    x_test = pad_sequences(tokenizer.texts_to_sequences([text]), maxlen=SEQUENCE_LENGTH)\n",
        "    # Predict\n",
        "    score = model.predict([x_test])[0]\n",
        "    # Decode sentiment\n",
        "    label = decode_sentiment(score, include_neutral=include_neutral)\n",
        "\n",
        "    return {\"label\": label, \"score\": float(score),\n",
        "       \"elapsed_time\": time.time()-start_at}  "
      ]
    },
    {
      "cell_type": "code",
      "execution_count": null,
      "metadata": {
        "colab": {
          "base_uri": "https://localhost:8080/"
        },
        "id": "mix1dL-ZmT4p",
        "outputId": "cd79d8e8-77d0-4596-945b-75f63a99b447"
      },
      "outputs": [
        {
          "output_type": "execute_result",
          "data": {
            "text/plain": [
              "{'elapsed_time': 0.4997375011444092,\n",
              " 'label': 'POSITIVE',\n",
              " 'score': 0.9832963347434998}"
            ]
          },
          "metadata": {},
          "execution_count": 75
        }
      ],
      "source": [
        "predict(\"I love the music\")"
      ]
    },
    {
      "cell_type": "code",
      "execution_count": null,
      "metadata": {
        "colab": {
          "base_uri": "https://localhost:8080/"
        },
        "id": "2d3kZu-bmT4p",
        "outputId": "04485454-1916-4e04-b04f-98a2d9bf3451"
      },
      "outputs": [
        {
          "output_type": "execute_result",
          "data": {
            "text/plain": [
              "{'elapsed_time': 0.1633608341217041,\n",
              " 'label': 'NEGATIVE',\n",
              " 'score': 0.009592372924089432}"
            ]
          },
          "metadata": {},
          "execution_count": 76
        }
      ],
      "source": [
        "predict(\"I hate the rain\")"
      ]
    },
    {
      "cell_type": "code",
      "execution_count": null,
      "metadata": {
        "colab": {
          "base_uri": "https://localhost:8080/"
        },
        "id": "oCfoOAWImT4p",
        "outputId": "723dd7d8-67db-497d-f430-8fd49082ee3f"
      },
      "outputs": [
        {
          "output_type": "execute_result",
          "data": {
            "text/plain": [
              "{'elapsed_time': 0.16228389739990234,\n",
              " 'label': 'NEGATIVE',\n",
              " 'score': 0.2085791975259781}"
            ]
          },
          "metadata": {},
          "execution_count": 77
        }
      ],
      "source": [
        "predict(\"i don't know what i'm doing\")"
      ]
    },
    {
      "cell_type": "markdown",
      "metadata": {
        "id": "mziZ5SwFmT4p"
      },
      "source": [
        "### Confusion Matrix"
      ]
    },
    {
      "cell_type": "code",
      "execution_count": null,
      "metadata": {
        "colab": {
          "base_uri": "https://localhost:8080/"
        },
        "id": "uDw81T4SmT4p",
        "outputId": "2ea19737-62f0-40fe-b152-91a626175ee7"
      },
      "outputs": [
        {
          "output_type": "stream",
          "name": "stdout",
          "text": [
            "5/5 [==============================] - 7s 1s/step\n",
            "CPU times: user 3.96 s, sys: 2.78 s, total: 6.73 s\n",
            "Wall time: 6.88 s\n"
          ]
        }
      ],
      "source": [
        "%%time\n",
        "y_pred_1d = []\n",
        "y_test_1d = list(df_test.target)\n",
        "scores = model.predict(x_test, verbose=1, batch_size=8000)\n",
        "y_pred_1d = [decode_sentiment(score, include_neutral=False) for score in scores]"
      ]
    },
    {
      "cell_type": "code",
      "execution_count": null,
      "metadata": {
        "id": "K_uZRu9LmT4q"
      },
      "outputs": [],
      "source": [
        "def plot_confusion_matrix(cm, classes,\n",
        "                          title='Confusion matrix',\n",
        "                          cmap=plt.cm.Blues):\n",
        "    \"\"\"\n",
        "    This function prints and plots the confusion matrix.\n",
        "    Normalization can be applied by setting `normalize=True`.\n",
        "    \"\"\"\n",
        "\n",
        "    cm = cm.astype('float') / cm.sum(axis=1)[:, np.newaxis]\n",
        "\n",
        "    plt.imshow(cm, interpolation='nearest', cmap=cmap)\n",
        "    plt.title(title, fontsize=30)\n",
        "    plt.colorbar()\n",
        "    tick_marks = np.arange(len(classes))\n",
        "    plt.xticks(tick_marks, classes, rotation=90, fontsize=22)\n",
        "    plt.yticks(tick_marks, classes, fontsize=22)\n",
        "\n",
        "    fmt = '.2f'\n",
        "    thresh = cm.max() / 2.\n",
        "    for i, j in itertools.product(range(cm.shape[0]), range(cm.shape[1])):\n",
        "        plt.text(j, i, format(cm[i, j], fmt),\n",
        "                 horizontalalignment=\"center\",\n",
        "                 color=\"white\" if cm[i, j] > thresh else \"black\")\n",
        "\n",
        "    plt.ylabel('True label', fontsize=25)\n",
        "    plt.xlabel('Predicted label', fontsize=25)"
      ]
    },
    {
      "cell_type": "code",
      "execution_count": null,
      "metadata": {
        "colab": {
          "base_uri": "https://localhost:8080/",
          "height": 606
        },
        "id": "xaVpFqAXmT4q",
        "outputId": "a835e2d1-87fb-4c5a-bc4c-cfa9135538fb"
      },
      "outputs": [
        {
          "output_type": "display_data",
          "data": {
            "text/plain": [
              "<Figure size 576x576 with 2 Axes>"
            ],
            "image/png": "[encoded data removed]"
          },
          "metadata": {
            "needs_background": "light"
          }
        },
        {
          "output_type": "stream",
          "name": "stdout",
          "text": [
            "CPU times: user 592 ms, sys: 0 ns, total: 592 ms\n",
            "Wall time: 728 ms\n"
          ]
        }
      ],
      "source": [
        "%%time\n",
        "\n",
        "cnf_matrix = confusion_matrix(y_test_1d, y_pred_1d)\n",
        "plt.figure(figsize=(8,8))\n",
        "plot_confusion_matrix(cnf_matrix, classes=df_train.target.unique(), title=\"Confusion matrix\")\n",
        "plt.show()"
      ]
    },
    {
      "cell_type": "markdown",
      "metadata": {
        "id": "7niqSxhemT4q"
      },
      "source": [
        "### Classification Report"
      ]
    },
    {
      "cell_type": "code",
      "execution_count": null,
      "metadata": {
        "colab": {
          "base_uri": "https://localhost:8080/"
        },
        "id": "M6QOwX4rmT4q",
        "outputId": "4545a292-0cd8-4b68-adfe-18879e104a26"
      },
      "outputs": [
        {
          "output_type": "stream",
          "name": "stdout",
          "text": [
            "              precision    recall  f1-score   support\n",
            "\n",
            "    NEGATIVE       0.79      0.79      0.79     19921\n",
            "    POSITIVE       0.79      0.79      0.79     20079\n",
            "\n",
            "    accuracy                           0.79     40000\n",
            "   macro avg       0.79      0.79      0.79     40000\n",
            "weighted avg       0.79      0.79      0.79     40000\n",
            "\n"
          ]
        }
      ],
      "source": [
        "print(classification_report(y_test_1d, y_pred_1d))"
      ]
    },
    {
      "cell_type": "markdown",
      "metadata": {
        "id": "7-dVlsYKmT4q"
      },
      "source": [
        "### Accuracy Score"
      ]
    },
    {
      "cell_type": "code",
      "execution_count": null,
      "metadata": {
        "colab": {
          "base_uri": "https://localhost:8080/"
        },
        "id": "e9Llr94mmT4q",
        "outputId": "d4d586d8-7763-4142-c38e-bc0c057f7655"
      },
      "outputs": [
        {
          "output_type": "execute_result",
          "data": {
            "text/plain": [
              "0.7895"
            ]
          },
          "metadata": {},
          "execution_count": 82
        }
      ],
      "source": [
        "accuracy_score(y_test_1d, y_pred_1d)"
      ]
    },
    {
      "cell_type": "markdown",
      "source": [
        "AUC\n"
      ],
      "metadata": {
        "id": "56hPaoMzVq5m"
      }
    },
    {
      "cell_type": "code",
      "source": [
        "\n",
        "y_pred_1d = []\n",
        "y_test_1d = list(df_test.target)\n",
        "scores = model.predict(x_test, verbose=1, batch_size=8000)\n",
        "y_pred_1d = [decode_sentiment(score, include_neutral=False) for score in scores]\n"
      ],
      "metadata": {
        "colab": {
          "base_uri": "https://localhost:8080/"
        },
        "id": "cNOUFsrGhLD9",
        "outputId": "fa6e31c8-f8c2-400b-ef64-715f0166bb84"
      },
      "execution_count": null,
      "outputs": [
        {
          "output_type": "stream",
          "name": "stdout",
          "text": [
            "5/5 [==============================] - 6s 1s/step\n"
          ]
        }
      ]
    },
    {
      "cell_type": "code",
      "source": [
        "y_pred2 = model.predict(x_test)\n",
        "# y_test_1d, y_pred_1d\n",
        "\n",
        "fpr1l, tpr1l, thresh1l = roc_curve(y_test, y_pred2, pos_label=1)\n",
        "random_probs = [0 for i in range(len(y_test))]\n",
        "p_fpr, p_tpr, _ = roc_curve(y_test, random_probs, pos_label=1)\n",
        "plt.plot(fpr1l, tpr1l, linestyle='-',color='blue', label='LSTM')\n",
        "plt.title('ROC curve')\n",
        "# x label\n",
        "plt.xlabel('False Positive Rate')\n",
        "# y label\n",
        "plt.ylabel('True Positive rate')\n",
        "\n",
        "plt.legend(loc='best')\n",
        "plt.savefig('ROC',dpi=300)\n",
        "plt.show();\n"
      ],
      "metadata": {
        "colab": {
          "base_uri": "https://localhost:8080/",
          "height": 295
        },
        "id": "9_S_S3Q8VqkM",
        "outputId": "514f0c99-0a13-434c-ac12-789e837dab6c"
      },
      "execution_count": null,
      "outputs": [
        {
          "output_type": "display_data",
          "data": {
            "text/plain": [
              "<Figure size 432x288 with 1 Axes>"
            ],
            "image/png": "[encoded data removed]"
          },
          "metadata": {
            "needs_background": "light"
          }
        }
      ]
    },
    {
      "cell_type": "code",
      "source": [
        "auc_score1l = roc_auc_score(y_test, y_pred2)\n",
        "\n",
        "auc_score1l"
      ],
      "metadata": {
        "colab": {
          "base_uri": "https://localhost:8080/"
        },
        "id": "sVJRIc1Ih4z1",
        "outputId": "49230916-8d17-4c72-dc30-c9c60c832699"
      },
      "execution_count": null,
      "outputs": [
        {
          "output_type": "execute_result",
          "data": {
            "text/plain": [
              "0.8696418110863575"
            ]
          },
          "metadata": {},
          "execution_count": 39
        }
      ]
    },
    {
      "cell_type": "markdown",
      "metadata": {
        "id": "0pglXKCImT4q"
      },
      "source": [
        "### Save model"
      ]
    },
    {
      "cell_type": "code",
      "execution_count": null,
      "metadata": {
        "colab": {
          "base_uri": "https://localhost:8080/"
        },
        "id": "rCUqFlRAmT4r",
        "outputId": "eeac4dba-091e-4057-d28b-d93fb898cdd2"
      },
      "outputs": [
        {
          "output_type": "stream",
          "name": "stderr",
          "text": [
            "2022-04-15 21:52:19,944 : INFO : saving Word2Vec object under model.w2v, separately None\n",
            "2022-04-15 21:52:19,946 : INFO : not storing attribute vectors_norm\n",
            "2022-04-15 21:52:19,952 : INFO : not storing attribute cum_table\n",
            "2022-04-15 21:52:20,247 : INFO : saved model.w2v\n"
          ]
        }
      ],
      "source": [
        "model.save(KERAS_MODEL)\n",
        "w2v_model.save(WORD2VEC_MODEL)\n",
        "pickle.dump(tokenizer, open(TOKENIZER_MODEL, \"wb\"), protocol=0)\n",
        "pickle.dump(encoder, open(ENCODER_MODEL, \"wb\"), protocol=0)"
      ]
    }
  ],
  "metadata": {
    "accelerator": "GPU",
    "colab": {
      "collapsed_sections": [],
      "name": "LSTM200K_Sentiment_Analysis.ipynb",
      "provenance": []
    },
    "kernelspec": {
      "display_name": "Python 3",
      "name": "python3"
    },
    "language_info": {
      "name": "python"
    }
  },
  "nbformat": 4,
  "nbformat_minor": 0
}