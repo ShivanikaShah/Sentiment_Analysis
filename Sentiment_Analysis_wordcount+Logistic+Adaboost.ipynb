{
  "nbformat": 4,
  "nbformat_minor": 0,
  "metadata": {
    "colab": {
      "name": "Sentiment Analysis_wordcount+Logistic+Adaboost.ipynb",
      "provenance": [],
      "collapsed_sections": []
    },
    "kernelspec": {
      "name": "python3",
      "display_name": "Python 3"
    },
    "language_info": {
      "name": "python"
    },
    "accelerator": "GPU"
  },
  "cells": [
    {
      "cell_type": "code",
      "execution_count": null,
      "metadata": {
        "id": "YGPKyQjs3NSI",
        "colab": {
          "base_uri": "https://localhost:8080/"
        },
        "outputId": "3f09a541-4160-4db8-c556-47e4a2463714"
      },
      "outputs": [
        {
          "output_type": "stream",
          "name": "stdout",
          "text": [
            "Requirement already satisfied: gensim in /usr/local/lib/python3.7/dist-packages (4.2.0)\n",
            "Requirement already satisfied: numpy>=1.17.0 in /usr/local/lib/python3.7/dist-packages (from gensim) (1.21.6)\n",
            "Requirement already satisfied: smart-open>=1.8.1 in /usr/local/lib/python3.7/dist-packages (from gensim) (6.0.0)\n",
            "Requirement already satisfied: scipy>=0.18.1 in /usr/local/lib/python3.7/dist-packages (from gensim) (1.4.1)\n",
            "Requirement already satisfied: keras in /usr/local/lib/python3.7/dist-packages (2.8.0)\n",
            "Requirement already satisfied: pandas in /usr/local/lib/python3.7/dist-packages (1.3.5)\n",
            "Requirement already satisfied: numpy>=1.17.3 in /usr/local/lib/python3.7/dist-packages (from pandas) (1.21.6)\n",
            "Requirement already satisfied: pytz>=2017.3 in /usr/local/lib/python3.7/dist-packages (from pandas) (2022.1)\n",
            "Requirement already satisfied: python-dateutil>=2.7.3 in /usr/local/lib/python3.7/dist-packages (from pandas) (2.8.2)\n",
            "Requirement already satisfied: six>=1.5 in /usr/local/lib/python3.7/dist-packages (from python-dateutil>=2.7.3->pandas) (1.15.0)\n"
          ]
        }
      ],
      "source": [
        "!pip install gensim --upgrade\n",
        "!pip install keras --upgrade\n",
        "!pip install pandas --upgrade"
      ]
    },
    {
      "cell_type": "markdown",
      "source": [
        "## Importing Dependencies"
      ],
      "metadata": {
        "id": "vfgCiGRwSanq"
      }
    },
    {
      "cell_type": "code",
      "source": [
        "# DataFrame\n",
        "import pandas as pd\n",
        "\n",
        "# Matplot\n",
        "import matplotlib.pyplot as plt\n",
        "%matplotlib inline\n",
        "\n",
        "# Scikit-learn\n",
        "from sklearn.model_selection import train_test_split\n",
        "from sklearn.preprocessing import LabelEncoder\n",
        "from sklearn.metrics import confusion_matrix, classification_report, accuracy_score,f1_score,roc_auc_score,roc_curve\n",
        "from sklearn.manifold import TSNE\n",
        "from sklearn.feature_extraction.text import TfidfVectorizer\n",
        "\n",
        "#from sklearn.metrics import confusion_matrix, accuracy_score\n",
        "from sklearn.model_selection import GridSearchCV\n",
        "from sklearn.metrics import precision_recall_curve\n",
        "from sklearn.metrics import f1_score\n",
        "from sklearn.metrics import auc\n",
        "from matplotlib import pyplot\n",
        "from sklearn.metrics import roc_curve\n",
        "#from sklearn.metrics import roc_auc_score, accuracy_score\n",
        "\n",
        "# nltk\n",
        "import nltk\n",
        "from nltk.corpus import stopwords\n",
        "\n",
        "# Word2vec\n",
        "import gensim\n",
        "\n",
        "# Ensemble models\n",
        "from sklearn.ensemble import AdaBoostClassifier\n",
        "from sklearn.tree import DecisionTreeClassifier\n",
        "from sklearn.linear_model import LogisticRegressionCV\n",
        "from sklearn.model_selection import cross_val_score\n",
        "\n",
        "\n",
        "# Utility\n",
        "import re\n",
        "import numpy as np\n",
        "import os\n",
        "from collections import Counter\n",
        "import logging\n",
        "import time\n",
        "import pickle\n",
        "import itertools\n",
        "import seaborn as sns\n",
        "import matplotlib.pyplot as plt\n",
        "\n",
        "\n",
        "# Set log\n",
        "logging.basicConfig(format='%(asctime)s : %(levelname)s : %(message)s', level=logging.INFO)\n"
      ],
      "metadata": {
        "id": "t5E1_po-SCog"
      },
      "execution_count": null,
      "outputs": []
    },
    {
      "cell_type": "markdown",
      "source": [
        "## Importing Stopwords"
      ],
      "metadata": {
        "id": "y46eIuuESjAi"
      }
    },
    {
      "cell_type": "code",
      "source": [
        "nltk.download('stopwords')\n"
      ],
      "metadata": {
        "colab": {
          "base_uri": "https://localhost:8080/"
        },
        "id": "0Cb11sk_ScIw",
        "outputId": "50f98e47-d2bf-46c4-9aa3-858fa6cc4758"
      },
      "execution_count": null,
      "outputs": [
        {
          "output_type": "stream",
          "name": "stdout",
          "text": [
            "[nltk_data] Downloading package stopwords to /root/nltk_data...\n",
            "[nltk_data]   Package stopwords is already up-to-date!\n"
          ]
        },
        {
          "output_type": "execute_result",
          "data": {
            "text/plain": [
              "True"
            ]
          },
          "metadata": {},
          "execution_count": 8
        }
      ]
    },
    {
      "cell_type": "markdown",
      "source": [
        "## Settings"
      ],
      "metadata": {
        "id": "asorqatXUadS"
      }
    },
    {
      "cell_type": "code",
      "source": [
        "# DATASET\n",
        "DATASET_COLUMNS = [\"target\", \"ids\", \"date\", \"flag\", \"user\", \"text\"]\n",
        "DATASET_ENCODING = \"ISO-8859-1\"\n",
        "\n",
        "# TEXT CLEANING\n",
        "TEXT_CLEANING_RE = \"@\\S+|https?:\\S+|http?:\\S|[^A-Za-z0-9]+\"\n",
        "\n",
        "\n",
        "# SENTIMENT\n",
        "POSITIVE = \"POSITIVE\"\n",
        "NEGATIVE = \"NEGATIVE\"\n",
        "NEUTRAL = \"NEUTRAL\"\n",
        "\n"
      ],
      "metadata": {
        "id": "ICCWvSj0SiYY"
      },
      "execution_count": null,
      "outputs": []
    },
    {
      "cell_type": "code",
      "source": [
        "from google.colab import drive\n",
        "drive.mount('/content/drive')"
      ],
      "metadata": {
        "colab": {
          "base_uri": "https://localhost:8080/"
        },
        "id": "gnC3DKOFKqaK",
        "outputId": "273539fb-be5c-4026-da3f-7f2beebb1425"
      },
      "execution_count": null,
      "outputs": [
        {
          "output_type": "stream",
          "name": "stdout",
          "text": [
            "Mounted at /content/drive\n"
          ]
        }
      ]
    },
    {
      "cell_type": "markdown",
      "source": [
        "## Open and Read Dataset. Make sure to include correct pathname"
      ],
      "metadata": {
        "id": "ZFOABgxD4elk"
      }
    },
    {
      "cell_type": "code",
      "source": [
        "\n",
        "dataset_path = \"/content/drive/MyDrive/AI2-Final Project/training.1600000.processed.noemoticon.csv\"\n",
        "print(\"Open file:\", dataset_path)\n",
        "df = pd.read_csv(dataset_path, encoding =DATASET_ENCODING , names=DATASET_COLUMNS)"
      ],
      "metadata": {
        "colab": {
          "base_uri": "https://localhost:8080/"
        },
        "id": "pHMlkNWYUcVL",
        "outputId": "bfb473bb-112b-4507-b19d-982f9cf2085d"
      },
      "execution_count": null,
      "outputs": [
        {
          "output_type": "stream",
          "name": "stdout",
          "text": [
            "Open file: /content/drive/MyDrive/AI2-Final Project/training.1600000.processed.noemoticon.csv\n"
          ]
        }
      ]
    },
    {
      "cell_type": "code",
      "source": [
        "df.shape"
      ],
      "metadata": {
        "colab": {
          "base_uri": "https://localhost:8080/"
        },
        "id": "RG664l49U6iX",
        "outputId": "421f2468-d7da-4202-b446-d6d8452bc95c"
      },
      "execution_count": null,
      "outputs": [
        {
          "output_type": "execute_result",
          "data": {
            "text/plain": [
              "(1600000, 6)"
            ]
          },
          "metadata": {},
          "execution_count": 12
        }
      ]
    },
    {
      "cell_type": "code",
      "source": [
        "df.head()"
      ],
      "metadata": {
        "id": "kyUCyLXbV8Wr",
        "colab": {
          "base_uri": "https://localhost:8080/",
          "height": 206
        },
        "outputId": "6b11abc4-81df-46b7-fbbf-f99e6625ea01"
      },
      "execution_count": null,
      "outputs": [
        {
          "output_type": "execute_result",
          "data": {
            "text/plain": [
              "   target         ids                          date      flag  \\\n",
              "0       0  1467810369  Mon Apr 06 22:19:45 PDT 2009  NO_QUERY   \n",
              "1       0  1467810672  Mon Apr 06 22:19:49 PDT 2009  NO_QUERY   \n",
              "2       0  1467810917  Mon Apr 06 22:19:53 PDT 2009  NO_QUERY   \n",
              "3       0  1467811184  Mon Apr 06 22:19:57 PDT 2009  NO_QUERY   \n",
              "4       0  1467811193  Mon Apr 06 22:19:57 PDT 2009  NO_QUERY   \n",
              "\n",
              "              user                                               text  \n",
              "0  _TheSpecialOne_  @switchfoot http://twitpic.com/2y1zl - Awww, t...  \n",
              "1    scotthamilton  is upset that he can't update his Facebook by ...  \n",
              "2         mattycus  @Kenichan I dived many times for the ball. Man...  \n",
              "3          ElleCTF    my whole body feels itchy and like its on fire   \n",
              "4           Karoli  @nationwideclass no, it's not behaving at all....  "
            ],
            "text/html": [
              "\n",
              "  <div id=\"df-faa6e50e-cc4b-4b80-be8d-0bbd194e88aa\">\n",
              "    <div class=\"colab-df-container\">\n",
              "      <div>\n",
              "<style scoped>\n",
              "    .dataframe tbody tr th:only-of-type {\n",
              "        vertical-align: middle;\n",
              "    }\n",
              "\n",
              "    .dataframe tbody tr th {\n",
              "        vertical-align: top;\n",
              "    }\n",
              "\n",
              "    .dataframe thead th {\n",
              "        text-align: right;\n",
              "    }\n",
              "</style>\n",
              "<table border=\"1\" class=\"dataframe\">\n",
              "  <thead>\n",
              "    <tr style=\"text-align: right;\">\n",
              "      <th></th>\n",
              "      <th>target</th>\n",
              "      <th>ids</th>\n",
              "      <th>date</th>\n",
              "      <th>flag</th>\n",
              "      <th>user</th>\n",
              "      <th>text</th>\n",
              "    </tr>\n",
              "  </thead>\n",
              "  <tbody>\n",
              "    <tr>\n",
              "      <th>0</th>\n",
              "      <td>0</td>\n",
              "      <td>1467810369</td>\n",
              "      <td>Mon Apr 06 22:19:45 PDT 2009</td>\n",
              "      <td>NO_QUERY</td>\n",
              "      <td>_TheSpecialOne_</td>\n",
              "      <td>@switchfoot http://twitpic.com/2y1zl - Awww, t...</td>\n",
              "    </tr>\n",
              "    <tr>\n",
              "      <th>1</th>\n",
              "      <td>0</td>\n",
              "      <td>1467810672</td>\n",
              "      <td>Mon Apr 06 22:19:49 PDT 2009</td>\n",
              "      <td>NO_QUERY</td>\n",
              "      <td>scotthamilton</td>\n",
              "      <td>is upset that he can't update his Facebook by ...</td>\n",
              "    </tr>\n",
              "    <tr>\n",
              "      <th>2</th>\n",
              "      <td>0</td>\n",
              "      <td>1467810917</td>\n",
              "      <td>Mon Apr 06 22:19:53 PDT 2009</td>\n",
              "      <td>NO_QUERY</td>\n",
              "      <td>mattycus</td>\n",
              "      <td>@Kenichan I dived many times for the ball. Man...</td>\n",
              "    </tr>\n",
              "    <tr>\n",
              "      <th>3</th>\n",
              "      <td>0</td>\n",
              "      <td>1467811184</td>\n",
              "      <td>Mon Apr 06 22:19:57 PDT 2009</td>\n",
              "      <td>NO_QUERY</td>\n",
              "      <td>ElleCTF</td>\n",
              "      <td>my whole body feels itchy and like its on fire</td>\n",
              "    </tr>\n",
              "    <tr>\n",
              "      <th>4</th>\n",
              "      <td>0</td>\n",
              "      <td>1467811193</td>\n",
              "      <td>Mon Apr 06 22:19:57 PDT 2009</td>\n",
              "      <td>NO_QUERY</td>\n",
              "      <td>Karoli</td>\n",
              "      <td>@nationwideclass no, it's not behaving at all....</td>\n",
              "    </tr>\n",
              "  </tbody>\n",
              "</table>\n",
              "</div>\n",
              "      <button class=\"colab-df-convert\" onclick=\"convertToInteractive('df-faa6e50e-cc4b-4b80-be8d-0bbd194e88aa')\"\n",
              "              title=\"Convert this dataframe to an interactive table.\"\n",
              "              style=\"display:none;\">\n",
              "        \n",
              "  <svg xmlns=\"http://www.w3.org/2000/svg\" height=\"24px\"viewBox=\"0 0 24 24\"\n",
              "       width=\"24px\">\n",
              "    <path d=\"M0 0h24v24H0V0z\" fill=\"none\"/>\n",
              "    <path d=\"M18.56 5.44l.94 2.06.94-2.06 2.06-.94-2.06-.94-.94-2.06-.94 2.06-2.06.94zm-11 1L8.5 8.5l.94-2.06 2.06-.94-2.06-.94L8.5 2.5l-.94 2.06-2.06.94zm10 10l.94 2.06.94-2.06 2.06-.94-2.06-.94-.94-2.06-.94 2.06-2.06.94z\"/><path d=\"M17.41 7.96l-1.37-1.37c-.4-.4-.92-.59-1.43-.59-.52 0-1.04.2-1.43.59L10.3 9.45l-7.72 7.72c-.78.78-.78 2.05 0 2.83L4 21.41c.39.39.9.59 1.41.59.51 0 1.02-.2 1.41-.59l7.78-7.78 2.81-2.81c.8-.78.8-2.07 0-2.86zM5.41 20L4 18.59l7.72-7.72 1.47 1.35L5.41 20z\"/>\n",
              "  </svg>\n",
              "      </button>\n",
              "      \n",
              "  <style>\n",
              "    .colab-df-container {\n",
              "      display:flex;\n",
              "      flex-wrap:wrap;\n",
              "      gap: 12px;\n",
              "    }\n",
              "\n",
              "    .colab-df-convert {\n",
              "      background-color: #E8F0FE;\n",
              "      border: none;\n",
              "      border-radius: 50%;\n",
              "      cursor: pointer;\n",
              "      display: none;\n",
              "      fill: #1967D2;\n",
              "      height: 32px;\n",
              "      padding: 0 0 0 0;\n",
              "      width: 32px;\n",
              "    }\n",
              "\n",
              "    .colab-df-convert:hover {\n",
              "      background-color: #E2EBFA;\n",
              "      box-shadow: 0px 1px 2px rgba(60, 64, 67, 0.3), 0px 1px 3px 1px rgba(60, 64, 67, 0.15);\n",
              "      fill: #174EA6;\n",
              "    }\n",
              "\n",
              "    [theme=dark] .colab-df-convert {\n",
              "      background-color: #3B4455;\n",
              "      fill: #D2E3FC;\n",
              "    }\n",
              "\n",
              "    [theme=dark] .colab-df-convert:hover {\n",
              "      background-color: #434B5C;\n",
              "      box-shadow: 0px 1px 3px 1px rgba(0, 0, 0, 0.15);\n",
              "      filter: drop-shadow(0px 1px 2px rgba(0, 0, 0, 0.3));\n",
              "      fill: #FFFFFF;\n",
              "    }\n",
              "  </style>\n",
              "\n",
              "      <script>\n",
              "        const buttonEl =\n",
              "          document.querySelector('#df-faa6e50e-cc4b-4b80-be8d-0bbd194e88aa button.colab-df-convert');\n",
              "        buttonEl.style.display =\n",
              "          google.colab.kernel.accessAllowed ? 'block' : 'none';\n",
              "\n",
              "        async function convertToInteractive(key) {\n",
              "          const element = document.querySelector('#df-faa6e50e-cc4b-4b80-be8d-0bbd194e88aa');\n",
              "          const dataTable =\n",
              "            await google.colab.kernel.invokeFunction('convertToInteractive',\n",
              "                                                     [key], {});\n",
              "          if (!dataTable) return;\n",
              "\n",
              "          const docLinkHtml = 'Like what you see? Visit the ' +\n",
              "            '<a target=\"_blank\" href=https://colab.research.google.com/notebooks/data_table.ipynb>data table notebook</a>'\n",
              "            + ' to learn more about interactive tables.';\n",
              "          element.innerHTML = '';\n",
              "          dataTable['output_type'] = 'display_data';\n",
              "          await google.colab.output.renderOutput(dataTable, element);\n",
              "          const docLink = document.createElement('div');\n",
              "          docLink.innerHTML = docLinkHtml;\n",
              "          element.appendChild(docLink);\n",
              "        }\n",
              "      </script>\n",
              "    </div>\n",
              "  </div>\n",
              "  "
            ]
          },
          "metadata": {},
          "execution_count": 13
        }
      ]
    },
    {
      "cell_type": "markdown",
      "source": [
        "\n",
        "##Extracting a subset from the main dataset due to space constraint"
      ],
      "metadata": {
        "id": "apHHZgPRvAn4"
      }
    },
    {
      "cell_type": "code",
      "source": [
        "from sklearn.model_selection import train_test_split\n",
        "x_train, df2, y_train, df3 = train_test_split(df.iloc[:,1:], df.iloc[:,0:1], test_size=0.125, random_state=19, stratify=df['target'])\n",
        "df1 = pd.concat([df3, df2], axis = 1)"
      ],
      "metadata": {
        "id": "gP0X63_uNSdB"
      },
      "execution_count": null,
      "outputs": []
    },
    {
      "cell_type": "code",
      "source": [
        "df1.shape"
      ],
      "metadata": {
        "colab": {
          "base_uri": "https://localhost:8080/"
        },
        "id": "0Tu6ThMX8dS-",
        "outputId": "7c1b3b0c-a31f-4a3c-b2b2-18fcc2cc95da"
      },
      "execution_count": null,
      "outputs": [
        {
          "output_type": "execute_result",
          "data": {
            "text/plain": [
              "(200000, 6)"
            ]
          },
          "metadata": {},
          "execution_count": 15
        }
      ]
    },
    {
      "cell_type": "markdown",
      "source": [
        "# Map Label to String"
      ],
      "metadata": {
        "id": "DnTlza-t4Tmv"
      }
    },
    {
      "cell_type": "code",
      "source": [
        "decode_map = {0: \"NEGATIVE\", 2: \"NEUTRAL\", 4: \"POSITIVE\"}\n",
        "def decode_sentiment(label):\n",
        "    return decode_map[int(label)]"
      ],
      "metadata": {
        "id": "b6gUmeHj4S6S"
      },
      "execution_count": null,
      "outputs": []
    },
    {
      "cell_type": "code",
      "source": [
        "%%time\n",
        "df1.target = df1.target.apply(lambda x: decode_sentiment(x))"
      ],
      "metadata": {
        "id": "xft4Peky4hiS",
        "colab": {
          "base_uri": "https://localhost:8080/"
        },
        "outputId": "2cbf87e6-61a1-4881-f5e2-86e735d1c403"
      },
      "execution_count": null,
      "outputs": [
        {
          "output_type": "stream",
          "name": "stdout",
          "text": [
            "CPU times: user 67.1 ms, sys: 0 ns, total: 67.1 ms\n",
            "Wall time: 67.9 ms\n"
          ]
        }
      ]
    },
    {
      "cell_type": "code",
      "source": [
        "df1.head()"
      ],
      "metadata": {
        "colab": {
          "base_uri": "https://localhost:8080/",
          "height": 206
        },
        "id": "m3q1EwaaLVaF",
        "outputId": "0da1af32-3ad6-4614-de6e-d0382039b3ff"
      },
      "execution_count": null,
      "outputs": [
        {
          "output_type": "execute_result",
          "data": {
            "text/plain": [
              "           target         ids                          date      flag  \\\n",
              "513467   NEGATIVE  2190392801  Tue Jun 16 02:35:58 PDT 2009  NO_QUERY   \n",
              "317873   NEGATIVE  2002701375  Tue Jun 02 04:56:34 PDT 2009  NO_QUERY   \n",
              "1106322  POSITIVE  1971410827  Sat May 30 07:02:48 PDT 2009  NO_QUERY   \n",
              "430836   NEGATIVE  2064416725  Sun Jun 07 06:12:25 PDT 2009  NO_QUERY   \n",
              "1211267  POSITIVE  1989134863  Mon Jun 01 00:27:37 PDT 2009  NO_QUERY   \n",
              "\n",
              "                   user                                               text  \n",
              "513467      ericaaviles  Yay for Jon and Kate + 8! boo for having to wo...  \n",
              "317873        janine_j9  @TimothyH2O sorry about last night I would hav...  \n",
              "1106322  CandisDanielle  Good Morning my Twitter Loves.....Have a wonde...  \n",
              "430836        Portiaism  @jamesheart24 I am great.. 'Revising' for my l...  \n",
              "1211267       fadedmoon  @AmyyVee wehehehehe sorry.... :| ) So whats new?   "
            ],
            "text/html": [
              "\n",
              "  <div id=\"df-ba824446-e492-4111-8937-ccd9d162222a\">\n",
              "    <div class=\"colab-df-container\">\n",
              "      <div>\n",
              "<style scoped>\n",
              "    .dataframe tbody tr th:only-of-type {\n",
              "        vertical-align: middle;\n",
              "    }\n",
              "\n",
              "    .dataframe tbody tr th {\n",
              "        vertical-align: top;\n",
              "    }\n",
              "\n",
              "    .dataframe thead th {\n",
              "        text-align: right;\n",
              "    }\n",
              "</style>\n",
              "<table border=\"1\" class=\"dataframe\">\n",
              "  <thead>\n",
              "    <tr style=\"text-align: right;\">\n",
              "      <th></th>\n",
              "      <th>target</th>\n",
              "      <th>ids</th>\n",
              "      <th>date</th>\n",
              "      <th>flag</th>\n",
              "      <th>user</th>\n",
              "      <th>text</th>\n",
              "    </tr>\n",
              "  </thead>\n",
              "  <tbody>\n",
              "    <tr>\n",
              "      <th>513467</th>\n",
              "      <td>NEGATIVE</td>\n",
              "      <td>2190392801</td>\n",
              "      <td>Tue Jun 16 02:35:58 PDT 2009</td>\n",
              "      <td>NO_QUERY</td>\n",
              "      <td>ericaaviles</td>\n",
              "      <td>Yay for Jon and Kate + 8! boo for having to wo...</td>\n",
              "    </tr>\n",
              "    <tr>\n",
              "      <th>317873</th>\n",
              "      <td>NEGATIVE</td>\n",
              "      <td>2002701375</td>\n",
              "      <td>Tue Jun 02 04:56:34 PDT 2009</td>\n",
              "      <td>NO_QUERY</td>\n",
              "      <td>janine_j9</td>\n",
              "      <td>@TimothyH2O sorry about last night I would hav...</td>\n",
              "    </tr>\n",
              "    <tr>\n",
              "      <th>1106322</th>\n",
              "      <td>POSITIVE</td>\n",
              "      <td>1971410827</td>\n",
              "      <td>Sat May 30 07:02:48 PDT 2009</td>\n",
              "      <td>NO_QUERY</td>\n",
              "      <td>CandisDanielle</td>\n",
              "      <td>Good Morning my Twitter Loves.....Have a wonde...</td>\n",
              "    </tr>\n",
              "    <tr>\n",
              "      <th>430836</th>\n",
              "      <td>NEGATIVE</td>\n",
              "      <td>2064416725</td>\n",
              "      <td>Sun Jun 07 06:12:25 PDT 2009</td>\n",
              "      <td>NO_QUERY</td>\n",
              "      <td>Portiaism</td>\n",
              "      <td>@jamesheart24 I am great.. 'Revising' for my l...</td>\n",
              "    </tr>\n",
              "    <tr>\n",
              "      <th>1211267</th>\n",
              "      <td>POSITIVE</td>\n",
              "      <td>1989134863</td>\n",
              "      <td>Mon Jun 01 00:27:37 PDT 2009</td>\n",
              "      <td>NO_QUERY</td>\n",
              "      <td>fadedmoon</td>\n",
              "      <td>@AmyyVee wehehehehe sorry.... :| ) So whats new?</td>\n",
              "    </tr>\n",
              "  </tbody>\n",
              "</table>\n",
              "</div>\n",
              "      <button class=\"colab-df-convert\" onclick=\"convertToInteractive('df-ba824446-e492-4111-8937-ccd9d162222a')\"\n",
              "              title=\"Convert this dataframe to an interactive table.\"\n",
              "              style=\"display:none;\">\n",
              "        \n",
              "  <svg xmlns=\"http://www.w3.org/2000/svg\" height=\"24px\"viewBox=\"0 0 24 24\"\n",
              "       width=\"24px\">\n",
              "    <path d=\"M0 0h24v24H0V0z\" fill=\"none\"/>\n",
              "    <path d=\"M18.56 5.44l.94 2.06.94-2.06 2.06-.94-2.06-.94-.94-2.06-.94 2.06-2.06.94zm-11 1L8.5 8.5l.94-2.06 2.06-.94-2.06-.94L8.5 2.5l-.94 2.06-2.06.94zm10 10l.94 2.06.94-2.06 2.06-.94-2.06-.94-.94-2.06-.94 2.06-2.06.94z\"/><path d=\"M17.41 7.96l-1.37-1.37c-.4-.4-.92-.59-1.43-.59-.52 0-1.04.2-1.43.59L10.3 9.45l-7.72 7.72c-.78.78-.78 2.05 0 2.83L4 21.41c.39.39.9.59 1.41.59.51 0 1.02-.2 1.41-.59l7.78-7.78 2.81-2.81c.8-.78.8-2.07 0-2.86zM5.41 20L4 18.59l7.72-7.72 1.47 1.35L5.41 20z\"/>\n",
              "  </svg>\n",
              "      </button>\n",
              "      \n",
              "  <style>\n",
              "    .colab-df-container {\n",
              "      display:flex;\n",
              "      flex-wrap:wrap;\n",
              "      gap: 12px;\n",
              "    }\n",
              "\n",
              "    .colab-df-convert {\n",
              "      background-color: #E8F0FE;\n",
              "      border: none;\n",
              "      border-radius: 50%;\n",
              "      cursor: pointer;\n",
              "      display: none;\n",
              "      fill: #1967D2;\n",
              "      height: 32px;\n",
              "      padding: 0 0 0 0;\n",
              "      width: 32px;\n",
              "    }\n",
              "\n",
              "    .colab-df-convert:hover {\n",
              "      background-color: #E2EBFA;\n",
              "      box-shadow: 0px 1px 2px rgba(60, 64, 67, 0.3), 0px 1px 3px 1px rgba(60, 64, 67, 0.15);\n",
              "      fill: #174EA6;\n",
              "    }\n",
              "\n",
              "    [theme=dark] .colab-df-convert {\n",
              "      background-color: #3B4455;\n",
              "      fill: #D2E3FC;\n",
              "    }\n",
              "\n",
              "    [theme=dark] .colab-df-convert:hover {\n",
              "      background-color: #434B5C;\n",
              "      box-shadow: 0px 1px 3px 1px rgba(0, 0, 0, 0.15);\n",
              "      filter: drop-shadow(0px 1px 2px rgba(0, 0, 0, 0.3));\n",
              "      fill: #FFFFFF;\n",
              "    }\n",
              "  </style>\n",
              "\n",
              "      <script>\n",
              "        const buttonEl =\n",
              "          document.querySelector('#df-ba824446-e492-4111-8937-ccd9d162222a button.colab-df-convert');\n",
              "        buttonEl.style.display =\n",
              "          google.colab.kernel.accessAllowed ? 'block' : 'none';\n",
              "\n",
              "        async function convertToInteractive(key) {\n",
              "          const element = document.querySelector('#df-ba824446-e492-4111-8937-ccd9d162222a');\n",
              "          const dataTable =\n",
              "            await google.colab.kernel.invokeFunction('convertToInteractive',\n",
              "                                                     [key], {});\n",
              "          if (!dataTable) return;\n",
              "\n",
              "          const docLinkHtml = 'Like what you see? Visit the ' +\n",
              "            '<a target=\"_blank\" href=https://colab.research.google.com/notebooks/data_table.ipynb>data table notebook</a>'\n",
              "            + ' to learn more about interactive tables.';\n",
              "          element.innerHTML = '';\n",
              "          dataTable['output_type'] = 'display_data';\n",
              "          await google.colab.output.renderOutput(dataTable, element);\n",
              "          const docLink = document.createElement('div');\n",
              "          docLink.innerHTML = docLinkHtml;\n",
              "          element.appendChild(docLink);\n",
              "        }\n",
              "      </script>\n",
              "    </div>\n",
              "  </div>\n",
              "  "
            ]
          },
          "metadata": {},
          "execution_count": 18
        }
      ]
    },
    {
      "cell_type": "markdown",
      "source": [
        "## Check distribution of sentiments"
      ],
      "metadata": {
        "id": "N5PiszYw4qod"
      }
    },
    {
      "cell_type": "code",
      "source": [
        "target_cnt = Counter(df1.target)\n",
        "\n",
        "plt.figure(figsize=(16,8))\n",
        "plt.bar(target_cnt.keys(), target_cnt.values())\n",
        "plt.title(\"Dataset labels distribuition\")"
      ],
      "metadata": {
        "id": "mrRtkPzv4qF6",
        "colab": {
          "base_uri": "https://localhost:8080/",
          "height": 516
        },
        "outputId": "b32ca10e-e829-429a-cd1d-a07627ec6ae6"
      },
      "execution_count": null,
      "outputs": [
        {
          "output_type": "execute_result",
          "data": {
            "text/plain": [
              "Text(0.5, 1.0, 'Dataset labels distribuition')"
            ]
          },
          "metadata": {},
          "execution_count": 19
        },
        {
          "output_type": "display_data",
          "data": {
            "text/plain": [
              "<Figure size 1152x576 with 1 Axes>"
            ],
            "image/png": "[encoded data removed]"
          },
          "metadata": {
            "needs_background": "light"
          }
        }
      ]
    },
    {
      "cell_type": "markdown",
      "source": [
        "## Preprocessing the dataset"
      ],
      "metadata": {
        "id": "ORWXkIMa4y0E"
      }
    },
    {
      "cell_type": "code",
      "source": [
        "stop_words = stopwords.words(\"english\")\n",
        "stemmer = SnowballStemmer(\"english\")"
      ],
      "metadata": {
        "id": "stN7cmdj4yNh"
      },
      "execution_count": null,
      "outputs": []
    },
    {
      "cell_type": "markdown",
      "source": [
        "## Text Preprocessing"
      ],
      "metadata": {
        "id": "cHy9WYfwMUxP"
      }
    },
    {
      "cell_type": "markdown",
      "source": [
        "Lemmatizing"
      ],
      "metadata": {
        "id": "5JXdhqu2x2hW"
      }
    },
    {
      "cell_type": "code",
      "source": [
        "\n",
        "nltk.download('wordnet')\n",
        "from nltk.stem import WordNetLemmatizer\n",
        "lem = WordNetLemmatizer()\n",
        "def preprocess_lemma(text):\n",
        "    # Remove link,user and special characters\n",
        "    text = re.sub(TEXT_CLEANING_RE, ' ', str(text).lower()).strip()\n",
        "    tokens = []\n",
        "    for token in text.split():\n",
        "        if token not in stop_words:\n",
        "          tokens.append(lem.lemmatize(token))\n",
        "            \n",
        "    return \" \".join(tokens)"
      ],
      "metadata": {
        "id": "WcQ9iZC743DS",
        "colab": {
          "base_uri": "https://localhost:8080/"
        },
        "outputId": "4ebaa975-e656-44f0-ee21-f608cd7cec10"
      },
      "execution_count": null,
      "outputs": [
        {
          "output_type": "stream",
          "name": "stdout",
          "text": [
            "[nltk_data] Downloading package wordnet to /root/nltk_data...\n",
            "[nltk_data]   Unzipping corpora/wordnet.zip.\n"
          ]
        }
      ]
    },
    {
      "cell_type": "code",
      "source": [
        "df1.head()"
      ],
      "metadata": {
        "colab": {
          "base_uri": "https://localhost:8080/",
          "height": 206
        },
        "id": "BbB2BJgl-hQq",
        "outputId": "f57fdb6f-93f0-4c15-c608-83ea6542d056"
      },
      "execution_count": null,
      "outputs": [
        {
          "output_type": "execute_result",
          "data": {
            "text/plain": [
              "           target         ids                          date      flag  \\\n",
              "513467   NEGATIVE  2190392801  Tue Jun 16 02:35:58 PDT 2009  NO_QUERY   \n",
              "317873   NEGATIVE  2002701375  Tue Jun 02 04:56:34 PDT 2009  NO_QUERY   \n",
              "1106322  POSITIVE  1971410827  Sat May 30 07:02:48 PDT 2009  NO_QUERY   \n",
              "430836   NEGATIVE  2064416725  Sun Jun 07 06:12:25 PDT 2009  NO_QUERY   \n",
              "1211267  POSITIVE  1989134863  Mon Jun 01 00:27:37 PDT 2009  NO_QUERY   \n",
              "\n",
              "                   user                                               text  \n",
              "513467      ericaaviles  Yay for Jon and Kate + 8! boo for having to wo...  \n",
              "317873        janine_j9  @TimothyH2O sorry about last night I would hav...  \n",
              "1106322  CandisDanielle  Good Morning my Twitter Loves.....Have a wonde...  \n",
              "430836        Portiaism  @jamesheart24 I am great.. 'Revising' for my l...  \n",
              "1211267       fadedmoon  @AmyyVee wehehehehe sorry.... :| ) So whats new?   "
            ],
            "text/html": [
              "\n",
              "  <div id=\"df-417b4324-fb29-447f-8027-f26351a06f73\">\n",
              "    <div class=\"colab-df-container\">\n",
              "      <div>\n",
              "<style scoped>\n",
              "    .dataframe tbody tr th:only-of-type {\n",
              "        vertical-align: middle;\n",
              "    }\n",
              "\n",
              "    .dataframe tbody tr th {\n",
              "        vertical-align: top;\n",
              "    }\n",
              "\n",
              "    .dataframe thead th {\n",
              "        text-align: right;\n",
              "    }\n",
              "</style>\n",
              "<table border=\"1\" class=\"dataframe\">\n",
              "  <thead>\n",
              "    <tr style=\"text-align: right;\">\n",
              "      <th></th>\n",
              "      <th>target</th>\n",
              "      <th>ids</th>\n",
              "      <th>date</th>\n",
              "      <th>flag</th>\n",
              "      <th>user</th>\n",
              "      <th>text</th>\n",
              "    </tr>\n",
              "  </thead>\n",
              "  <tbody>\n",
              "    <tr>\n",
              "      <th>513467</th>\n",
              "      <td>NEGATIVE</td>\n",
              "      <td>2190392801</td>\n",
              "      <td>Tue Jun 16 02:35:58 PDT 2009</td>\n",
              "      <td>NO_QUERY</td>\n",
              "      <td>ericaaviles</td>\n",
              "      <td>Yay for Jon and Kate + 8! boo for having to wo...</td>\n",
              "    </tr>\n",
              "    <tr>\n",
              "      <th>317873</th>\n",
              "      <td>NEGATIVE</td>\n",
              "      <td>2002701375</td>\n",
              "      <td>Tue Jun 02 04:56:34 PDT 2009</td>\n",
              "      <td>NO_QUERY</td>\n",
              "      <td>janine_j9</td>\n",
              "      <td>@TimothyH2O sorry about last night I would hav...</td>\n",
              "    </tr>\n",
              "    <tr>\n",
              "      <th>1106322</th>\n",
              "      <td>POSITIVE</td>\n",
              "      <td>1971410827</td>\n",
              "      <td>Sat May 30 07:02:48 PDT 2009</td>\n",
              "      <td>NO_QUERY</td>\n",
              "      <td>CandisDanielle</td>\n",
              "      <td>Good Morning my Twitter Loves.....Have a wonde...</td>\n",
              "    </tr>\n",
              "    <tr>\n",
              "      <th>430836</th>\n",
              "      <td>NEGATIVE</td>\n",
              "      <td>2064416725</td>\n",
              "      <td>Sun Jun 07 06:12:25 PDT 2009</td>\n",
              "      <td>NO_QUERY</td>\n",
              "      <td>Portiaism</td>\n",
              "      <td>@jamesheart24 I am great.. 'Revising' for my l...</td>\n",
              "    </tr>\n",
              "    <tr>\n",
              "      <th>1211267</th>\n",
              "      <td>POSITIVE</td>\n",
              "      <td>1989134863</td>\n",
              "      <td>Mon Jun 01 00:27:37 PDT 2009</td>\n",
              "      <td>NO_QUERY</td>\n",
              "      <td>fadedmoon</td>\n",
              "      <td>@AmyyVee wehehehehe sorry.... :| ) So whats new?</td>\n",
              "    </tr>\n",
              "  </tbody>\n",
              "</table>\n",
              "</div>\n",
              "      <button class=\"colab-df-convert\" onclick=\"convertToInteractive('df-417b4324-fb29-447f-8027-f26351a06f73')\"\n",
              "              title=\"Convert this dataframe to an interactive table.\"\n",
              "              style=\"display:none;\">\n",
              "        \n",
              "  <svg xmlns=\"http://www.w3.org/2000/svg\" height=\"24px\"viewBox=\"0 0 24 24\"\n",
              "       width=\"24px\">\n",
              "    <path d=\"M0 0h24v24H0V0z\" fill=\"none\"/>\n",
              "    <path d=\"M18.56 5.44l.94 2.06.94-2.06 2.06-.94-2.06-.94-.94-2.06-.94 2.06-2.06.94zm-11 1L8.5 8.5l.94-2.06 2.06-.94-2.06-.94L8.5 2.5l-.94 2.06-2.06.94zm10 10l.94 2.06.94-2.06 2.06-.94-2.06-.94-.94-2.06-.94 2.06-2.06.94z\"/><path d=\"M17.41 7.96l-1.37-1.37c-.4-.4-.92-.59-1.43-.59-.52 0-1.04.2-1.43.59L10.3 9.45l-7.72 7.72c-.78.78-.78 2.05 0 2.83L4 21.41c.39.39.9.59 1.41.59.51 0 1.02-.2 1.41-.59l7.78-7.78 2.81-2.81c.8-.78.8-2.07 0-2.86zM5.41 20L4 18.59l7.72-7.72 1.47 1.35L5.41 20z\"/>\n",
              "  </svg>\n",
              "      </button>\n",
              "      \n",
              "  <style>\n",
              "    .colab-df-container {\n",
              "      display:flex;\n",
              "      flex-wrap:wrap;\n",
              "      gap: 12px;\n",
              "    }\n",
              "\n",
              "    .colab-df-convert {\n",
              "      background-color: #E8F0FE;\n",
              "      border: none;\n",
              "      border-radius: 50%;\n",
              "      cursor: pointer;\n",
              "      display: none;\n",
              "      fill: #1967D2;\n",
              "      height: 32px;\n",
              "      padding: 0 0 0 0;\n",
              "      width: 32px;\n",
              "    }\n",
              "\n",
              "    .colab-df-convert:hover {\n",
              "      background-color: #E2EBFA;\n",
              "      box-shadow: 0px 1px 2px rgba(60, 64, 67, 0.3), 0px 1px 3px 1px rgba(60, 64, 67, 0.15);\n",
              "      fill: #174EA6;\n",
              "    }\n",
              "\n",
              "    [theme=dark] .colab-df-convert {\n",
              "      background-color: #3B4455;\n",
              "      fill: #D2E3FC;\n",
              "    }\n",
              "\n",
              "    [theme=dark] .colab-df-convert:hover {\n",
              "      background-color: #434B5C;\n",
              "      box-shadow: 0px 1px 3px 1px rgba(0, 0, 0, 0.15);\n",
              "      filter: drop-shadow(0px 1px 2px rgba(0, 0, 0, 0.3));\n",
              "      fill: #FFFFFF;\n",
              "    }\n",
              "  </style>\n",
              "\n",
              "      <script>\n",
              "        const buttonEl =\n",
              "          document.querySelector('#df-417b4324-fb29-447f-8027-f26351a06f73 button.colab-df-convert');\n",
              "        buttonEl.style.display =\n",
              "          google.colab.kernel.accessAllowed ? 'block' : 'none';\n",
              "\n",
              "        async function convertToInteractive(key) {\n",
              "          const element = document.querySelector('#df-417b4324-fb29-447f-8027-f26351a06f73');\n",
              "          const dataTable =\n",
              "            await google.colab.kernel.invokeFunction('convertToInteractive',\n",
              "                                                     [key], {});\n",
              "          if (!dataTable) return;\n",
              "\n",
              "          const docLinkHtml = 'Like what you see? Visit the ' +\n",
              "            '<a target=\"_blank\" href=https://colab.research.google.com/notebooks/data_table.ipynb>data table notebook</a>'\n",
              "            + ' to learn more about interactive tables.';\n",
              "          element.innerHTML = '';\n",
              "          dataTable['output_type'] = 'display_data';\n",
              "          await google.colab.output.renderOutput(dataTable, element);\n",
              "          const docLink = document.createElement('div');\n",
              "          docLink.innerHTML = docLinkHtml;\n",
              "          element.appendChild(docLink);\n",
              "        }\n",
              "      </script>\n",
              "    </div>\n",
              "  </div>\n",
              "  "
            ]
          },
          "metadata": {},
          "execution_count": 22
        }
      ]
    },
    {
      "cell_type": "markdown",
      "source": [
        "## Text preprocessing"
      ],
      "metadata": {
        "id": "H8FARUW5--Fp"
      }
    },
    {
      "cell_type": "code",
      "source": [
        "%%time\n",
        "df1['text_clean'] = df1.text.apply(lambda x: preprocess_lemma(x))\n"
      ],
      "metadata": {
        "colab": {
          "base_uri": "https://localhost:8080/"
        },
        "id": "DWTwnsvcM7wB",
        "outputId": "ddf66d09-f41f-4e82-f33d-1376bad3144c"
      },
      "execution_count": null,
      "outputs": [
        {
          "output_type": "stream",
          "name": "stdout",
          "text": [
            "CPU times: user 15.8 s, sys: 210 ms, total: 16 s\n",
            "Wall time: 15.9 s\n"
          ]
        }
      ]
    },
    {
      "cell_type": "code",
      "source": [
        "%%time\n",
        "df1['target'] = df1['target'].apply(lambda x: 1 if x =='POSITIVE' else 0)"
      ],
      "metadata": {
        "colab": {
          "base_uri": "https://localhost:8080/"
        },
        "id": "yWbE-5Y5-1Ra",
        "outputId": "80b82949-2f54-401d-bc37-ffc6153cae9e"
      },
      "execution_count": null,
      "outputs": [
        {
          "output_type": "stream",
          "name": "stdout",
          "text": [
            "CPU times: user 76.5 ms, sys: 0 ns, total: 76.5 ms\n",
            "Wall time: 76.5 ms\n"
          ]
        }
      ]
    },
    {
      "cell_type": "code",
      "source": [
        "pd.options.display.max_colwidth = int(df1['text'].str.len().max()) + 1\n",
        "print(df1.iloc[0:5,5:7])"
      ],
      "metadata": {
        "colab": {
          "base_uri": "https://localhost:8080/"
        },
        "id": "JljwTaPwv-hj",
        "outputId": "9950aaf7-20ba-4bd3-be52-1e70b0abcb35"
      },
      "execution_count": null,
      "outputs": [
        {
          "output_type": "stream",
          "name": "stdout",
          "text": [
            "                                                                                                         text  \\\n",
            "513467                                              Yay for Jon and Kate + 8! boo for having to work at 10am    \n",
            "317873   @TimothyH2O sorry about last night I would have stayed up with you but you weren't here when I left    \n",
            "1106322                                               Good Morning my Twitter Loves.....Have a wonderful day    \n",
            "430836                         @jamesheart24 I am great.. 'Revising' for my last exam  you done all of yours?   \n",
            "1211267                                                     @AmyyVee wehehehehe sorry.... :| ) So whats new?    \n",
            "\n",
            "                                      text_clean  \n",
            "513467              yay jon kate 8 boo work 10am  \n",
            "317873        sorry last night would stayed left  \n",
            "1106322  good morning twitter love wonderful day  \n",
            "430836             great revising last exam done  \n",
            "1211267               wehehehehe sorry whats new  \n"
          ]
        }
      ]
    },
    {
      "cell_type": "code",
      "source": [
        "df1.shape"
      ],
      "metadata": {
        "id": "EcmfuOKaNUGV",
        "colab": {
          "base_uri": "https://localhost:8080/"
        },
        "outputId": "92e14ec9-c4bc-4619-aa9c-5772c7cc0376"
      },
      "execution_count": null,
      "outputs": [
        {
          "output_type": "execute_result",
          "data": {
            "text/plain": [
              "(200000, 7)"
            ]
          },
          "metadata": {},
          "execution_count": 26
        }
      ]
    },
    {
      "cell_type": "code",
      "source": [
        "df1.head()"
      ],
      "metadata": {
        "colab": {
          "base_uri": "https://localhost:8080/",
          "height": 250
        },
        "id": "S_mKWFiEvq47",
        "outputId": "3acdec24-0dfc-406c-b36e-27bfdf5d7af3"
      },
      "execution_count": null,
      "outputs": [
        {
          "output_type": "execute_result",
          "data": {
            "text/plain": [
              "         target         ids                          date      flag  \\\n",
              "513467        0  2190392801  Tue Jun 16 02:35:58 PDT 2009  NO_QUERY   \n",
              "317873        0  2002701375  Tue Jun 02 04:56:34 PDT 2009  NO_QUERY   \n",
              "1106322       1  1971410827  Sat May 30 07:02:48 PDT 2009  NO_QUERY   \n",
              "430836        0  2064416725  Sun Jun 07 06:12:25 PDT 2009  NO_QUERY   \n",
              "1211267       1  1989134863  Mon Jun 01 00:27:37 PDT 2009  NO_QUERY   \n",
              "\n",
              "                   user                                               text  \\\n",
              "513467      ericaaviles  Yay for Jon and Kate + 8! boo for having to wo...   \n",
              "317873        janine_j9  @TimothyH2O sorry about last night I would hav...   \n",
              "1106322  CandisDanielle  Good Morning my Twitter Loves.....Have a wonde...   \n",
              "430836        Portiaism  @jamesheart24 I am great.. 'Revising' for my l...   \n",
              "1211267       fadedmoon  @AmyyVee wehehehehe sorry.... :| ) So whats new?    \n",
              "\n",
              "                                      text_clean  \n",
              "513467              yay jon kate 8 boo work 10am  \n",
              "317873        sorry last night would stayed left  \n",
              "1106322  good morning twitter love wonderful day  \n",
              "430836             great revising last exam done  \n",
              "1211267               wehehehehe sorry whats new  "
            ],
            "text/html": [
              "\n",
              "  <div id=\"df-6cebd0bd-e7e8-4955-a381-02eed967bb91\">\n",
              "    <div class=\"colab-df-container\">\n",
              "      <div>\n",
              "<style scoped>\n",
              "    .dataframe tbody tr th:only-of-type {\n",
              "        vertical-align: middle;\n",
              "    }\n",
              "\n",
              "    .dataframe tbody tr th {\n",
              "        vertical-align: top;\n",
              "    }\n",
              "\n",
              "    .dataframe thead th {\n",
              "        text-align: right;\n",
              "    }\n",
              "</style>\n",
              "<table border=\"1\" class=\"dataframe\">\n",
              "  <thead>\n",
              "    <tr style=\"text-align: right;\">\n",
              "      <th></th>\n",
              "      <th>target</th>\n",
              "      <th>ids</th>\n",
              "      <th>date</th>\n",
              "      <th>flag</th>\n",
              "      <th>user</th>\n",
              "      <th>text</th>\n",
              "      <th>text_clean</th>\n",
              "    </tr>\n",
              "  </thead>\n",
              "  <tbody>\n",
              "    <tr>\n",
              "      <th>513467</th>\n",
              "      <td>0</td>\n",
              "      <td>2190392801</td>\n",
              "      <td>Tue Jun 16 02:35:58 PDT 2009</td>\n",
              "      <td>NO_QUERY</td>\n",
              "      <td>ericaaviles</td>\n",
              "      <td>Yay for Jon and Kate + 8! boo for having to wo...</td>\n",
              "      <td>yay jon kate 8 boo work 10am</td>\n",
              "    </tr>\n",
              "    <tr>\n",
              "      <th>317873</th>\n",
              "      <td>0</td>\n",
              "      <td>2002701375</td>\n",
              "      <td>Tue Jun 02 04:56:34 PDT 2009</td>\n",
              "      <td>NO_QUERY</td>\n",
              "      <td>janine_j9</td>\n",
              "      <td>@TimothyH2O sorry about last night I would hav...</td>\n",
              "      <td>sorry last night would stayed left</td>\n",
              "    </tr>\n",
              "    <tr>\n",
              "      <th>1106322</th>\n",
              "      <td>1</td>\n",
              "      <td>1971410827</td>\n",
              "      <td>Sat May 30 07:02:48 PDT 2009</td>\n",
              "      <td>NO_QUERY</td>\n",
              "      <td>CandisDanielle</td>\n",
              "      <td>Good Morning my Twitter Loves.....Have a wonde...</td>\n",
              "      <td>good morning twitter love wonderful day</td>\n",
              "    </tr>\n",
              "    <tr>\n",
              "      <th>430836</th>\n",
              "      <td>0</td>\n",
              "      <td>2064416725</td>\n",
              "      <td>Sun Jun 07 06:12:25 PDT 2009</td>\n",
              "      <td>NO_QUERY</td>\n",
              "      <td>Portiaism</td>\n",
              "      <td>@jamesheart24 I am great.. 'Revising' for my l...</td>\n",
              "      <td>great revising last exam done</td>\n",
              "    </tr>\n",
              "    <tr>\n",
              "      <th>1211267</th>\n",
              "      <td>1</td>\n",
              "      <td>1989134863</td>\n",
              "      <td>Mon Jun 01 00:27:37 PDT 2009</td>\n",
              "      <td>NO_QUERY</td>\n",
              "      <td>fadedmoon</td>\n",
              "      <td>@AmyyVee wehehehehe sorry.... :| ) So whats new?</td>\n",
              "      <td>wehehehehe sorry whats new</td>\n",
              "    </tr>\n",
              "  </tbody>\n",
              "</table>\n",
              "</div>\n",
              "      <button class=\"colab-df-convert\" onclick=\"convertToInteractive('df-6cebd0bd-e7e8-4955-a381-02eed967bb91')\"\n",
              "              title=\"Convert this dataframe to an interactive table.\"\n",
              "              style=\"display:none;\">\n",
              "        \n",
              "  <svg xmlns=\"http://www.w3.org/2000/svg\" height=\"24px\"viewBox=\"0 0 24 24\"\n",
              "       width=\"24px\">\n",
              "    <path d=\"M0 0h24v24H0V0z\" fill=\"none\"/>\n",
              "    <path d=\"M18.56 5.44l.94 2.06.94-2.06 2.06-.94-2.06-.94-.94-2.06-.94 2.06-2.06.94zm-11 1L8.5 8.5l.94-2.06 2.06-.94-2.06-.94L8.5 2.5l-.94 2.06-2.06.94zm10 10l.94 2.06.94-2.06 2.06-.94-2.06-.94-.94-2.06-.94 2.06-2.06.94z\"/><path d=\"M17.41 7.96l-1.37-1.37c-.4-.4-.92-.59-1.43-.59-.52 0-1.04.2-1.43.59L10.3 9.45l-7.72 7.72c-.78.78-.78 2.05 0 2.83L4 21.41c.39.39.9.59 1.41.59.51 0 1.02-.2 1.41-.59l7.78-7.78 2.81-2.81c.8-.78.8-2.07 0-2.86zM5.41 20L4 18.59l7.72-7.72 1.47 1.35L5.41 20z\"/>\n",
              "  </svg>\n",
              "      </button>\n",
              "      \n",
              "  <style>\n",
              "    .colab-df-container {\n",
              "      display:flex;\n",
              "      flex-wrap:wrap;\n",
              "      gap: 12px;\n",
              "    }\n",
              "\n",
              "    .colab-df-convert {\n",
              "      background-color: #E8F0FE;\n",
              "      border: none;\n",
              "      border-radius: 50%;\n",
              "      cursor: pointer;\n",
              "      display: none;\n",
              "      fill: #1967D2;\n",
              "      height: 32px;\n",
              "      padding: 0 0 0 0;\n",
              "      width: 32px;\n",
              "    }\n",
              "\n",
              "    .colab-df-convert:hover {\n",
              "      background-color: #E2EBFA;\n",
              "      box-shadow: 0px 1px 2px rgba(60, 64, 67, 0.3), 0px 1px 3px 1px rgba(60, 64, 67, 0.15);\n",
              "      fill: #174EA6;\n",
              "    }\n",
              "\n",
              "    [theme=dark] .colab-df-convert {\n",
              "      background-color: #3B4455;\n",
              "      fill: #D2E3FC;\n",
              "    }\n",
              "\n",
              "    [theme=dark] .colab-df-convert:hover {\n",
              "      background-color: #434B5C;\n",
              "      box-shadow: 0px 1px 3px 1px rgba(0, 0, 0, 0.15);\n",
              "      filter: drop-shadow(0px 1px 2px rgba(0, 0, 0, 0.3));\n",
              "      fill: #FFFFFF;\n",
              "    }\n",
              "  </style>\n",
              "\n",
              "      <script>\n",
              "        const buttonEl =\n",
              "          document.querySelector('#df-6cebd0bd-e7e8-4955-a381-02eed967bb91 button.colab-df-convert');\n",
              "        buttonEl.style.display =\n",
              "          google.colab.kernel.accessAllowed ? 'block' : 'none';\n",
              "\n",
              "        async function convertToInteractive(key) {\n",
              "          const element = document.querySelector('#df-6cebd0bd-e7e8-4955-a381-02eed967bb91');\n",
              "          const dataTable =\n",
              "            await google.colab.kernel.invokeFunction('convertToInteractive',\n",
              "                                                     [key], {});\n",
              "          if (!dataTable) return;\n",
              "\n",
              "          const docLinkHtml = 'Like what you see? Visit the ' +\n",
              "            '<a target=\"_blank\" href=https://colab.research.google.com/notebooks/data_table.ipynb>data table notebook</a>'\n",
              "            + ' to learn more about interactive tables.';\n",
              "          element.innerHTML = '';\n",
              "          dataTable['output_type'] = 'display_data';\n",
              "          await google.colab.output.renderOutput(dataTable, element);\n",
              "          const docLink = document.createElement('div');\n",
              "          docLink.innerHTML = docLinkHtml;\n",
              "          element.appendChild(docLink);\n",
              "        }\n",
              "      </script>\n",
              "    </div>\n",
              "  </div>\n",
              "  "
            ]
          },
          "metadata": {},
          "execution_count": 27
        }
      ]
    },
    {
      "cell_type": "markdown",
      "source": [
        "## Making Utitlity functions for Model diagnostics and comparison"
      ],
      "metadata": {
        "id": "rNJTcD4iwbpB"
      }
    },
    {
      "cell_type": "code",
      "source": [
        "def plot_auc_roc(model,X_train, X_test, y_train, y_test):\n",
        "\n",
        "  predicted_class=model.predict(X_test)\n",
        "  predicted_class_train=model.predict(X_train)\n",
        "  test_probs = model.predict_proba(X_test)\n",
        "  test_probs = test_probs[:, 1]\n",
        "  yhat = model.predict(X_test)\n",
        "  lr_precision, lr_recall, _ = precision_recall_curve(y_test, test_probs)\n",
        "  lr_f1, lr_auc = f1_score(y_test, yhat), auc(lr_recall, lr_precision)\n",
        "\n",
        "\n",
        "  print('Train confusion matrix is: ',)\n",
        "  print(confusion_matrix(y_train, predicted_class_train))\n",
        "\n",
        "  print()\n",
        "  print('Test confusion matrix is: ')\n",
        "  print(confusion_matrix(y_test, predicted_class))\n",
        "  print()\n",
        "  print(classification_report(y_test,predicted_class)) \n",
        "  print() \n",
        "  train_accuracy = accuracy_score(y_train,predicted_class_train)\n",
        "  test_accuracy = accuracy_score(y_test,predicted_class)\n",
        "\n",
        "  print(\"Train accuracy score: \", train_accuracy)\n",
        "  print(\"Test accuracy score: \",test_accuracy )\n",
        "  print()\n",
        "  train_auc = roc_auc_score(y_train, model.predict_proba(X_train)[:,1])\n",
        "  test_auc = roc_auc_score(y_test, model.predict_proba(X_test)[:,1])\n",
        "\n",
        "  print(\"Train ROC-AUC score: \", train_auc)\n",
        "  print(\"Test ROC-AUC score: \", test_auc)\n",
        "  fig, (ax1, ax2) = plt.subplots(1, 2)\n",
        "\n",
        "  ax1.plot(lr_recall, lr_precision)\n",
        "  ax1.set(xlabel=\"Recall\", ylabel=\"Precision\")\n",
        "\n",
        "  plt.subplots_adjust(left=0.5,\n",
        "                    bottom=0.1, \n",
        "                    right=1.5, \n",
        "                    top=0.9, \n",
        "                    wspace=0.4, \n",
        "                    hspace=0.4)\n",
        "  print()\n",
        "  print('Area under Precision-Recall curve:', lr_f1)\n",
        "  \n",
        "  fpr, tpr, _ = roc_curve(y_test, test_probs)\n",
        "\n",
        "\n",
        "  ax2.plot(fpr, tpr)\n",
        "  ax2.set(xlabel='False Positive Rate', ylabel='True Positive Rate')\n",
        "\n",
        "  print(\"Area under ROC-AUC:\", lr_auc)\n",
        "  return train_accuracy, test_accuracy, train_auc, test_auc\n",
        "\n",
        "\n",
        "\n",
        "def grid_search(model, parameters, X_train, Y_train):\n",
        "  #Doing a grid\n",
        "  grid = GridSearchCV(estimator=model,\n",
        "                       param_grid = parameters,\n",
        "                       cv = 2, verbose=2, scoring='roc_auc')\n",
        "  #Fitting the grid \n",
        "  grid.fit(X_train,Y_train)\n",
        "  print()\n",
        "  print()\n",
        "  # Best model found using grid search\n",
        "  optimal_model = grid.best_estimator_\n",
        "  print('Best parameters are: ')\n",
        "  print( grid.best_params_)\n",
        "\n",
        "  return optimal_model\n",
        "\n",
        "\n",
        "def model_Evaluate(model):\n",
        "# Predict values for Test dataset\n",
        "  y_pred = model.predict(x_test)\n",
        "  # Print the evaluation metrics for the dataset.\n",
        "  print(classification_report(y_test, y_pred))\n",
        "  # Compute and plot the Confusion matrix\n",
        "  cf_matrix = confusion_matrix(y_test, y_pred)\n",
        "  categories = ['Negative','Positive']\n",
        "  group_names = ['True Neg','False Pos', 'False Neg','True Pos']\n",
        "  group_percentages = ['{0:.2%}'.format(value) for value in cf_matrix.flatten() / np.sum(cf_matrix)]\n",
        "  labels = [f'{v1}n{v2}' for v1, v2 in zip(group_names,group_percentages)]\n",
        "  labels = np.asarray(labels).reshape(2,2)\n",
        "  sns.heatmap(cf_matrix, annot = labels, cmap = 'Blues',fmt = '',\n",
        "  xticklabels = categories, yticklabels = categories)\n",
        "  plt.xlabel(\"Predicted values\", fontdict = {'size':14}, labelpad = 10)\n",
        "  plt.ylabel(\"Actual values\" , fontdict = {'size':14}, labelpad = 10)\n",
        "  plt.title (\"Confusion Matrix\", fontdict = {'size':18}, pad = 20)\n"
      ],
      "metadata": {
        "id": "w07vDvnWwiVv"
      },
      "execution_count": null,
      "outputs": []
    },
    {
      "cell_type": "markdown",
      "source": [
        ""
      ],
      "metadata": {
        "id": "FNqr5ic33k7J"
      }
    },
    {
      "cell_type": "markdown",
      "source": [
        "## Check Distribution of words:\n"
      ],
      "metadata": {
        "id": "UdziTNS9VssA"
      }
    },
    {
      "cell_type": "code",
      "source": [
        "df1_pos = df1.query(\"target == 'POSITIVE'\")\n",
        "df1_neg = df1.query(\"target == 'NEGATIVE'\")\n",
        "\n",
        "print(df1_pos.shape, df1_neg.shape)"
      ],
      "metadata": {
        "colab": {
          "base_uri": "https://localhost:8080/"
        },
        "id": "3VsW-2E1VwoE",
        "outputId": "d8aef40a-eb8c-4312-84f5-582715c908d7"
      },
      "execution_count": null,
      "outputs": [
        {
          "output_type": "stream",
          "name": "stdout",
          "text": [
            "(100000, 7) (100000, 7)\n"
          ]
        }
      ]
    },
    {
      "cell_type": "code",
      "source": [
        "words_in_postweet = [tweet.split() for tweet in df1_pos.text_clean]\n",
        "\n",
        "words_in_negtweet = [tweet.split() for tweet in df1_neg.text_clean]\n"
      ],
      "metadata": {
        "id": "Xhgda6SCaKrs"
      },
      "execution_count": null,
      "outputs": []
    },
    {
      "cell_type": "code",
      "source": [
        "import collections\n",
        "\n",
        "word_pos = list(itertools.chain(*words_in_postweet))\n",
        "word_neg = list(itertools.chain(*words_in_negtweet))\n",
        "\n",
        "# Create counter\n",
        "counts_no_pos = collections.Counter(word_pos)\n",
        "print(counts_no_pos.most_common(15))\n",
        "\n",
        "counts_no_neg = collections.Counter(word_neg)\n",
        "print(counts_no_neg.most_common(15))"
      ],
      "metadata": {
        "colab": {
          "base_uri": "https://localhost:8080/"
        },
        "id": "USWxFqtCbipH",
        "outputId": "37088742-b5b8-4bd6-aef2-bb091017c589"
      },
      "execution_count": null,
      "outputs": [
        {
          "output_type": "stream",
          "name": "stdout",
          "text": [
            "[('good', 7811), ('day', 7142), ('love', 6310), ('quot', 5761), ('u', 4933), ('like', 4873), ('get', 4782), ('thanks', 4419), ('lol', 4406), ('time', 4373), ('going', 3944), ('today', 3925), ('go', 3735), ('one', 3556), ('got', 3496)]\n",
            "[('day', 6507), ('go', 6240), ('get', 5940), ('work', 5895), ('like', 5101), ('today', 4835), ('want', 4347), ('got', 4252), ('going', 4224), ('back', 4054), ('miss', 4011), ('really', 3981), ('im', 3807), ('time', 3799), ('u', 3787)]\n"
          ]
        }
      ]
    },
    {
      "cell_type": "code",
      "source": [
        ""
      ],
      "metadata": {
        "id": "f2VWl78A3q0r"
      },
      "execution_count": null,
      "outputs": []
    },
    {
      "cell_type": "code",
      "source": [
        "counts_no_pos_df = pd.DataFrame(counts_no_pos.most_common(15),\n",
        "                             columns=['words', 'count'])\n",
        "\n",
        "counts_no_pos_df.head()"
      ],
      "metadata": {
        "colab": {
          "base_uri": "https://localhost:8080/",
          "height": 206
        },
        "id": "pFfCIvTzcwZ8",
        "outputId": "ac02fd46-62c9-4fdc-fafd-42af007d89e1"
      },
      "execution_count": null,
      "outputs": [
        {
          "output_type": "execute_result",
          "data": {
            "text/plain": [
              "  words  count\n",
              "0  good   7811\n",
              "1   day   7142\n",
              "2  love   6310\n",
              "3  quot   5761\n",
              "4     u   4933"
            ],
            "text/html": [
              "\n",
              "  <div id=\"df-c60f7b9b-f60f-4cd7-a98d-dacc5ccdb1d7\">\n",
              "    <div class=\"colab-df-container\">\n",
              "      <div>\n",
              "<style scoped>\n",
              "    .dataframe tbody tr th:only-of-type {\n",
              "        vertical-align: middle;\n",
              "    }\n",
              "\n",
              "    .dataframe tbody tr th {\n",
              "        vertical-align: top;\n",
              "    }\n",
              "\n",
              "    .dataframe thead th {\n",
              "        text-align: right;\n",
              "    }\n",
              "</style>\n",
              "<table border=\"1\" class=\"dataframe\">\n",
              "  <thead>\n",
              "    <tr style=\"text-align: right;\">\n",
              "      <th></th>\n",
              "      <th>words</th>\n",
              "      <th>count</th>\n",
              "    </tr>\n",
              "  </thead>\n",
              "  <tbody>\n",
              "    <tr>\n",
              "      <th>0</th>\n",
              "      <td>good</td>\n",
              "      <td>7811</td>\n",
              "    </tr>\n",
              "    <tr>\n",
              "      <th>1</th>\n",
              "      <td>day</td>\n",
              "      <td>7142</td>\n",
              "    </tr>\n",
              "    <tr>\n",
              "      <th>2</th>\n",
              "      <td>love</td>\n",
              "      <td>6310</td>\n",
              "    </tr>\n",
              "    <tr>\n",
              "      <th>3</th>\n",
              "      <td>quot</td>\n",
              "      <td>5761</td>\n",
              "    </tr>\n",
              "    <tr>\n",
              "      <th>4</th>\n",
              "      <td>u</td>\n",
              "      <td>4933</td>\n",
              "    </tr>\n",
              "  </tbody>\n",
              "</table>\n",
              "</div>\n",
              "      <button class=\"colab-df-convert\" onclick=\"convertToInteractive('df-c60f7b9b-f60f-4cd7-a98d-dacc5ccdb1d7')\"\n",
              "              title=\"Convert this dataframe to an interactive table.\"\n",
              "              style=\"display:none;\">\n",
              "        \n",
              "  <svg xmlns=\"http://www.w3.org/2000/svg\" height=\"24px\"viewBox=\"0 0 24 24\"\n",
              "       width=\"24px\">\n",
              "    <path d=\"M0 0h24v24H0V0z\" fill=\"none\"/>\n",
              "    <path d=\"M18.56 5.44l.94 2.06.94-2.06 2.06-.94-2.06-.94-.94-2.06-.94 2.06-2.06.94zm-11 1L8.5 8.5l.94-2.06 2.06-.94-2.06-.94L8.5 2.5l-.94 2.06-2.06.94zm10 10l.94 2.06.94-2.06 2.06-.94-2.06-.94-.94-2.06-.94 2.06-2.06.94z\"/><path d=\"M17.41 7.96l-1.37-1.37c-.4-.4-.92-.59-1.43-.59-.52 0-1.04.2-1.43.59L10.3 9.45l-7.72 7.72c-.78.78-.78 2.05 0 2.83L4 21.41c.39.39.9.59 1.41.59.51 0 1.02-.2 1.41-.59l7.78-7.78 2.81-2.81c.8-.78.8-2.07 0-2.86zM5.41 20L4 18.59l7.72-7.72 1.47 1.35L5.41 20z\"/>\n",
              "  </svg>\n",
              "      </button>\n",
              "      \n",
              "  <style>\n",
              "    .colab-df-container {\n",
              "      display:flex;\n",
              "      flex-wrap:wrap;\n",
              "      gap: 12px;\n",
              "    }\n",
              "\n",
              "    .colab-df-convert {\n",
              "      background-color: #E8F0FE;\n",
              "      border: none;\n",
              "      border-radius: 50%;\n",
              "      cursor: pointer;\n",
              "      display: none;\n",
              "      fill: #1967D2;\n",
              "      height: 32px;\n",
              "      padding: 0 0 0 0;\n",
              "      width: 32px;\n",
              "    }\n",
              "\n",
              "    .colab-df-convert:hover {\n",
              "      background-color: #E2EBFA;\n",
              "      box-shadow: 0px 1px 2px rgba(60, 64, 67, 0.3), 0px 1px 3px 1px rgba(60, 64, 67, 0.15);\n",
              "      fill: #174EA6;\n",
              "    }\n",
              "\n",
              "    [theme=dark] .colab-df-convert {\n",
              "      background-color: #3B4455;\n",
              "      fill: #D2E3FC;\n",
              "    }\n",
              "\n",
              "    [theme=dark] .colab-df-convert:hover {\n",
              "      background-color: #434B5C;\n",
              "      box-shadow: 0px 1px 3px 1px rgba(0, 0, 0, 0.15);\n",
              "      filter: drop-shadow(0px 1px 2px rgba(0, 0, 0, 0.3));\n",
              "      fill: #FFFFFF;\n",
              "    }\n",
              "  </style>\n",
              "\n",
              "      <script>\n",
              "        const buttonEl =\n",
              "          document.querySelector('#df-c60f7b9b-f60f-4cd7-a98d-dacc5ccdb1d7 button.colab-df-convert');\n",
              "        buttonEl.style.display =\n",
              "          google.colab.kernel.accessAllowed ? 'block' : 'none';\n",
              "\n",
              "        async function convertToInteractive(key) {\n",
              "          const element = document.querySelector('#df-c60f7b9b-f60f-4cd7-a98d-dacc5ccdb1d7');\n",
              "          const dataTable =\n",
              "            await google.colab.kernel.invokeFunction('convertToInteractive',\n",
              "                                                     [key], {});\n",
              "          if (!dataTable) return;\n",
              "\n",
              "          const docLinkHtml = 'Like what you see? Visit the ' +\n",
              "            '<a target=\"_blank\" href=https://colab.research.google.com/notebooks/data_table.ipynb>data table notebook</a>'\n",
              "            + ' to learn more about interactive tables.';\n",
              "          element.innerHTML = '';\n",
              "          dataTable['output_type'] = 'display_data';\n",
              "          await google.colab.output.renderOutput(dataTable, element);\n",
              "          const docLink = document.createElement('div');\n",
              "          docLink.innerHTML = docLinkHtml;\n",
              "          element.appendChild(docLink);\n",
              "        }\n",
              "      </script>\n",
              "    </div>\n",
              "  </div>\n",
              "  "
            ]
          },
          "metadata": {},
          "execution_count": 42
        }
      ]
    },
    {
      "cell_type": "code",
      "source": [
        "counts_no_neg_df = pd.DataFrame(counts_no_neg.most_common(15),\n",
        "                             columns=['words', 'count'])\n",
        "\n",
        "counts_no_neg_df.head()"
      ],
      "metadata": {
        "colab": {
          "base_uri": "https://localhost:8080/",
          "height": 206
        },
        "id": "0g1L3FzXddPH",
        "outputId": "0512285b-9640-4d5e-84e7-f21136984077"
      },
      "execution_count": null,
      "outputs": [
        {
          "output_type": "execute_result",
          "data": {
            "text/plain": [
              "  words  count\n",
              "0   day   6507\n",
              "1    go   6240\n",
              "2   get   5940\n",
              "3  work   5895\n",
              "4  like   5101"
            ],
            "text/html": [
              "\n",
              "  <div id=\"df-a85cbb84-6765-4597-bb3e-30b03a5f7336\">\n",
              "    <div class=\"colab-df-container\">\n",
              "      <div>\n",
              "<style scoped>\n",
              "    .dataframe tbody tr th:only-of-type {\n",
              "        vertical-align: middle;\n",
              "    }\n",
              "\n",
              "    .dataframe tbody tr th {\n",
              "        vertical-align: top;\n",
              "    }\n",
              "\n",
              "    .dataframe thead th {\n",
              "        text-align: right;\n",
              "    }\n",
              "</style>\n",
              "<table border=\"1\" class=\"dataframe\">\n",
              "  <thead>\n",
              "    <tr style=\"text-align: right;\">\n",
              "      <th></th>\n",
              "      <th>words</th>\n",
              "      <th>count</th>\n",
              "    </tr>\n",
              "  </thead>\n",
              "  <tbody>\n",
              "    <tr>\n",
              "      <th>0</th>\n",
              "      <td>day</td>\n",
              "      <td>6507</td>\n",
              "    </tr>\n",
              "    <tr>\n",
              "      <th>1</th>\n",
              "      <td>go</td>\n",
              "      <td>6240</td>\n",
              "    </tr>\n",
              "    <tr>\n",
              "      <th>2</th>\n",
              "      <td>get</td>\n",
              "      <td>5940</td>\n",
              "    </tr>\n",
              "    <tr>\n",
              "      <th>3</th>\n",
              "      <td>work</td>\n",
              "      <td>5895</td>\n",
              "    </tr>\n",
              "    <tr>\n",
              "      <th>4</th>\n",
              "      <td>like</td>\n",
              "      <td>5101</td>\n",
              "    </tr>\n",
              "  </tbody>\n",
              "</table>\n",
              "</div>\n",
              "      <button class=\"colab-df-convert\" onclick=\"convertToInteractive('df-a85cbb84-6765-4597-bb3e-30b03a5f7336')\"\n",
              "              title=\"Convert this dataframe to an interactive table.\"\n",
              "              style=\"display:none;\">\n",
              "        \n",
              "  <svg xmlns=\"http://www.w3.org/2000/svg\" height=\"24px\"viewBox=\"0 0 24 24\"\n",
              "       width=\"24px\">\n",
              "    <path d=\"M0 0h24v24H0V0z\" fill=\"none\"/>\n",
              "    <path d=\"M18.56 5.44l.94 2.06.94-2.06 2.06-.94-2.06-.94-.94-2.06-.94 2.06-2.06.94zm-11 1L8.5 8.5l.94-2.06 2.06-.94-2.06-.94L8.5 2.5l-.94 2.06-2.06.94zm10 10l.94 2.06.94-2.06 2.06-.94-2.06-.94-.94-2.06-.94 2.06-2.06.94z\"/><path d=\"M17.41 7.96l-1.37-1.37c-.4-.4-.92-.59-1.43-.59-.52 0-1.04.2-1.43.59L10.3 9.45l-7.72 7.72c-.78.78-.78 2.05 0 2.83L4 21.41c.39.39.9.59 1.41.59.51 0 1.02-.2 1.41-.59l7.78-7.78 2.81-2.81c.8-.78.8-2.07 0-2.86zM5.41 20L4 18.59l7.72-7.72 1.47 1.35L5.41 20z\"/>\n",
              "  </svg>\n",
              "      </button>\n",
              "      \n",
              "  <style>\n",
              "    .colab-df-container {\n",
              "      display:flex;\n",
              "      flex-wrap:wrap;\n",
              "      gap: 12px;\n",
              "    }\n",
              "\n",
              "    .colab-df-convert {\n",
              "      background-color: #E8F0FE;\n",
              "      border: none;\n",
              "      border-radius: 50%;\n",
              "      cursor: pointer;\n",
              "      display: none;\n",
              "      fill: #1967D2;\n",
              "      height: 32px;\n",
              "      padding: 0 0 0 0;\n",
              "      width: 32px;\n",
              "    }\n",
              "\n",
              "    .colab-df-convert:hover {\n",
              "      background-color: #E2EBFA;\n",
              "      box-shadow: 0px 1px 2px rgba(60, 64, 67, 0.3), 0px 1px 3px 1px rgba(60, 64, 67, 0.15);\n",
              "      fill: #174EA6;\n",
              "    }\n",
              "\n",
              "    [theme=dark] .colab-df-convert {\n",
              "      background-color: #3B4455;\n",
              "      fill: #D2E3FC;\n",
              "    }\n",
              "\n",
              "    [theme=dark] .colab-df-convert:hover {\n",
              "      background-color: #434B5C;\n",
              "      box-shadow: 0px 1px 3px 1px rgba(0, 0, 0, 0.15);\n",
              "      filter: drop-shadow(0px 1px 2px rgba(0, 0, 0, 0.3));\n",
              "      fill: #FFFFFF;\n",
              "    }\n",
              "  </style>\n",
              "\n",
              "      <script>\n",
              "        const buttonEl =\n",
              "          document.querySelector('#df-a85cbb84-6765-4597-bb3e-30b03a5f7336 button.colab-df-convert');\n",
              "        buttonEl.style.display =\n",
              "          google.colab.kernel.accessAllowed ? 'block' : 'none';\n",
              "\n",
              "        async function convertToInteractive(key) {\n",
              "          const element = document.querySelector('#df-a85cbb84-6765-4597-bb3e-30b03a5f7336');\n",
              "          const dataTable =\n",
              "            await google.colab.kernel.invokeFunction('convertToInteractive',\n",
              "                                                     [key], {});\n",
              "          if (!dataTable) return;\n",
              "\n",
              "          const docLinkHtml = 'Like what you see? Visit the ' +\n",
              "            '<a target=\"_blank\" href=https://colab.research.google.com/notebooks/data_table.ipynb>data table notebook</a>'\n",
              "            + ' to learn more about interactive tables.';\n",
              "          element.innerHTML = '';\n",
              "          dataTable['output_type'] = 'display_data';\n",
              "          await google.colab.output.renderOutput(dataTable, element);\n",
              "          const docLink = document.createElement('div');\n",
              "          docLink.innerHTML = docLinkHtml;\n",
              "          element.appendChild(docLink);\n",
              "        }\n",
              "      </script>\n",
              "    </div>\n",
              "  </div>\n",
              "  "
            ]
          },
          "metadata": {},
          "execution_count": 43
        }
      ]
    },
    {
      "cell_type": "markdown",
      "source": [
        ""
      ],
      "metadata": {
        "id": "Ue3biYEpaKIb"
      }
    },
    {
      "cell_type": "code",
      "source": [
        "fig, ax = plt.subplots(figsize=(8, 8))\n",
        "\n",
        "# Plot horizontal bar graph\n",
        "counts_no_neg_df.sort_values(by='count').plot.barh(x='words',\n",
        "                      y='count',\n",
        "                      ax=ax,\n",
        "                      color=\"purple\")\n",
        "\n",
        "ax.set_title(\"Common Words Found in Negative Tweets\")\n",
        "\n",
        "plt.show()"
      ],
      "metadata": {
        "colab": {
          "base_uri": "https://localhost:8080/",
          "height": 499
        },
        "id": "JGqXTqiLdqTT",
        "outputId": "82c878f5-e720-403f-d184-42ccddb9f4d2"
      },
      "execution_count": null,
      "outputs": [
        {
          "output_type": "display_data",
          "data": {
            "text/plain": [
              "<Figure size 576x576 with 1 Axes>"
            ],
            "image/png": "[encoded data removed]"
          },
          "metadata": {
            "needs_background": "light"
          }
        }
      ]
    },
    {
      "cell_type": "code",
      "source": [
        ""
      ],
      "metadata": {
        "id": "QFB-vXzEeAMG"
      },
      "execution_count": null,
      "outputs": []
    },
    {
      "cell_type": "code",
      "source": [
        "fig, ax = plt.subplots(figsize=(8, 8))\n",
        "\n",
        "# Plot horizontal bar graph\n",
        "counts_no_pos_df.sort_values(by='count').plot.barh(x='words',\n",
        "                      y='count',\n",
        "                      ax=ax,\n",
        "                      color=\"purple\")\n",
        "\n",
        "ax.set_title(\"Common Words Found in Positive Tweets\")\n",
        "\n",
        "plt.show()"
      ],
      "metadata": {
        "colab": {
          "base_uri": "https://localhost:8080/",
          "height": 499
        },
        "outputId": "d70cf135-f8f5-41f0-883b-d1c1baaa25ae",
        "id": "XSxNLZiEeAfy"
      },
      "execution_count": null,
      "outputs": [
        {
          "output_type": "display_data",
          "data": {
            "text/plain": [
              "<Figure size 576x576 with 1 Axes>"
            ],
            "image/png": "[encoded data removed]"
          },
          "metadata": {
            "needs_background": "light"
          }
        }
      ]
    },
    {
      "cell_type": "markdown",
      "source": [
        "### TF-IDF"
      ],
      "metadata": {
        "id": "PxvJawZ1Ajvd"
      }
    },
    {
      "cell_type": "code",
      "source": [
        "# Creating object of TF-IDF vectorizer\n",
        "vectorizer = TfidfVectorizer(use_idf=True, lowercase=True)\n",
        "X_tf_idf= vectorizer.fit_transform(df1.text_clean)\n",
        "x_train, x_test, y_train, y_test = train_test_split(X_tf_idf, df1['target'],test_size=0.3,random_state=42)\n"
      ],
      "metadata": {
        "id": "B3E8Brmbvw2L"
      },
      "execution_count": null,
      "outputs": []
    },
    {
      "cell_type": "code",
      "source": [
        "x_train.shape"
      ],
      "metadata": {
        "colab": {
          "base_uri": "https://localhost:8080/"
        },
        "id": "MPnZn2e32T_4",
        "outputId": "07d71095-c45f-4701-9285-4a4b09e77acd"
      },
      "execution_count": null,
      "outputs": [
        {
          "output_type": "execute_result",
          "data": {
            "text/plain": [
              "(140000, 83377)"
            ]
          },
          "metadata": {},
          "execution_count": 30
        }
      ]
    },
    {
      "cell_type": "markdown",
      "source": [
        "## Adaboost"
      ],
      "metadata": {
        "id": "Xfq0QFKDv1IW"
      }
    },
    {
      "cell_type": "markdown",
      "source": [
        "Adaboost base model"
      ],
      "metadata": {
        "id": "YjcQ6FvbBQvc"
      }
    },
    {
      "cell_type": "code",
      "source": [
        "AdaBoost_Model = AdaBoostClassifier()\n",
        "AdaBoost_Model.fit(x_train, y_train)\n",
        "model_Evaluate(AdaBoost_Model)\n",
        "#y_pred2 = AdaBoost_Model.predict(x_test)"
      ],
      "metadata": {
        "colab": {
          "base_uri": "https://localhost:8080/",
          "height": 479
        },
        "id": "9BmIAu1eA1hL",
        "outputId": "f8888859-ebe7-4f9b-8fd8-a27434b6f0a6"
      },
      "execution_count": null,
      "outputs": [
        {
          "output_type": "stream",
          "name": "stdout",
          "text": [
            "              precision    recall  f1-score   support\n",
            "\n",
            "           0       0.78      0.43      0.55     29837\n",
            "           1       0.61      0.88      0.72     30163\n",
            "\n",
            "    accuracy                           0.65     60000\n",
            "   macro avg       0.69      0.65      0.63     60000\n",
            "weighted avg       0.69      0.65      0.63     60000\n",
            "\n"
          ]
        },
        {
          "output_type": "display_data",
          "data": {
            "text/plain": [
              "<Figure size 432x288 with 2 Axes>"
            ],
            "image/png": "[encoded data removed]"
          },
          "metadata": {
            "needs_background": "light"
          }
        }
      ]
    },
    {
      "cell_type": "code",
      "source": [
        "a_train_accuracy, a_test_accuracy, a_train_auc, a_test_auc=plot_auc_roc(AdaBoost_Model,x_train,x_test, y_train, y_test)"
      ],
      "metadata": {
        "colab": {
          "base_uri": "https://localhost:8080/",
          "height": 743
        },
        "id": "hn-_Gs8FgKQb",
        "outputId": "0eaac47f-8d69-4ec5-bee2-64aa7bd91022"
      },
      "execution_count": null,
      "outputs": [
        {
          "output_type": "stream",
          "name": "stdout",
          "text": [
            "Train confusion matrix is: \n",
            "[[30144 40019]\n",
            " [ 8264 61573]]\n",
            "\n",
            "Test confusion matrix is: \n",
            "[[12720 17117]\n",
            " [ 3669 26494]]\n",
            "\n",
            "              precision    recall  f1-score   support\n",
            "\n",
            "           0       0.78      0.43      0.55     29837\n",
            "           1       0.61      0.88      0.72     30163\n",
            "\n",
            "    accuracy                           0.65     60000\n",
            "   macro avg       0.69      0.65      0.63     60000\n",
            "weighted avg       0.69      0.65      0.63     60000\n",
            "\n",
            "\n",
            "Train accuracy score:  0.6551214285714285\n",
            "Test accuracy score:  0.6535666666666666\n",
            "\n",
            "Train ROC-AUC score:  0.7320233576793043\n",
            "Test ROC-AUC score:  0.727959178497126\n",
            "\n",
            "Area under Precision-Recall curve: 0.7182476211131292\n",
            "Area under ROC-AUC: 0.7383232488022912\n"
          ]
        },
        {
          "output_type": "display_data",
          "data": {
            "text/plain": [
              "<Figure size 432x288 with 2 Axes>"
            ],
            "image/png": "[encoded data removed]"
          },
          "metadata": {
            "needs_background": "light"
          }
        }
      ]
    },
    {
      "cell_type": "code",
      "source": [
        "param_grid = {\"base_estimator__criterion\" : [\"gini\", \"entropy\"],\n",
        "              \"base_estimator__splitter\" :   [\"best\", \"random\"],\n",
        "              \"n_estimators\": [50,100,200]\n",
        "             }\n",
        "\n",
        "\n",
        "DTC = DecisionTreeClassifier(random_state = 42, max_features = \"auto\", class_weight = \"balanced\",max_depth = None)\n",
        "\n",
        "ABC = AdaBoostClassifier(base_estimator = DTC)\n",
        "\n",
        "# run grid search\n",
        "grid_search_ABC = GridSearchCV(ABC, param_grid=param_grid, scoring = 'roc_auc')"
      ],
      "metadata": {
        "id": "apHwZY-r_jk2"
      },
      "execution_count": null,
      "outputs": []
    },
    {
      "cell_type": "code",
      "source": [
        "print(grid_search_ABC)"
      ],
      "metadata": {
        "colab": {
          "base_uri": "https://localhost:8080/"
        },
        "id": "PG_f6CIbIS0c",
        "outputId": "8ff3e88d-507e-43da-cdc8-48607836a051"
      },
      "execution_count": null,
      "outputs": [
        {
          "output_type": "stream",
          "name": "stdout",
          "text": [
            "GridSearchCV(estimator=AdaBoostClassifier(base_estimator=DecisionTreeClassifier(class_weight='balanced',\n",
            "                                                                                max_features='auto',\n",
            "                                                                                random_state=42)),\n",
            "             param_grid={'base_estimator__criterion': ['gini', 'entropy'],\n",
            "                         'base_estimator__splitter': ['best', 'random'],\n",
            "                         'n_estimators': [50, 100, 200]},\n",
            "             scoring='roc_auc')\n"
          ]
        }
      ]
    },
    {
      "cell_type": "code",
      "source": [
        "grid_search_ABC.fit(x_train, y_train)\n",
        "model_Evaluate(grid_search_ABC)"
      ],
      "metadata": {
        "colab": {
          "base_uri": "https://localhost:8080/",
          "height": 479
        },
        "id": "_73FRXQ7In8p",
        "outputId": "cce63e93-c6c0-4325-ea9b-da7afb7a30ed"
      },
      "execution_count": null,
      "outputs": [
        {
          "output_type": "stream",
          "name": "stdout",
          "text": [
            "              precision    recall  f1-score   support\n",
            "\n",
            "           0       0.70      0.69      0.70     29837\n",
            "           1       0.70      0.70      0.70     30163\n",
            "\n",
            "    accuracy                           0.70     60000\n",
            "   macro avg       0.70      0.70      0.70     60000\n",
            "weighted avg       0.70      0.70      0.70     60000\n",
            "\n"
          ]
        },
        {
          "output_type": "display_data",
          "data": {
            "text/plain": [
              "<Figure size 432x288 with 2 Axes>"
            ],
            "image/png": "[encoded data removed]"
          },
          "metadata": {
            "needs_background": "light"
          }
        }
      ]
    },
    {
      "cell_type": "code",
      "source": [
        "# save the model to disk\n",
        "import pickle\n",
        "filename = 'Adaboost_final.sav'\n",
        "pickle.dump(grid_search_ABC, open(filename, 'wb'))\n",
        " \n"
      ],
      "metadata": {
        "id": "b5ApDWDlBMvB"
      },
      "execution_count": null,
      "outputs": []
    },
    {
      "cell_type": "code",
      "source": [
        "# some time later...\n",
        " \n",
        "# load the model from disk\n",
        "filename = 'Adaboost_final.sav'\n",
        "\n",
        "loaded_model = pickle.load(open(filename, 'rb'))\n",
        "\n",
        "print(loaded_model)"
      ],
      "metadata": {
        "colab": {
          "base_uri": "https://localhost:8080/"
        },
        "id": "22Pt6IR4Bnxu",
        "outputId": "0f7927f6-9353-4ebb-89af-60de8e212385"
      },
      "execution_count": null,
      "outputs": [
        {
          "output_type": "stream",
          "name": "stdout",
          "text": [
            "GridSearchCV(estimator=AdaBoostClassifier(base_estimator=DecisionTreeClassifier(class_weight='balanced',\n",
            "                                                                                max_features='auto',\n",
            "                                                                                random_state=42)),\n",
            "             param_grid={'base_estimator__criterion': ['gini', 'entropy'],\n",
            "                         'base_estimator__splitter': ['best', 'random'],\n",
            "                         'n_estimators': [50, 100, 200]},\n",
            "             scoring='roc_auc')\n"
          ]
        }
      ]
    },
    {
      "cell_type": "code",
      "source": [
        "print(loaded_model.best_params_)"
      ],
      "metadata": {
        "colab": {
          "base_uri": "https://localhost:8080/"
        },
        "id": "pq58AV5XA1Cc",
        "outputId": "a88b3bdb-0290-4c6c-f53b-402016ea6c5a"
      },
      "execution_count": null,
      "outputs": [
        {
          "output_type": "stream",
          "name": "stdout",
          "text": [
            "{'base_estimator__criterion': 'entropy', 'base_estimator__splitter': 'best', 'n_estimators': 200}\n"
          ]
        }
      ]
    },
    {
      "cell_type": "code",
      "source": [
        ""
      ],
      "metadata": {
        "id": "W7g-TySaosPn"
      },
      "execution_count": null,
      "outputs": []
    },
    {
      "cell_type": "code",
      "source": [
        "a_train_accuracy, a_test_accuracy, a_train_auc, a_test_auc=plot_auc_roc(loaded_model,x_train,x_test, y_train, y_test)"
      ],
      "metadata": {
        "colab": {
          "base_uri": "https://localhost:8080/",
          "height": 743
        },
        "id": "NgID_Zxkor15",
        "outputId": "40b69c76-9681-4bb0-be11-0c43f3cbd9e9"
      },
      "execution_count": null,
      "outputs": [
        {
          "output_type": "stream",
          "name": "stdout",
          "text": [
            "Train confusion matrix is: \n",
            "[[69349   814]\n",
            " [  259 69578]]\n",
            "\n",
            "Test confusion matrix is: \n",
            "[[20723  9114]\n",
            " [ 9065 21098]]\n",
            "\n",
            "              precision    recall  f1-score   support\n",
            "\n",
            "           0       0.70      0.69      0.70     29837\n",
            "           1       0.70      0.70      0.70     30163\n",
            "\n",
            "    accuracy                           0.70     60000\n",
            "   macro avg       0.70      0.70      0.70     60000\n",
            "weighted avg       0.70      0.70      0.70     60000\n",
            "\n",
            "\n",
            "Train accuracy score:  0.9923357142857143\n",
            "Test accuracy score:  0.6970166666666666\n",
            "\n",
            "Train ROC-AUC score:  0.9998608812864805\n",
            "Test ROC-AUC score:  0.7562866025319362\n",
            "\n",
            "Area under Precision-Recall curve: 0.6988985507246377\n",
            "Area under ROC-AUC: 0.7446777094672161\n"
          ]
        },
        {
          "output_type": "display_data",
          "data": {
            "text/plain": [
              "<Figure size 432x288 with 2 Axes>"
            ],
            "image/png": "[encoded data removed]"
          },
          "metadata": {
            "needs_background": "light"
          }
        }
      ]
    },
    {
      "cell_type": "markdown",
      "source": [
        "## Logistic Regression"
      ],
      "metadata": {
        "id": "cwDHeH0sDAiG"
      }
    },
    {
      "cell_type": "markdown",
      "source": [
        "Logistic Regression Model with 5 fold CV"
      ],
      "metadata": {
        "id": "1gfPXTCjbwf3"
      }
    },
    {
      "cell_type": "code",
      "source": [
        "logreg = LogisticRegressionCV(Cs=2,max_iter = 1000,scoring = 'accuracy',cv =5)\n"
      ],
      "metadata": {
        "id": "Jmyn3B3-LUXo"
      },
      "execution_count": null,
      "outputs": []
    },
    {
      "cell_type": "code",
      "source": [
        "logreg.fit(x_train, y_train)\n",
        "model_Evaluate(logreg)\n"
      ],
      "metadata": {
        "colab": {
          "base_uri": "https://localhost:8080/",
          "height": 1000
        },
        "id": "Vl9tXx4sohV8",
        "outputId": "5166a1bb-8c12-4401-c28d-013c9f1230c8"
      },
      "execution_count": null,
      "outputs": [
        {
          "output_type": "stream",
          "name": "stderr",
          "text": [
            "/usr/local/lib/python3.7/dist-packages/sklearn/linear_model/_logistic.py:818: ConvergenceWarning: lbfgs failed to converge (status=1):\n",
            "STOP: TOTAL NO. of ITERATIONS REACHED LIMIT.\n",
            "\n",
            "Increase the number of iterations (max_iter) or scale the data as shown in:\n",
            "    https://scikit-learn.org/stable/modules/preprocessing.html\n",
            "Please also refer to the documentation for alternative solver options:\n",
            "    https://scikit-learn.org/stable/modules/linear_model.html#logistic-regression\n",
            "  extra_warning_msg=_LOGISTIC_SOLVER_CONVERGENCE_MSG,\n",
            "/usr/local/lib/python3.7/dist-packages/sklearn/linear_model/_logistic.py:818: ConvergenceWarning: lbfgs failed to converge (status=1):\n",
            "STOP: TOTAL NO. of ITERATIONS REACHED LIMIT.\n",
            "\n",
            "Increase the number of iterations (max_iter) or scale the data as shown in:\n",
            "    https://scikit-learn.org/stable/modules/preprocessing.html\n",
            "Please also refer to the documentation for alternative solver options:\n",
            "    https://scikit-learn.org/stable/modules/linear_model.html#logistic-regression\n",
            "  extra_warning_msg=_LOGISTIC_SOLVER_CONVERGENCE_MSG,\n",
            "/usr/local/lib/python3.7/dist-packages/sklearn/linear_model/_logistic.py:818: ConvergenceWarning: lbfgs failed to converge (status=1):\n",
            "STOP: TOTAL NO. of ITERATIONS REACHED LIMIT.\n",
            "\n",
            "Increase the number of iterations (max_iter) or scale the data as shown in:\n",
            "    https://scikit-learn.org/stable/modules/preprocessing.html\n",
            "Please also refer to the documentation for alternative solver options:\n",
            "    https://scikit-learn.org/stable/modules/linear_model.html#logistic-regression\n",
            "  extra_warning_msg=_LOGISTIC_SOLVER_CONVERGENCE_MSG,\n",
            "/usr/local/lib/python3.7/dist-packages/sklearn/linear_model/_logistic.py:818: ConvergenceWarning: lbfgs failed to converge (status=1):\n",
            "STOP: TOTAL NO. of ITERATIONS REACHED LIMIT.\n",
            "\n",
            "Increase the number of iterations (max_iter) or scale the data as shown in:\n",
            "    https://scikit-learn.org/stable/modules/preprocessing.html\n",
            "Please also refer to the documentation for alternative solver options:\n",
            "    https://scikit-learn.org/stable/modules/linear_model.html#logistic-regression\n",
            "  extra_warning_msg=_LOGISTIC_SOLVER_CONVERGENCE_MSG,\n",
            "/usr/local/lib/python3.7/dist-packages/sklearn/linear_model/_logistic.py:818: ConvergenceWarning: lbfgs failed to converge (status=1):\n",
            "STOP: TOTAL NO. of ITERATIONS REACHED LIMIT.\n",
            "\n",
            "Increase the number of iterations (max_iter) or scale the data as shown in:\n",
            "    https://scikit-learn.org/stable/modules/preprocessing.html\n",
            "Please also refer to the documentation for alternative solver options:\n",
            "    https://scikit-learn.org/stable/modules/linear_model.html#logistic-regression\n",
            "  extra_warning_msg=_LOGISTIC_SOLVER_CONVERGENCE_MSG,\n",
            "/usr/local/lib/python3.7/dist-packages/sklearn/linear_model/_logistic.py:818: ConvergenceWarning: lbfgs failed to converge (status=1):\n",
            "STOP: TOTAL NO. of ITERATIONS REACHED LIMIT.\n",
            "\n",
            "Increase the number of iterations (max_iter) or scale the data as shown in:\n",
            "    https://scikit-learn.org/stable/modules/preprocessing.html\n",
            "Please also refer to the documentation for alternative solver options:\n",
            "    https://scikit-learn.org/stable/modules/linear_model.html#logistic-regression\n",
            "  extra_warning_msg=_LOGISTIC_SOLVER_CONVERGENCE_MSG,\n"
          ]
        },
        {
          "output_type": "stream",
          "name": "stdout",
          "text": [
            "              precision    recall  f1-score   support\n",
            "\n",
            "           0       0.71      0.71      0.71     29837\n",
            "           1       0.71      0.72      0.72     30163\n",
            "\n",
            "    accuracy                           0.71     60000\n",
            "   macro avg       0.71      0.71      0.71     60000\n",
            "weighted avg       0.71      0.71      0.71     60000\n",
            "\n"
          ]
        },
        {
          "output_type": "display_data",
          "data": {
            "text/plain": [
              "<Figure size 432x288 with 2 Axes>"
            ],
            "image/png": "[encoded data removed]"
          },
          "metadata": {
            "needs_background": "light"
          }
        }
      ]
    },
    {
      "cell_type": "code",
      "source": [
        "lr_train_accuracy, lr_test_accuracy, lr_train_auc, lr_test_auc=plot_auc_roc(logreg,x_train,x_test, y_train, y_test)"
      ],
      "metadata": {
        "colab": {
          "base_uri": "https://localhost:8080/",
          "height": 743
        },
        "id": "DOHbMbHTOkYU",
        "outputId": "d63112f5-11c9-4ee0-b186-f312d659132b"
      },
      "execution_count": null,
      "outputs": [
        {
          "output_type": "stream",
          "name": "stdout",
          "text": [
            "Train confusion matrix is: \n",
            "[[61842  8321]\n",
            " [ 7679 62158]]\n",
            "\n",
            "Test confusion matrix is: \n",
            "[[21109  8728]\n",
            " [ 8418 21745]]\n",
            "\n",
            "              precision    recall  f1-score   support\n",
            "\n",
            "           0       0.71      0.71      0.71     29837\n",
            "           1       0.71      0.72      0.72     30163\n",
            "\n",
            "    accuracy                           0.71     60000\n",
            "   macro avg       0.71      0.71      0.71     60000\n",
            "weighted avg       0.71      0.71      0.71     60000\n",
            "\n",
            "\n",
            "Train accuracy score:  0.8857142857142857\n",
            "Test accuracy score:  0.7142333333333334\n",
            "\n",
            "Train ROC-AUC score:  0.9590212433133498\n",
            "Test ROC-AUC score:  0.7556527471531546\n",
            "\n",
            "Area under Precision-Recall curve: 0.7172306880401083\n",
            "Area under ROC-AUC: 0.7172504072271002\n"
          ]
        },
        {
          "output_type": "display_data",
          "data": {
            "text/plain": [
              "<Figure size 432x288 with 2 Axes>"
            ],
            "image/png": "[encoded data removed]"
          },
          "metadata": {
            "needs_background": "light"
          }
        }
      ]
    }
  ]
}